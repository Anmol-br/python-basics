{
 "cells": [
  {
   "cell_type": "code",
   "execution_count": 2,
   "id": "c25fdad8-9e6a-40c1-8571-34a2148f6967",
   "metadata": {},
   "outputs": [
    {
     "name": "stdout",
     "output_type": "stream",
     "text": [
      "ASSIGNMENT : String Based Practice Quesdtions\n"
     ]
    }
   ],
   "source": [
    "print(\"ASSIGNMENT : String Based Practice Quesdtions\")"
   ]
  },
  {
   "cell_type": "code",
   "execution_count": 3,
   "id": "b0ac2660-d8fa-49f7-8aab-49d46500c513",
   "metadata": {},
   "outputs": [
    {
     "name": "stdout",
     "output_type": "stream",
     "text": [
      "TOPIC : String Based Assignment Problem\n"
     ]
    }
   ],
   "source": [
    "print(\"TOPIC : String Based Assignment Problem\")"
   ]
  },
  {
   "cell_type": "code",
   "execution_count": 5,
   "id": "3be30f1a-d98e-4474-b3e3-b8d4314af0a5",
   "metadata": {},
   "outputs": [
    {
     "name": "stdout",
     "output_type": "stream",
     "text": [
      "1. Write a program to reverse a string\n"
     ]
    }
   ],
   "source": [
    "print(\"1. Write a program to reverse a string\")"
   ]
  },
  {
   "cell_type": "code",
   "execution_count": 13,
   "id": "4e0dad79-ff60-4ad9-81dd-35d2184ee9ae",
   "metadata": {},
   "outputs": [
    {
     "name": "stdout",
     "output_type": "stream",
     "text": [
      "The orignal string is :Assignment\n",
      "The reversed string is :tnemngissA\n"
     ]
    }
   ],
   "source": [
    "# Function to reverse a string\n",
    "def reverse(string):\n",
    "    string = string[::-1]\n",
    "    return string\n",
    "s=\"Assignment\"\n",
    "\n",
    "print(\"The orignal string is :\", end=\"\")\n",
    "\n",
    "print(s)\n",
    "\n",
    "print(\"The reversed string is :\", end=\"\")\n",
    "print(reverse(s))"
   ]
  },
  {
   "cell_type": "code",
   "execution_count": 1,
   "id": "4767fcf3-565e-49fe-964c-8cd783f1156a",
   "metadata": {},
   "outputs": [
    {
     "name": "stdout",
     "output_type": "stream",
     "text": [
      "2. Check if program is a palindrome\n"
     ]
    }
   ],
   "source": [
    "print(\"2. Check if program is a palindrome\")"
   ]
  },
  {
   "cell_type": "code",
   "execution_count": 2,
   "id": "ce466627-ab0e-4c70-b449-0e28d43e7579",
   "metadata": {},
   "outputs": [
    {
     "name": "stdout",
     "output_type": "stream",
     "text": [
      "Yes\n"
     ]
    }
   ],
   "source": [
    "# function which is return reverse of string\n",
    "# function to check string is palindrome or not\n",
    "def ispalindrome(s):\n",
    "    return s == s[::-1]\n",
    "\n",
    "s = \"malayalam\"\n",
    "ans = ispalindrome(s)\n",
    "\n",
    "if ans:\n",
    "    print(\"Yes\")\n",
    "else:\n",
    "    print(\"No\")\n"
   ]
  },
  {
   "cell_type": "code",
   "execution_count": 25,
   "id": "7ce1e36f-27c3-4e6c-9b39-0f1b8c2a4be0",
   "metadata": {},
   "outputs": [
    {
     "name": "stdout",
     "output_type": "stream",
     "text": [
      "3. Convert a string to upercase.\n"
     ]
    }
   ],
   "source": [
    "print(\"3. Convert a string to upercase.\")"
   ]
  },
  {
   "cell_type": "code",
   "execution_count": 7,
   "id": "4182c489-b171-48d3-9ce4-4a003c602d0a",
   "metadata": {},
   "outputs": [
    {
     "name": "stdin",
     "output_type": "stream",
     "text": [
      "Enter a string here: hello world\n"
     ]
    },
    {
     "name": "stdout",
     "output_type": "stream",
     "text": [
      "uppercase of hello world is HELLO WORLD.\n"
     ]
    }
   ],
   "source": [
    "input_string = input(\"Enter a string here:\")\n",
    "\n",
    "#get input from user\n",
    "uppercase_string = input_string.upper()\n",
    "\n",
    "#convet the string to uppercase\n",
    "print(f\"uppercase of {input_string} is {uppercase_string}.\")\n",
    "#print the uppercase string"
   ]
  },
  {
   "cell_type": "code",
   "execution_count": 24,
   "id": "29685b3a-cca6-4fe2-aa2e-fd144d8a381c",
   "metadata": {},
   "outputs": [
    {
     "name": "stdout",
     "output_type": "stream",
     "text": [
      "4. Convert a string to lower.\n"
     ]
    }
   ],
   "source": [
    "print(\"4. Convert a string to lower.\")"
   ]
  },
  {
   "cell_type": "code",
   "execution_count": 21,
   "id": "f975eac6-850e-4964-89a2-b9f94db77f05",
   "metadata": {},
   "outputs": [
    {
     "name": "stdout",
     "output_type": "stream",
     "text": [
      "Original string:\n",
      "HELLO WORLD\n",
      "\n",
      "Converted String:\n",
      "hello world\n"
     ]
    }
   ],
   "source": [
    "string = \"HELLO WORLD\"\n",
    "\n",
    "print(\"Original string:\")\n",
    "print(string)\n",
    "\n",
    "# lower() function to convert\n",
    "# string to lower_case\n",
    "print(\"\\nConverted String:\")\n",
    "print(string.lower())"
   ]
  },
  {
   "cell_type": "code",
   "execution_count": 23,
   "id": "f7cc2382-1176-4aed-a057-fa0642897c5b",
   "metadata": {},
   "outputs": [
    {
     "name": "stdout",
     "output_type": "stream",
     "text": [
      "5. Count the number of vowels in string.\n"
     ]
    }
   ],
   "source": [
    "print(\"5. Count the number of vowels in string.\")"
   ]
  },
  {
   "cell_type": "code",
   "execution_count": 30,
   "id": "bb41816c-5f9c-43bd-b409-71041859b952",
   "metadata": {},
   "outputs": [
    {
     "name": "stdin",
     "output_type": "stream",
     "text": [
      "Enter string: hello\n"
     ]
    },
    {
     "name": "stdout",
     "output_type": "stream",
     "text": [
      "No. of vowels are:\n",
      "2\n"
     ]
    }
   ],
   "source": [
    "string =input(\"Enter string:\")\n",
    "vowels = 0\n",
    "for i in string:\n",
    "    if(i=='a' or i=='e' or i=='i' or i=='o' or i=='u' or i=='A' or i=='E' or i=='I' or i=='O' or i=='U'):\n",
    "        vowels=vowels+=1\n",
    "print(\"No. of vowels are:\")\n",
    "print(vowels)"
   ]
  },
  {
   "cell_type": "code",
   "execution_count": 1,
   "id": "5470f763-2b86-409d-a6d7-f24489fc1542",
   "metadata": {},
   "outputs": [
    {
     "name": "stdout",
     "output_type": "stream",
     "text": [
      "6. Count the number of consonants in a string\n"
     ]
    }
   ],
   "source": [
    "print(\"6. Count the number of consonants in a string\")"
   ]
  },
  {
   "cell_type": "code",
   "execution_count": 2,
   "id": "841d9c00-957a-4fd8-96cc-f3978ded48d5",
   "metadata": {},
   "outputs": [
    {
     "name": "stdin",
     "output_type": "stream",
     "text": [
      "Enter any string:  hello python\n"
     ]
    },
    {
     "name": "stdout",
     "output_type": "stream",
     "text": [
      "No of consonants: 9\n"
     ]
    }
   ],
   "source": [
    "# Python program to count consonant in a string\n",
    "\n",
    "def countconsonants(string) :\n",
    "    num_consonants = 0\n",
    "    # to count the consonants\n",
    "    for char in string :\n",
    "        if char not in \"aeiouAEIOU\" :\n",
    "            num_consonants += 1\n",
    "    return num_consonants\n",
    "\n",
    "#take input\n",
    "string = input(\"Enter any string: \")\n",
    "\n",
    "#calling function and display result\n",
    "print('No of consonants:',countconsonants(string))"
   ]
  },
  {
   "cell_type": "code",
   "execution_count": 4,
   "id": "d1d6efa5-5983-42a3-9594-1c5e909c3ac7",
   "metadata": {},
   "outputs": [
    {
     "name": "stdout",
     "output_type": "stream",
     "text": [
      "7. Remove all whitespaces from a string\n"
     ]
    }
   ],
   "source": [
    "print(\"7. Remove all whitespaces from a string\")"
   ]
  },
  {
   "cell_type": "code",
   "execution_count": 6,
   "id": "fa361bcf-7b47-4515-903e-cfc8df4f662a",
   "metadata": {},
   "outputs": [
    {
     "name": "stdout",
     "output_type": "stream",
     "text": [
      "python\n"
     ]
    }
   ],
   "source": [
    "#Remove all space from string\n",
    "\n",
    "def remove(string) :\n",
    "    return string.replace(\" \",\"\")\n",
    "\n",
    "string =\"p  y       t     h o   n\"\n",
    "print(remove(string))"
   ]
  },
  {
   "cell_type": "code",
   "execution_count": 7,
   "id": "6054ee27-5612-4a27-bb54-be6e82115260",
   "metadata": {},
   "outputs": [
    {
     "name": "stdout",
     "output_type": "stream",
     "text": [
      "8. Find the length of a string without using the 'len()' function.\n"
     ]
    }
   ],
   "source": [
    "print(\"8. Find the length of a string without using the 'len()' function.\")"
   ]
  },
  {
   "cell_type": "code",
   "execution_count": 10,
   "id": "54fe460f-3fbe-4ad1-bc9a-e3807e579c52",
   "metadata": {},
   "outputs": [
    {
     "name": "stdout",
     "output_type": "stream",
     "text": [
      "5\n"
     ]
    }
   ],
   "source": [
    "# take user input\n",
    "string = 'hello'\n",
    "count = 0\n",
    "for i in string:\n",
    "    count+=1\n",
    "print(count)    "
   ]
  },
  {
   "cell_type": "code",
   "execution_count": 1,
   "id": "7253c01a-96c6-4fdc-8ea9-ed039edd0599",
   "metadata": {},
   "outputs": [
    {
     "name": "stdout",
     "output_type": "stream",
     "text": [
      "9. Check if a string contains a specific word\n"
     ]
    }
   ],
   "source": [
    "print(\"9. Check if a string contains a specific word\")"
   ]
  },
  {
   "cell_type": "code",
   "execution_count": 3,
   "id": "3cae56fa-de9a-49eb-b5f2-8a2341bf86b3",
   "metadata": {},
   "outputs": [
    {
     "name": "stdin",
     "output_type": "stream",
     "text": [
      "Enter a string happy now\n",
      "Enter the specific word to check for:  hello\n"
     ]
    },
    {
     "name": "stdout",
     "output_type": "stream",
     "text": [
      "the string does not contain the word 'hello'.\n"
     ]
    }
   ],
   "source": [
    "# Input the string and the specific word\n",
    "input_string = input(\"Enter a string\")\n",
    "specific_word = input(\"Enter the specific word to check for: \")\n",
    "\n",
    "# Check if the specific word is present in the string using the 'in' keyword\n",
    "if specific_word in input_string:\n",
    "    #print message if word is present\n",
    "    print(f\"the string contains the word '{specific_word}'.\")\n",
    "else:\n",
    "    #print massage if word is not present\n",
    "    print(f\"the string does not contain the word '{specific_word}'.\")"
   ]
  },
  {
   "cell_type": "code",
   "execution_count": 4,
   "id": "bcaeaaa4-a098-40eb-8a61-e8b74c29564a",
   "metadata": {},
   "outputs": [
    {
     "name": "stdout",
     "output_type": "stream",
     "text": [
      "10. Replace a word in a string with another word\n"
     ]
    }
   ],
   "source": [
    "print(\"10. Replace a word in a string with another word\")"
   ]
  },
  {
   "cell_type": "code",
   "execution_count": 5,
   "id": "8961afe6-eb61-4d58-89de-b8f10d6bb71b",
   "metadata": {},
   "outputs": [
    {
     "name": "stdout",
     "output_type": "stream",
     "text": [
      "great morning\n"
     ]
    }
   ],
   "source": [
    "string = \"happy morning\"\n",
    "new_string = string.replace(\"happy\" , \"great\")\n",
    "print(new_string)"
   ]
  },
  {
   "cell_type": "code",
   "execution_count": 1,
   "id": "74e14a32-7c45-43b4-b517-a72193bac1e9",
   "metadata": {},
   "outputs": [
    {
     "name": "stdout",
     "output_type": "stream",
     "text": [
      "11. Count the occurrences of a word in a string.\n"
     ]
    }
   ],
   "source": [
    "print(\"11. Count the occurrences of a word in a string.\")"
   ]
  },
  {
   "cell_type": "code",
   "execution_count": 4,
   "id": "b0ceed74-d1b6-41d0-8dbd-db1f234ce4c1",
   "metadata": {},
   "outputs": [
    {
     "name": "stdout",
     "output_type": "stream",
     "text": [
      "The word 'is' appears 1 times in the input string.\n"
     ]
    }
   ],
   "source": [
    "def count_word_occurrences(input_string, target_word):\n",
    "    # Step 1: Initialize a variable to keep track of the word count\n",
    "    word_count = 0\n",
    "\n",
    "    # Step 2: Split the input string into a list of words\n",
    "    words = input_string.split()\n",
    "\n",
    "    # Step 3: Iterate through each word in the list\n",
    "    for word in words:\n",
    "        # Step 4: Check if the current word matches the target word\n",
    "        if word == target_word:\n",
    "            # Step 5: Increment the word count if the words match\n",
    "            word_count += 1\n",
    "\n",
    "    # Step 6: Return the final word count\n",
    "    return word_count\n",
    "\n",
    "# Input string\n",
    "input_string = \"pw skills is best platform to learn.\"\n",
    "\n",
    "# Target word to count\n",
    "target_word = \"is\"\n",
    "\n",
    "# Call the function and print the result\n",
    "result = count_word_occurrences(input_string, target_word)\n",
    "print(f\"The word '{target_word}' appears {result} times in the input string.\")"
   ]
  },
  {
   "cell_type": "code",
   "execution_count": 15,
   "id": "738201bb-07fe-443e-898f-098db75768d0",
   "metadata": {},
   "outputs": [
    {
     "name": "stdout",
     "output_type": "stream",
     "text": [
      "12. finding the first occurence of the word in a string.\n"
     ]
    }
   ],
   "source": [
    "print(\"12. finding the first occurence of the word in a string.\")"
   ]
  },
  {
   "cell_type": "code",
   "execution_count": 7,
   "id": "a063a154-7699-4f8f-8a7f-49bca39bad7c",
   "metadata": {},
   "outputs": [
    {
     "name": "stdout",
     "output_type": "stream",
     "text": [
      "Index of the first occurrence: 20\n"
     ]
    }
   ],
   "source": [
    "def find_first_occurrence(text, word):\n",
    "    # Step 1: Find the index of the first occurrence of the word in the text.\n",
    "    index = text.find(word)\n",
    "\n",
    "    # Step 2: Check if the index is -1, indicating that the word was not found.\n",
    "    if index == -1:\n",
    "        return None  # Return None if the word is not found.\n",
    "\n",
    "    # Step 3: Return the index of the first occurrence of the word.\n",
    "    return index\n",
    "\n",
    "# Example usage\n",
    "text = \"are you really that silly or my question is silly?\"\n",
    "word = \"silly\"\n",
    "result = find_first_occurrence(text, word)\n",
    "print(\"Index of the first occurrence:\", result)"
   ]
  },
  {
   "cell_type": "code",
   "execution_count": 14,
   "id": "2ef3a4d2-cdf6-4a48-9668-7df49909537f",
   "metadata": {},
   "outputs": [
    {
     "name": "stdout",
     "output_type": "stream",
     "text": [
      "13. finding the last occurence of a word in a string.\n"
     ]
    }
   ],
   "source": [
    "print(\"13. finding the last occurence of a word in a string.\")"
   ]
  },
  {
   "cell_type": "code",
   "execution_count": 10,
   "id": "de78fe2a-2fa1-45f8-a5c2-3751908ee357",
   "metadata": {},
   "outputs": [
    {
     "name": "stdout",
     "output_type": "stream",
     "text": [
      "Index of the last occurrence: 66\n"
     ]
    }
   ],
   "source": [
    "def find_last_occurrence(text, word):\n",
    "    # Step 1: Find the index of the last occurrence of the word in the text.\n",
    "    index = text.rfind(word)\n",
    "\n",
    "    # Step 2: Check if the index is -1, indicating that the word was not found.\n",
    "    if index == -1:\n",
    "        return None  # Return None if the word is not found.\n",
    "\n",
    "    # Step 3: Return the index of the last occurrence of the word.\n",
    "    return index\n",
    "\n",
    "# Example usage\n",
    "text = \"This is an example sentence. This sentence also contains the word example.\"\n",
    "word = \"example\"\n",
    "result = find_last_occurrence(text, word)\n",
    "print(\"Index of the last occurrence:\", result)"
   ]
  },
  {
   "cell_type": "code",
   "execution_count": 16,
   "id": "2c59726f-59a0-4906-8f0c-54080f3bb7ab",
   "metadata": {},
   "outputs": [
    {
     "name": "stdout",
     "output_type": "stream",
     "text": [
      "14. Split a string into a list of words.\n"
     ]
    }
   ],
   "source": [
    "print(\"14. Split a string into a list of words.\")"
   ]
  },
  {
   "cell_type": "code",
   "execution_count": 13,
   "id": "98b3d970-6df4-45c5-bea0-1ab2a48766d8",
   "metadata": {},
   "outputs": [
    {
     "name": "stdout",
     "output_type": "stream",
     "text": [
      "['one', 'two', 'three']\n"
     ]
    }
   ],
   "source": [
    "string = \"one,two,three\"\n",
    "words = string.split(',')\n",
    "print(words)"
   ]
  },
  {
   "cell_type": "code",
   "execution_count": 17,
   "id": "e6330339-cf14-4b10-93ee-58bd81915cac",
   "metadata": {},
   "outputs": [
    {
     "name": "stdout",
     "output_type": "stream",
     "text": [
      "15. Join a list of words into a string.\n"
     ]
    }
   ],
   "source": [
    "print(\"15. Join a list of words into a string.\")"
   ]
  },
  {
   "cell_type": "code",
   "execution_count": 18,
   "id": "c5ae88a1-8dcc-4505-82fd-0e5a307d818b",
   "metadata": {},
   "outputs": [
    {
     "name": "stdout",
     "output_type": "stream",
     "text": [
      "Joined string: welcome to the jungle\n"
     ]
    }
   ],
   "source": [
    "def join_words_into_string(words_list):\n",
    "    # Step 1: Use the join() method to join the words in the list into a single string.\n",
    "    joined_string = ' '.join(words_list)\n",
    "\n",
    "    # Step 2: Return the joined string.\n",
    "    return joined_string\n",
    "\n",
    "# Example usage\n",
    "words = [\"welcome\",\"to\",\"the\",\"jungle\"]\n",
    "text = join_words_into_string(words)\n",
    "print(\"Joined string:\", text)"
   ]
  },
  {
   "cell_type": "code",
   "execution_count": 20,
   "id": "41f906de-9bbc-498f-a69f-2aafd732be01",
   "metadata": {},
   "outputs": [
    {
     "name": "stdout",
     "output_type": "stream",
     "text": [
      "16. Convert a string where words are separated by spaces to one where wordsare separated by underscores.\n"
     ]
    }
   ],
   "source": [
    "print(\"16. Convert a string where words are separated by spaces to one where wordsare separated by underscores.\")"
   ]
  },
  {
   "cell_type": "code",
   "execution_count": 22,
   "id": "2a04fcc3-9f54-48fb-abff-3f334b91884a",
   "metadata": {},
   "outputs": [
    {
     "name": "stdout",
     "output_type": "stream",
     "text": [
      "Converted text: python_is_best.\n"
     ]
    }
   ],
   "source": [
    "def convert_to_underscore_separated(text):\n",
    "    # Step 1: Use the replace() method to replace spaces with underscores.\n",
    "    underscore_separated = text.replace(\" \", \"_\")\n",
    "\n",
    "    # Step 2: Return the converted string.\n",
    "    return underscore_separated\n",
    "\n",
    "# Example usage\n",
    "text = \"python is best.\"\n",
    "converted_text = convert_to_underscore_separated(text)\n",
    "print(\"Converted text:\", converted_text)"
   ]
  },
  {
   "cell_type": "code",
   "execution_count": 23,
   "id": "f18f597b-821c-4113-8ced-5133ea33cf1f",
   "metadata": {},
   "outputs": [
    {
     "name": "stdout",
     "output_type": "stream",
     "text": [
      "17. Check if a string starts with a specific word or phrase.\n"
     ]
    }
   ],
   "source": [
    "print(\"17. Check if a string starts with a specific word or phrase.\")"
   ]
  },
  {
   "cell_type": "code",
   "execution_count": 24,
   "id": "5d5d0cf5-e3b0-47ee-918e-c78d61f62aff",
   "metadata": {},
   "outputs": [
    {
     "name": "stdout",
     "output_type": "stream",
     "text": [
      "The text starts with the prefix.\n"
     ]
    }
   ],
   "source": [
    "def starts_with(text, prefix):\n",
    "    # Step 1: Use the startswith() method to check if the text starts with the specified prefix.\n",
    "    is_start = text.startswith(prefix)\n",
    "\n",
    "    # Step 2: Return the result of the check.\n",
    "    return is_start\n",
    "\n",
    "# Example usage\n",
    "text = \"black pink and bts\"\n",
    "prefix = \"black\"\n",
    "result = starts_with(text, prefix)\n",
    "if result:\n",
    "    print(\"The text starts with the prefix.\")\n",
    "else:\n",
    "    print(\"The text does not start with the prefix.\")"
   ]
  },
  {
   "cell_type": "code",
   "execution_count": 26,
   "id": "59873ebb-6fa3-427b-be0d-91187bd4f2b2",
   "metadata": {},
   "outputs": [
    {
     "name": "stdout",
     "output_type": "stream",
     "text": [
      "18. Check if a string ends with a specific word or phrase.\n"
     ]
    }
   ],
   "source": [
    "print(\"18. Check if a string ends with a specific word or phrase.\")"
   ]
  },
  {
   "cell_type": "code",
   "execution_count": 27,
   "id": "eba9e7bb-2dfa-4f8b-89ee-5784968d115a",
   "metadata": {},
   "outputs": [
    {
     "name": "stdout",
     "output_type": "stream",
     "text": [
      "The text ends with the suffix.\n"
     ]
    }
   ],
   "source": [
    "def ends_with(text, suffix):\n",
    "    # Step 1: Use the endswith() method to check if the text ends with the specified suffix.\n",
    "    is_end = text.endswith(suffix)\n",
    "\n",
    "    # Step 2: Return the result of the check.\n",
    "    return is_end\n",
    "\n",
    "# Example usage\n",
    "text = \"The way of water\"\n",
    "suffix = \"water\"\n",
    "result = ends_with(text, suffix)\n",
    "if result:\n",
    "    print(\"The text ends with the suffix.\")\n",
    "else:\n",
    "    print(\"The text does not end with the suffix.\")"
   ]
  },
  {
   "cell_type": "code",
   "execution_count": 29,
   "id": "2214153e-939a-4756-96e9-f8e4b0d15ea3",
   "metadata": {},
   "outputs": [
    {
     "name": "stdout",
     "output_type": "stream",
     "text": [
      "19. Convert a string to title case (e.g., \"hello world\" to \"Hello World.\")\n"
     ]
    }
   ],
   "source": [
    "print('19. Convert a string to title case (e.g., \"hello world\" to \"Hello World.\")')"
   ]
  },
  {
   "cell_type": "code",
   "execution_count": 31,
   "id": "843a6a01-f213-4b3e-b5da-26b5613ca62b",
   "metadata": {},
   "outputs": [
    {
     "name": "stdout",
     "output_type": "stream",
     "text": [
      "Title case: My Journey\n"
     ]
    }
   ],
   "source": [
    "def convert_to_title_case(text):\n",
    "    # Step 1: Use the title() method to convert the text to title case.\n",
    "    title_case_text = text.title()\n",
    "\n",
    "    # Step 2: Return the converted text.\n",
    "    return title_case_text\n",
    "\n",
    "# Example usage\n",
    "text = \"My Journey\"\n",
    "title_case_result = convert_to_title_case(text)\n",
    "print(\"Title case:\", title_case_result)"
   ]
  },
  {
   "cell_type": "code",
   "execution_count": 32,
   "id": "b51e1771-aef2-4f4b-a05e-822ad329e9d7",
   "metadata": {},
   "outputs": [
    {
     "name": "stdout",
     "output_type": "stream",
     "text": [
      "20. Find the longest word in a string.\n"
     ]
    }
   ],
   "source": [
    "print(\"20. Find the longest word in a string.\")"
   ]
  },
  {
   "cell_type": "code",
   "execution_count": 33,
   "id": "01e8aa0e-3aa6-4627-ad82-800c0996081d",
   "metadata": {},
   "outputs": [
    {
     "name": "stdout",
     "output_type": "stream",
     "text": [
      "Longest word: longest\n"
     ]
    }
   ],
   "source": [
    "def find_longest_word(text):\n",
    "    # Step 1: Use the split() method to split the text into a list of words.\n",
    "    words = text.split()\n",
    "\n",
    "    # Step 2: Initialize variables to keep track of the longest word and its length.\n",
    "    longest_word = \"\"\n",
    "    max_length = 0\n",
    "\n",
    "    # Step 3: Iterate through the list of words.\n",
    "    for word in words:\n",
    "        # Check if the length of the current word is greater than the current max_length.\n",
    "        if len(word) > max_length:\n",
    "            max_length = len(word)\n",
    "            longest_word = word\n",
    "\n",
    "    # Step 4: Return the longest word.\n",
    "    return longest_word\n",
    "\n",
    "# Example usage\n",
    "text = \"the longest word is very long.\"\n",
    "longest_word = find_longest_word(text)\n",
    "print(\"Longest word:\", longest_word)"
   ]
  },
  {
   "cell_type": "code",
   "execution_count": 34,
   "id": "b418a57a-3e90-4bb8-bbc5-c9f1090cba97",
   "metadata": {},
   "outputs": [
    {
     "name": "stdout",
     "output_type": "stream",
     "text": [
      "21. Find the shortest word in a string.\n"
     ]
    }
   ],
   "source": [
    "print(\"21. Find the shortest word in a string.\")"
   ]
  },
  {
   "cell_type": "code",
   "execution_count": 36,
   "id": "57ae20e0-4d60-470d-8fda-b9d7c67445e2",
   "metadata": {},
   "outputs": [
    {
     "name": "stdout",
     "output_type": "stream",
     "text": [
      "shortest word: this\n"
     ]
    }
   ],
   "source": [
    "def find_shortest_word(text):\n",
    "    words = text.split()\n",
    "    shortest_word = None\n",
    "    min_length = float('inf')\n",
    "\n",
    "    for word in words:\n",
    "        if len(word) < min_length:\n",
    "            min_length = len(word)\n",
    "            shortest_word = word\n",
    "    return shortest_word     \n",
    "\n",
    "text = \"this sentence contain some short words\"\n",
    "shortest_word = find_shortest_word(text)\n",
    "print(\"shortest word:\",shortest_word)"
   ]
  },
  {
   "cell_type": "code",
   "execution_count": 37,
   "id": "5beefaab-3846-474c-ad68-2cf6987b1d0a",
   "metadata": {},
   "outputs": [
    {
     "name": "stdout",
     "output_type": "stream",
     "text": [
      "22. Reverse the order of words in a string.\n"
     ]
    }
   ],
   "source": [
    "print(\"22. Reverse the order of words in a string.\")"
   ]
  },
  {
   "cell_type": "code",
   "execution_count": 38,
   "id": "649844db-e408-43cc-bb16-a591e1c50194",
   "metadata": {},
   "outputs": [
    {
     "name": "stdout",
     "output_type": "stream",
     "text": [
      "original string :  Welcome to python programming.\n",
      "After reversing the order of words the string is: programming. python to Welcome \n"
     ]
    }
   ],
   "source": [
    "# Example string:\n",
    "string = \" Welcome to python programming.\"\n",
    "print(\"original string :\",string)\n",
    "words = string.split(\" \")\n",
    "#now reverse the strings in word:\n",
    "reverse = words[-1::-1]\n",
    "#now join the words to obtain the reversed string:\n",
    "output = ' '.join(reverse)\n",
    "print(\"After reversing the order of words the string is:\",output)"
   ]
  },
  {
   "cell_type": "code",
   "execution_count": 39,
   "id": "fc76e150-6f19-4694-9a5b-5e480509b51f",
   "metadata": {},
   "outputs": [
    {
     "name": "stdout",
     "output_type": "stream",
     "text": [
      "23. Check if a string is alphanumeric.\n"
     ]
    }
   ],
   "source": [
    "print(\"23. Check if a string is alphanumeric.\")"
   ]
  },
  {
   "cell_type": "code",
   "execution_count": 40,
   "id": "57a204c8-6d8d-4ed5-b31b-d5d800077416",
   "metadata": {},
   "outputs": [
    {
     "name": "stdout",
     "output_type": "stream",
     "text": [
      "The string is alphanumeric.\n"
     ]
    }
   ],
   "source": [
    "def is_alphanumeric(text):\n",
    "    # Step 1: Use the isalnum() method to check if the string is alphanumeric.\n",
    "    return text.isalnum()\n",
    "\n",
    "# Example usage\n",
    "text = \"Hello123\"\n",
    "result = is_alphanumeric(text)\n",
    "if result:\n",
    "    print(\"The string is alphanumeric.\")\n",
    "else:\n",
    "    print(\"The string is not alphanumeric.\")"
   ]
  },
  {
   "cell_type": "code",
   "execution_count": 41,
   "id": "0a64d582-2e7d-4b6d-b7fd-e8f02c4cb9e1",
   "metadata": {},
   "outputs": [
    {
     "name": "stdout",
     "output_type": "stream",
     "text": [
      "24. Extract all digits from a string.\n"
     ]
    }
   ],
   "source": [
    "print(\"24. Extract all digits from a string.\")"
   ]
  },
  {
   "cell_type": "code",
   "execution_count": 42,
   "id": "128534f8-779d-48b2-9fc0-640cc06579e0",
   "metadata": {},
   "outputs": [
    {
     "name": "stdout",
     "output_type": "stream",
     "text": [
      "Extracted digits: 123456\n"
     ]
    }
   ],
   "source": [
    "def extract_digits(text):\n",
    "    # Step 1: Initialize an empty string to store the extracted digits.\n",
    "    digits = \"\"\n",
    "\n",
    "    # Step 2: Iterate through each character in the text.\n",
    "    for char in text:\n",
    "        # Check if the character is a digit using the isdigit() method.\n",
    "        if char.isdigit():\n",
    "            # Append the digit to the digits string.\n",
    "            digits += char\n",
    "\n",
    "    # Step 3: Return the extracted digits.\n",
    "    return digits\n",
    "\n",
    "# Example usage\n",
    "text = \"Hello123World456\"\n",
    "extracted_digits = extract_digits(text)\n",
    "print(\"Extracted digits:\", extracted_digits)"
   ]
  },
  {
   "cell_type": "code",
   "execution_count": 43,
   "id": "0371d1c8-07c9-4ada-8055-ac4daa474940",
   "metadata": {},
   "outputs": [
    {
     "name": "stdout",
     "output_type": "stream",
     "text": [
      "25. Extract all alphabets from a string.\n"
     ]
    }
   ],
   "source": [
    "print(\"25. Extract all alphabets from a string.\")"
   ]
  },
  {
   "cell_type": "code",
   "execution_count": 44,
   "id": "f3312668-934d-4fd6-9924-380a3af87139",
   "metadata": {},
   "outputs": [
    {
     "name": "stdout",
     "output_type": "stream",
     "text": [
      "H e l l o W o r l d\n"
     ]
    }
   ],
   "source": [
    "def extract_alphabets(input_string):\n",
    "    alphabets = ' '.join([char for char in input_string if char.isalpha()])\n",
    "    return alphabets\n",
    "\n",
    "# Example input string\n",
    "input_string = \"Hello123World456\"\n",
    "result = extract_alphabets(input_string)\n",
    "print(result)"
   ]
  },
  {
   "cell_type": "code",
   "execution_count": 45,
   "id": "533dc624-3665-4213-afb6-5782ca48667f",
   "metadata": {},
   "outputs": [
    {
     "name": "stdout",
     "output_type": "stream",
     "text": [
      "26. Count the number of uppercase letters in a string.\n"
     ]
    }
   ],
   "source": [
    "print(\"26. Count the number of uppercase letters in a string.\")"
   ]
  },
  {
   "cell_type": "code",
   "execution_count": 46,
   "id": "90b7d4d7-f6b6-421f-b008-7f0eb00df63d",
   "metadata": {},
   "outputs": [
    {
     "name": "stdout",
     "output_type": "stream",
     "text": [
      "5\n"
     ]
    }
   ],
   "source": [
    "def count_uppercase(input_string):\n",
    "    uppercase_count = sum(1 for char in input_string if char.isupper())\n",
    "    return uppercase_count\n",
    "\n",
    "# Example input string\n",
    "input_string = \"HelloWOrLD\"\n",
    "result = count_uppercase(input_string)\n",
    "print(result)"
   ]
  },
  {
   "cell_type": "code",
   "execution_count": 47,
   "id": "cf07c0c7-35d2-45f6-b67a-44d7bf639961",
   "metadata": {},
   "outputs": [
    {
     "name": "stdout",
     "output_type": "stream",
     "text": [
      "27. Count the number of lowercase letters in a string.\n"
     ]
    }
   ],
   "source": [
    "print(\"27. Count the number of lowercase letters in a string.\")"
   ]
  },
  {
   "cell_type": "code",
   "execution_count": 50,
   "id": "18007767-779e-442a-a841-e4756c948915",
   "metadata": {},
   "outputs": [
    {
     "name": "stdout",
     "output_type": "stream",
     "text": [
      "4\n"
     ]
    }
   ],
   "source": [
    "def count_lowercase(input_string):\n",
    "    lowercase_count = sum(1 for char in input_string if char.islower())\n",
    "    return lowercase_count\n",
    "\n",
    "# Example input string\n",
    "input_string = \"HelloWORLD\"\n",
    "result = count_lowercase(input_string)\n",
    "print(result)"
   ]
  },
  {
   "cell_type": "code",
   "execution_count": 51,
   "id": "e669e439-99f2-42c5-a1c8-d4f78569aabe",
   "metadata": {},
   "outputs": [
    {
     "name": "stdout",
     "output_type": "stream",
     "text": [
      "28. Swap the case of each character in a string.\n"
     ]
    }
   ],
   "source": [
    "print(\"28. Swap the case of each character in a string.\")"
   ]
  },
  {
   "cell_type": "code",
   "execution_count": 52,
   "id": "706e3d5d-0041-4bfe-a9be-b133f2885775",
   "metadata": {},
   "outputs": [
    {
     "name": "stdout",
     "output_type": "stream",
     "text": [
      "hELLOworld\n"
     ]
    }
   ],
   "source": [
    "def swap_case(input_string):\n",
    "    swapped_string = input_string.swapcase()\n",
    "    return swapped_string\n",
    "\n",
    "# Example input string\n",
    "input_string = \"HelloWORLD\"\n",
    "result = swap_case(input_string)\n",
    "print(result)"
   ]
  },
  {
   "cell_type": "code",
   "execution_count": 53,
   "id": "c6aba342-fc05-40dd-8e57-ae7e97f826a5",
   "metadata": {},
   "outputs": [
    {
     "name": "stdout",
     "output_type": "stream",
     "text": [
      "29. Remove a specific word from a string.\n"
     ]
    }
   ],
   "source": [
    "print(\"29. Remove a specific word from a string.\")"
   ]
  },
  {
   "cell_type": "code",
   "execution_count": 55,
   "id": "2fd0b13c-08e2-41b8-94fd-d72041fc6d80",
   "metadata": {},
   "outputs": [
    {
     "name": "stdout",
     "output_type": "stream",
     "text": [
      "Hello world, welcome to the of programing.\n"
     ]
    }
   ],
   "source": [
    "def remove_word(input_string, word_to_remove):\n",
    "    words = input_string.split()  # Split the input string into a list of words\n",
    "    filtered_words = [word for word in words if word != word_to_remove]  # Create a new list excluding the word to remove\n",
    "    modified_string = ' '.join(filtered_words)  # Join the filtered words back into a string\n",
    "    return modified_string\n",
    "\n",
    "# Example input string and word to remove\n",
    "input_string = \"Hello world, welcome to the world of programing.\"\n",
    "word_to_remove = \"world\"\n",
    "result = remove_word(input_string, word_to_remove)\n",
    "print(result)"
   ]
  },
  {
   "cell_type": "code",
   "execution_count": 57,
   "id": "52d7d80f-db9f-4248-a563-a0ac981723ff",
   "metadata": {},
   "outputs": [
    {
     "name": "stdout",
     "output_type": "stream",
     "text": [
      "30. Check if a string is a valid email address.\n"
     ]
    }
   ],
   "source": [
    "print(\"30. Check if a string is a valid email address.\")"
   ]
  },
  {
   "cell_type": "code",
   "execution_count": 58,
   "id": "4a493866-cfa0-4299-b89a-980e58333123",
   "metadata": {},
   "outputs": [
    {
     "name": "stdout",
     "output_type": "stream",
     "text": [
      "True\n",
      "False\n"
     ]
    }
   ],
   "source": [
    "import re  # Import the regular expression module\n",
    "\n",
    "def is_valid_email(email):\n",
    "    pattern = r'^[\\w\\.-]+@[\\w\\.-]+\\.\\w+$'  # Regular expression pattern for a basic email validation\n",
    "    if re.match(pattern, email):\n",
    "        return True\n",
    "    else:\n",
    "        return False\n",
    "\n",
    "# Example email addresses\n",
    "email1 = \"example@email.com\"\n",
    "email2 = \"invalid-email\"\n",
    "result1 = is_valid_email(email1)\n",
    "result2 = is_valid_email(email2)\n",
    "print(result1)\n",
    "print(result2)"
   ]
  },
  {
   "cell_type": "code",
   "execution_count": 59,
   "id": "ddba53db-aa73-4746-9ce3-0cc9c1a8239d",
   "metadata": {},
   "outputs": [
    {
     "name": "stdout",
     "output_type": "stream",
     "text": [
      "31. Extract the username from an email address string.\n"
     ]
    }
   ],
   "source": [
    "print(\"31. Extract the username from an email address string.\")"
   ]
  },
  {
   "cell_type": "code",
   "execution_count": 60,
   "id": "c04436b9-43b4-4e56-93c4-d99d0cf0f08a",
   "metadata": {},
   "outputs": [
    {
     "name": "stdout",
     "output_type": "stream",
     "text": [
      "example\n"
     ]
    }
   ],
   "source": [
    "def extract_username(email):\n",
    "    username = email.split('@')[0]  # Split the email address at \"@\" and take the first part\n",
    "    return username\n",
    "\n",
    "# Example email address\n",
    "email = \"example@email.com\"\n",
    "result = extract_username(email)\n",
    "print(result)"
   ]
  },
  {
   "cell_type": "code",
   "execution_count": 61,
   "id": "9cce72be-a8ec-4941-b69e-230a4a864970",
   "metadata": {},
   "outputs": [
    {
     "name": "stdout",
     "output_type": "stream",
     "text": [
      "32. Extract the domain name from an email address string.\n"
     ]
    }
   ],
   "source": [
    "print(\"32. Extract the domain name from an email address string.\")"
   ]
  },
  {
   "cell_type": "code",
   "execution_count": 62,
   "id": "1261d446-31f9-4955-865d-1f933296db10",
   "metadata": {},
   "outputs": [
    {
     "name": "stdout",
     "output_type": "stream",
     "text": [
      "email.com\n"
     ]
    }
   ],
   "source": [
    "def extract_domain(email):\n",
    "    domain = email.split('@')[1]  # Split the email address at \"@\" and take the second part\n",
    "    return domain\n",
    "\n",
    "# Example email address\n",
    "email = \"example@email.com\"\n",
    "result = extract_domain(email)\n",
    "print(result)"
   ]
  },
  {
   "cell_type": "code",
   "execution_count": 63,
   "id": "a2fd34b8-6be5-4698-8e9e-3007ddb548d1",
   "metadata": {},
   "outputs": [
    {
     "name": "stdout",
     "output_type": "stream",
     "text": [
      "33. Replace multiple spaces in a string with a single space.\n"
     ]
    }
   ],
   "source": [
    "print(\"33. Replace multiple spaces in a string with a single space.\")"
   ]
  },
  {
   "cell_type": "code",
   "execution_count": 64,
   "id": "e9f7d46b-05d5-4ad4-b2fb-e3b9e3e8d449",
   "metadata": {},
   "outputs": [
    {
     "name": "stdout",
     "output_type": "stream",
     "text": [
      "Hello world! How are you?\n"
     ]
    }
   ],
   "source": [
    "def replace_multiple_spaces(input_string):\n",
    "    cleaned_string = ' '.join(input_string.split())  # Split the string at spaces and then join using a single space\n",
    "    return cleaned_string\n",
    "\n",
    "# Example input string with multiple spaces\n",
    "input_string = \"Hello     world!   How   are   you?\"\n",
    "result = replace_multiple_spaces(input_string) \n",
    "print(result)"
   ]
  },
  {
   "cell_type": "code",
   "execution_count": 65,
   "id": "af3f07e5-786c-4193-9a24-7ed2fa2e7b65",
   "metadata": {},
   "outputs": [
    {
     "name": "stdout",
     "output_type": "stream",
     "text": [
      "34. Check if a string is a valid URL.\n"
     ]
    }
   ],
   "source": [
    "print(\"34. Check if a string is a valid URL.\")"
   ]
  },
  {
   "cell_type": "code",
   "execution_count": 66,
   "id": "553abc40-85e0-48ee-8e0b-7de5e4507a8a",
   "metadata": {},
   "outputs": [
    {
     "name": "stdout",
     "output_type": "stream",
     "text": [
      "True\n",
      "False\n"
     ]
    }
   ],
   "source": [
    "from urllib.parse import urlparse\n",
    "\n",
    "def is_valid_url(url):\n",
    "    try:\n",
    "        result = urlparse(url)\n",
    "        return all([result.scheme, result.netloc])  # Check if both scheme and netloc are present\n",
    "    except ValueError:\n",
    "        return False\n",
    "\n",
    "# Example URLs\n",
    "url1 = \"https://www.example.com\"\n",
    "url2 = \"invalid-url\"\n",
    "result1 = is_valid_url(url1)\n",
    "result2 = is_valid_url(url2)\n",
    "print(result1)  # Should print True\n",
    "print(result2)  # Should print False"
   ]
  },
  {
   "cell_type": "code",
   "execution_count": 67,
   "id": "76eba2b1-0b25-4fde-a3de-aa9499868c34",
   "metadata": {},
   "outputs": [
    {
     "name": "stdout",
     "output_type": "stream",
     "text": [
      "35. Extract the protocol (http or https) from a URL string.\n"
     ]
    }
   ],
   "source": [
    "print(\"35. Extract the protocol (http or https) from a URL string.\")"
   ]
  },
  {
   "cell_type": "code",
   "execution_count": 68,
   "id": "c044150f-8b77-4901-be69-0b803b7ac3cf",
   "metadata": {},
   "outputs": [
    {
     "name": "stdout",
     "output_type": "stream",
     "text": [
      "Protocol 1: https\n",
      "Protocol 2: http\n",
      "Protocol 3: ftp\n"
     ]
    }
   ],
   "source": [
    "def extract_protocol(url):\n",
    "    # Find the index of the first occurrence of \"://\"\n",
    "    protocol_end = url.find(\"://\")\n",
    "\n",
    "    if protocol_end != -1:\n",
    "        # Extract the protocol from the URL\n",
    "        protocol = url[:protocol_end]\n",
    "        return protocol\n",
    "    else:\n",
    "        return None\n",
    "\n",
    "# Example URL strings\n",
    "url1 = \"https://www.example.com\"\n",
    "url2 = \"http://google.com\"\n",
    "url3 = \"ftp://ftp.example.com\"\n",
    "\n",
    "# Extract protocols\n",
    "protocol1 = extract_protocol(url1)\n",
    "protocol2 = extract_protocol(url2)\n",
    "protocol3 = extract_protocol(url3)\n",
    "\n",
    "# Print extracted protocols\n",
    "print(\"Protocol 1:\", protocol1)\n",
    "print(\"Protocol 2:\", protocol2)\n",
    "print(\"Protocol 3:\", protocol3)"
   ]
  },
  {
   "cell_type": "code",
   "execution_count": 69,
   "id": "c9edba38-29ac-494e-ada2-1ca831cb418f",
   "metadata": {},
   "outputs": [
    {
     "name": "stdout",
     "output_type": "stream",
     "text": [
      "36. Find the frequency of each character in a string.\n"
     ]
    }
   ],
   "source": [
    "print(\"36. Find the frequency of each character in a string.\")"
   ]
  },
  {
   "cell_type": "code",
   "execution_count": 70,
   "id": "f749a7ce-4fca-43ac-afcd-4efb75834218",
   "metadata": {},
   "outputs": [
    {
     "name": "stdout",
     "output_type": "stream",
     "text": [
      "Character: 'h', Frequency: 1\n",
      "Character: 'e', Frequency: 1\n",
      "Character: 'l', Frequency: 3\n",
      "Character: 'o', Frequency: 2\n",
      "Character: ' ', Frequency: 1\n",
      "Character: 'w', Frequency: 1\n",
      "Character: 'r', Frequency: 1\n",
      "Character: 'd', Frequency: 1\n"
     ]
    }
   ],
   "source": [
    "def character_frequency(input_string):\n",
    "    frequency = {}  # Create an empty dictionary to store character frequencies\n",
    "\n",
    "    for char in input_string:\n",
    "        if char in frequency:\n",
    "            frequency[char] += 1  # Increment the frequency count if the character is already in the dictionary\n",
    "        else:\n",
    "            frequency[char] = 1   # Initialize the frequency count to 1 if the character is not in the dictionary\n",
    "\n",
    "    return frequency\n",
    "\n",
    "# Example string\n",
    "input_str = \"hello world\"\n",
    "\n",
    "# Calculate character frequencies\n",
    "char_freq = character_frequency(input_str)\n",
    "\n",
    "# Print character frequencies\n",
    "for char, freq in char_freq.items():\n",
    "    print(f\"Character: '{char}', Frequency: {freq}\")"
   ]
  },
  {
   "cell_type": "code",
   "execution_count": 71,
   "id": "3209baa4-3798-4e7b-9266-33341d8a506f",
   "metadata": {},
   "outputs": [
    {
     "name": "stdout",
     "output_type": "stream",
     "text": [
      "37. Remove all punctuation from a string.\n"
     ]
    }
   ],
   "source": [
    "print(\"37. Remove all punctuation from a string.\")"
   ]
  },
  {
   "cell_type": "code",
   "execution_count": 72,
   "id": "701e53b3-433f-4e08-8c15-fd6a8fb71128",
   "metadata": {},
   "outputs": [
    {
     "name": "stdout",
     "output_type": "stream",
     "text": [
      "Original string: Hello, world! How's it going?\n",
      "Cleaned string: Hello world Hows it going\n"
     ]
    }
   ],
   "source": [
    "import string\n",
    "\n",
    "def remove_punctuation(input_string):\n",
    "    # Create a translation table to remove punctuation\n",
    "    translator = str.maketrans(\"\", \"\", string.punctuation)\n",
    "\n",
    "    # Use the translation table to remove punctuation from the input string\n",
    "    clean_string = input_string.translate(translator)\n",
    "\n",
    "    return clean_string\n",
    "\n",
    "# Example string with punctuation\n",
    "input_str = \"Hello, world! How's it going?\"\n",
    "\n",
    "# Remove punctuation\n",
    "cleaned_str = remove_punctuation(input_str)\n",
    "\n",
    "# Print the cleaned string\n",
    "print(\"Original string:\", input_str)\n",
    "print(\"Cleaned string:\", cleaned_str)"
   ]
  },
  {
   "cell_type": "code",
   "execution_count": 73,
   "id": "c458ef31-45a0-4ff5-9a8d-428c9949d0ee",
   "metadata": {},
   "outputs": [
    {
     "name": "stdout",
     "output_type": "stream",
     "text": [
      "38. Check if a string contains only digits.\n"
     ]
    }
   ],
   "source": [
    "print(\"38. Check if a string contains only digits.\")"
   ]
  },
  {
   "cell_type": "code",
   "execution_count": 77,
   "id": "8dc8b34d-df63-4226-aa8e-eeabd11ab479",
   "metadata": {},
   "outputs": [
    {
     "name": "stdout",
     "output_type": "stream",
     "text": [
      "'12345' contains only digits: True\n",
      "'hey123' contains only digits: False\n",
      "'456.786' contains only digits: False\n"
     ]
    }
   ],
   "source": [
    "def contains_only_digits(input_string):\n",
    "    # Check if all characters in the string are digits\n",
    "    return input_string.isdigit()\n",
    "\n",
    "# Example strings\n",
    "string1 = \"12345\"\n",
    "string2 = \"hey123\"\n",
    "string3 = \"456.786\"\n",
    "\n",
    "# Check if strings contain only digits\n",
    "result1 = contains_only_digits(string1)\n",
    "result2 = contains_only_digits(string2)\n",
    "result3 = contains_only_digits(string3)\n",
    "\n",
    "# Print the results\n",
    "print(f\"'{string1}' contains only digits:\", result1)\n",
    "print(f\"'{string2}' contains only digits:\", result2)\n",
    "print(f\"'{string3}' contains only digits:\", result3)"
   ]
  },
  {
   "cell_type": "code",
   "execution_count": 75,
   "id": "0353707d-3390-45bf-847e-07693d31c941",
   "metadata": {},
   "outputs": [
    {
     "name": "stdout",
     "output_type": "stream",
     "text": [
      "39. Check if a string contains only alphabets.\n"
     ]
    }
   ],
   "source": [
    "print(\"39. Check if a string contains only alphabets.\")"
   ]
  },
  {
   "cell_type": "code",
   "execution_count": 76,
   "id": "792216ea-ffa4-46ba-9e1b-84b39bb38194",
   "metadata": {},
   "outputs": [
    {
     "name": "stdout",
     "output_type": "stream",
     "text": [
      "'Hello' contains only alphabets: True\n",
      "'Hello123' contains only alphabets: False\n",
      "'12345' contains only alphabets: False\n"
     ]
    }
   ],
   "source": [
    "def contains_only_alphabets(input_string):\n",
    "    # Check if all characters in the string are alphabetic\n",
    "    return input_string.isalpha()\n",
    "\n",
    "# Example strings\n",
    "string1 = \"Hello\"\n",
    "string2 = \"Hello123\"\n",
    "string3 = \"12345\"\n",
    "\n",
    "# Check if strings contain only alphabets\n",
    "result1 = contains_only_alphabets(string1)\n",
    "result2 = contains_only_alphabets(string2)\n",
    "result3 = contains_only_alphabets(string3)\n",
    "\n",
    "# Print the results\n",
    "print(f\"'{string1}' contains only alphabets:\", result1)\n",
    "print(f\"'{string2}' contains only alphabets:\", result2)\n",
    "print(f\"'{string3}' contains only alphabets:\", result3)"
   ]
  },
  {
   "cell_type": "code",
   "execution_count": 78,
   "id": "9a23192c-9414-4e5a-99cd-6255c163b6bd",
   "metadata": {},
   "outputs": [
    {
     "name": "stdout",
     "output_type": "stream",
     "text": [
      "40. Convert a string to a list of characters.\n"
     ]
    }
   ],
   "source": [
    "print(\"40. Convert a string to a list of characters.\")"
   ]
  },
  {
   "cell_type": "code",
   "execution_count": 81,
   "id": "215aa003-a14a-4d59-98ee-1d153b926ba9",
   "metadata": {},
   "outputs": [
    {
     "name": "stdout",
     "output_type": "stream",
     "text": [
      "Original string: Hel_lo,   world!\n",
      "List of characters: ['H', 'e', 'l', '_', 'l', 'o', ',', ' ', ' ', ' ', 'w', 'o', 'r', 'l', 'd', '!']\n"
     ]
    }
   ],
   "source": [
    "def string_to_list(input_string):\n",
    "    # Use list() constructor to convert the string to a list of characters\n",
    "    char_list = list(input_string)\n",
    "    return char_list\n",
    "\n",
    "# Example string\n",
    "input_str = \"Hel_lo,   world!\"\n",
    "\n",
    "# Convert the string to a list of characters\n",
    "char_list = string_to_list(input_str)\n",
    "\n",
    "# Print the list of characters\n",
    "print(\"Original string:\", input_str)\n",
    "print(\"List of characters:\", char_list)"
   ]
  },
  {
   "cell_type": "code",
   "execution_count": 82,
   "id": "a8618f61-fe43-4b68-bdd8-773cccfe573a",
   "metadata": {},
   "outputs": [
    {
     "name": "stdout",
     "output_type": "stream",
     "text": [
      "41. Check if two strings are anagrams.\n"
     ]
    }
   ],
   "source": [
    "print(\"41. Check if two strings are anagrams.\")"
   ]
  },
  {
   "cell_type": "code",
   "execution_count": 83,
   "id": "ec7be84f-e3ac-4528-b6e7-1bb78c062e30",
   "metadata": {},
   "outputs": [
    {
     "name": "stdout",
     "output_type": "stream",
     "text": [
      "'listen' and 'silent' are anagrams: True\n",
      "'hello' and 'world' are anagrams: False\n"
     ]
    }
   ],
   "source": [
    "def are_anagrams(str1, str2):\n",
    "    # Remove spaces and convert strings to lowercase for accurate comparison\n",
    "    str1 = str1.replace(\" \", \"\").lower()\n",
    "    str2 = str2.replace(\" \", \"\").lower()\n",
    "\n",
    "    # Sort the characters in both strings and compare\n",
    "    return sorted(str1) == sorted(str2)\n",
    "\n",
    "# Example strings\n",
    "string1 = \"listen\"\n",
    "string2 = \"silent\"\n",
    "string3 = \"hello\"\n",
    "string4 = \"world\"\n",
    "\n",
    "# Check if strings are anagrams\n",
    "result1 = are_anagrams(string1, string2)\n",
    "result2 = are_anagrams(string3, string4)\n",
    "\n",
    "# Print the results\n",
    "print(f\"'{string1}' and '{string2}' are anagrams:\", result1)\n",
    "print(f\"'{string3}' and '{string4}' are anagrams:\", result2)"
   ]
  },
  {
   "cell_type": "code",
   "execution_count": 84,
   "id": "ff3a53cd-6fb2-46f1-8fd9-4dcc89344a5c",
   "metadata": {},
   "outputs": [
    {
     "name": "stdout",
     "output_type": "stream",
     "text": [
      "42. Encode a string using a Caesar cipher.\n"
     ]
    }
   ],
   "source": [
    "print(\"42. Encode a string using a Caesar cipher.\")"
   ]
  },
  {
   "cell_type": "code",
   "execution_count": 85,
   "id": "1a574d89-5b48-4380-9355-b52c05d782ea",
   "metadata": {},
   "outputs": [
    {
     "name": "stdout",
     "output_type": "stream",
     "text": [
      "Encoded text: ehoor, zruog!\n"
     ]
    }
   ],
   "source": [
    "# Define a function named caesar_cipher that encodes a string using a Caesar cipher.\n",
    "def caesar_cipher(text, shift):\n",
    "  \"\"\"\n",
    "  Encodes a string using a Caesar cipher.\n",
    "\n",
    "  Args:\n",
    "    text: The string to encode.\n",
    "    shift: The number of positions to shift each letter.\n",
    "\n",
    "  Returns:\n",
    "    The encoded string.\n",
    "  \"\"\"\n",
    "\n",
    "  # Initialize an empty string to store the encoded text.\n",
    "  encoded_text = \"\"\n",
    "\n",
    "  # Iterate through each character in the input text.\n",
    "  for char in text:\n",
    "    # Check if the character is alphabetic.\n",
    "    if char.isalpha():\n",
    "   # Calculate the encoded character's Unicode code point value by shifting it by the specified amount.\n",
    "      # Ensure the value wraps around within the lowercase alphabet range (a-z).\n",
    "      encoded_char = chr((ord(char) + shift - ord('a')) % 26 + ord('a'))\n",
    "    else:\n",
    "      # Keep non-alphabetic characters unchanged.\n",
    "      encoded_char = char\n",
    "\n",
    "    # Add the encoded character to the encoded text.\n",
    "    encoded_text += encoded_char\n",
    "\n",
    "  # Return the resulting encoded text.\n",
    "  return encoded_text\n",
    "\n",
    "# Define the input text and the shift value for encoding.\n",
    "text = \"Hello, world!\"\n",
    "shift = 3\n",
    "\n",
    "# Call the caesar_cipher function to encode the text using the specified shift.\n",
    "encoded_text = caesar_cipher(text, shift)\n",
    "\n",
    "# Print the encoded text.\n",
    "print(\"Encoded text:\", encoded_text)"
   ]
  },
  {
   "cell_type": "code",
   "execution_count": 86,
   "id": "b8e1b41a-e6e9-4558-b804-07efe689ebad",
   "metadata": {},
   "outputs": [
    {
     "name": "stdout",
     "output_type": "stream",
     "text": [
      "43. Decode a Caesar cipher encoded string.\n"
     ]
    }
   ],
   "source": [
    "print(\"43. Decode a Caesar cipher encoded string.\")"
   ]
  },
  {
   "cell_type": "code",
   "execution_count": 91,
   "id": "ec61a88d-de0a-42e7-85f6-d8f4544b1b1d",
   "metadata": {},
   "outputs": [
    {
     "name": "stdout",
     "output_type": "stream",
     "text": [
      "Text  : ATTACKATONCE\n",
      "Shift : 4\n",
      "Cipher: EXXEGOEXSRGI\n"
     ]
    }
   ],
   "source": [
    "#Caesar Cipher Technique\n",
    "def encrypt(text,s):\n",
    "    result = \"\"\n",
    " \n",
    "    # traverse text\n",
    "    for i in range(len(text)):\n",
    "        char = text[i]\n",
    " \n",
    "        # Encrypt uppercase characters\n",
    "        if (char.isupper()):\n",
    "            result += chr((ord(char) + s-65) % 26 + 65)\n",
    " \n",
    "        # Encrypt lowercase characters\n",
    "        else:\n",
    "            result += chr((ord(char) + s - 97) % 26 + 97)\n",
    " \n",
    "    return result\n",
    " \n",
    "#check the above function\n",
    "text = \"ATTACKATONCE\"\n",
    "s = 4\n",
    "print (\"Text  : \" + text)\n",
    "print (\"Shift : \" + str(s))\n",
    "print (\"Cipher: \" + encrypt(text,s))"
   ]
  },
  {
   "cell_type": "code",
   "execution_count": 92,
   "id": "a2799241-9dfc-4e38-9e34-2748d57e5322",
   "metadata": {},
   "outputs": [
    {
     "name": "stdout",
     "output_type": "stream",
     "text": [
      "44. Find the most frequent word in a string.\n"
     ]
    }
   ],
   "source": [
    "print(\"44. Find the most frequent word in a string.\")"
   ]
  },
  {
   "cell_type": "code",
   "execution_count": 96,
   "id": "3fbcdb33-344b-4291-a254-85bbed6adeba",
   "metadata": {},
   "outputs": [
    {
     "name": "stdout",
     "output_type": "stream",
     "text": [
      "The word that occurs most is : be\n",
      "No of times: 1\n"
     ]
    }
   ],
   "source": [
    "def mostFrequentWord(arr, n):\n",
    "\n",
    "\t# freq to store the freq of the most occurring variable\n",
    "\tfreq = 0\n",
    "\t\n",
    "\t# res to store the most occurring string in the array of strings\n",
    "\tres = \"\"\n",
    "\n",
    "\t# running nested for loops to find the most occurring\n",
    "\t# word in the array of strings\n",
    "\tfor i in range(0, n, 1):\n",
    "\t\tcount = 0\n",
    "\t\tfor j in range(i + 1, n, 1):\n",
    "\t\t\tif arr[j] == arr[i]:\n",
    "\t\t\t\tcount += 1\n",
    "\n",
    "\t\t# updating our max freq of occurred string in the\n",
    "\t\t# array of strings\n",
    "\t\tif count >= freq:\n",
    "\t\t\tres = arr[i]\n",
    "\t\t\tfreq = count\n",
    "\n",
    "\tprint(\"The word that occurs most is : \" + str(res))\n",
    "\tprint(\"No of times: \" + str(freq))\n",
    "\n",
    "# Driver code\n",
    "\n",
    "# given set of keys\n",
    "arr = [ \"python\", \"is\", \"programming\", \"language\", \"computer\", \"to\", \"learn\", \"can\", \"be\", \"computer\", \"zoom\", \"yup\", \"fire\", \"in\", \"be\", \"data\", \"science\",]\n",
    "n = len(arr)\n",
    "\n",
    "# function call\n",
    "mostFrequentWord(arr, n)\n"
   ]
  },
  {
   "cell_type": "code",
   "execution_count": 97,
   "id": "9aa9b9c2-f417-4ae0-ad89-e5df38aa13ab",
   "metadata": {},
   "outputs": [
    {
     "name": "stdout",
     "output_type": "stream",
     "text": [
      "45. Find all unique words in a string\n"
     ]
    }
   ],
   "source": [
    "print(\"45. Find all unique words in a string\")"
   ]
  },
  {
   "cell_type": "code",
   "execution_count": 98,
   "id": "49549375-604c-4f3e-b0d0-8a1d57abc909",
   "metadata": {},
   "outputs": [
    {
     "name": "stdout",
     "output_type": "stream",
     "text": [
      "Unique words: {'the', 'world', 'hows', 'hello', 'there'}\n"
     ]
    }
   ],
   "source": [
    "import re\n",
    "\n",
    "def unique_words(input_string):\n",
    "    # Remove punctuation and convert to lowercase\n",
    "    clean_string = re.sub(r'[^\\w\\s]', '', input_string).lower()\n",
    "\n",
    "    # Split the string into words and convert to a set for uniqueness\n",
    "    words = set(clean_string.split())\n",
    "\n",
    "    return words\n",
    "\n",
    "# Example string\n",
    "input_str = \"Hello world, hello there! How's the world?\"\n",
    "\n",
    "# Find unique words\n",
    "unique_word_set = unique_words(input_str)\n",
    "\n",
    "# Print the result\n",
    "print(\"Unique words:\", unique_word_set)"
   ]
  },
  {
   "cell_type": "code",
   "execution_count": 99,
   "id": "fdbcea3c-2376-485d-b8bf-13bce408e524",
   "metadata": {},
   "outputs": [
    {
     "name": "stdout",
     "output_type": "stream",
     "text": [
      "46. Count the number of syllables in a string\n"
     ]
    }
   ],
   "source": [
    "print(\"46. Count the number of syllables in a string\")"
   ]
  },
  {
   "cell_type": "code",
   "execution_count": 100,
   "id": "5453574b-9571-4a64-9c79-2a35aa834643",
   "metadata": {},
   "outputs": [
    {
     "name": "stdout",
     "output_type": "stream",
     "text": [
      "'hello' has 2 syllables.\n",
      "'banana' has 3 syllables.\n",
      "'syllable' has 3 syllables.\n"
     ]
    }
   ],
   "source": [
    "import re\n",
    "\n",
    "def count_syllables(word):\n",
    "    # Count vowel groups using regular expression\n",
    "    vowel_groups = re.findall(r'[aeiouy]+', word, re.IGNORECASE)\n",
    "\n",
    "    return len(vowel_groups)\n",
    "\n",
    "# Example words\n",
    "word1 = \"hello\"\n",
    "word2 = \"banana\"\n",
    "word3 = \"syllable\"\n",
    "\n",
    "# Count syllables\n",
    "syllables1 = count_syllables(word1)\n",
    "syllables2 = count_syllables(word2)\n",
    "syllables3 = count_syllables(word3)\n",
    "\n",
    "# Print the results\n",
    "print(f\"'{word1}' has {syllables1} syllables.\")\n",
    "print(f\"'{word2}' has {syllables2} syllables.\")\n",
    "print(f\"'{word3}' has {syllables3} syllables.\")"
   ]
  },
  {
   "cell_type": "code",
   "execution_count": 101,
   "id": "ac069ecb-309b-4355-a410-8c265116a5e8",
   "metadata": {},
   "outputs": [
    {
     "name": "stdout",
     "output_type": "stream",
     "text": [
      "47. Check if a string contains any special characters.\n"
     ]
    }
   ],
   "source": [
    "print(\"47. Check if a string contains any special characters.\")"
   ]
  },
  {
   "cell_type": "code",
   "execution_count": 102,
   "id": "fe3e2915-36d3-4e66-844c-5702aadff56e",
   "metadata": {},
   "outputs": [
    {
     "name": "stdout",
     "output_type": "stream",
     "text": [
      "'Hello, world!' contains special characters: True\n",
      "'This is a test.' contains special characters: True\n",
      "'Special@Characters' contains special characters: True\n"
     ]
    }
   ],
   "source": [
    "import re\n",
    "\n",
    "def contains_special_characters(input_string):\n",
    "    # Define a regular expression pattern to match special characters\n",
    "    pattern = re.compile(r'[!@#$%^&*()_+{}\\[\\]:;<>,.?~\\\\/]')\n",
    "\n",
    "    # Use the search() method to find a match\n",
    "    match = pattern.search(input_string)\n",
    "\n",
    "    # Return True if a match is found, False otherwise\n",
    "    return bool(match)\n",
    "\n",
    "# Example strings\n",
    "string1 = \"Hello, world!\"\n",
    "string2 = \"This is a test.\"\n",
    "string3 = \"Special@Characters\"\n",
    "\n",
    "# Check if strings contain special characters\n",
    "result1 = contains_special_characters(string1)\n",
    "result2 = contains_special_characters(string2)\n",
    "result3 = contains_special_characters(string3)\n",
    "\n",
    "# Print the results\n",
    "print(f\"'{string1}' contains special characters:\", result1)\n",
    "print(f\"'{string2}' contains special characters:\", result2)\n",
    "print(f\"'{string3}' contains special characters:\", result3)"
   ]
  },
  {
   "cell_type": "code",
   "execution_count": 103,
   "id": "c8eec861-1b92-4b72-94e2-54b89b92f282",
   "metadata": {},
   "outputs": [
    {
     "name": "stdout",
     "output_type": "stream",
     "text": [
      "48. Remove the nth word from a string\n"
     ]
    }
   ],
   "source": [
    "print(\"48. Remove the nth word from a string\")"
   ]
  },
  {
   "cell_type": "code",
   "execution_count": 105,
   "id": "b804e680-6bdf-4527-a78b-c11fbb836bfe",
   "metadata": {},
   "outputs": [
    {
     "name": "stdout",
     "output_type": "stream",
     "text": [
      "Original string: This is an example sentence to test the function.\n",
      "Modified string: This is an sentence to test the function.\n",
      "Removed word: example\n"
     ]
    }
   ],
   "source": [
    "def remove_nth_word(input_string, n):\n",
    "    # Split the input string into words\n",
    "    words = input_string.split()\n",
    "\n",
    "    # Check if n is within a valid range\n",
    "    if n >= 1 and n <= len(words):\n",
    "        # Remove the nth word by excluding it from the words list\n",
    "        removed_word = words.pop(n - 1)\n",
    "\n",
    "        # Join the remaining words to form the modified string\n",
    "        modified_string = ' '.join(words)\n",
    "\n",
    "        return modified_string, removed_word\n",
    "    else:\n",
    "        return None, None\n",
    "\n",
    "# Example string and n value\n",
    "input_str = \"This is an example sentence to test the function.\"\n",
    "n_value = 4\n",
    "\n",
    "# Remove the nth word\n",
    "modified_str, removed_word = remove_nth_word(input_str, n_value)\n",
    "\n",
    "# Print the results\n",
    "print(\"Original string:\", input_str)\n",
    "if modified_str is not None:\n",
    "    print(\"Modified string:\", modified_str)\n",
    "    print(\"Removed word:\", removed_word)\n",
    "else:\n",
    "    print(\"Invalid n value.\")"
   ]
  },
  {
   "cell_type": "code",
   "execution_count": 106,
   "id": "446a26a0-8baa-48e4-adf8-f68aaba5c1ea",
   "metadata": {},
   "outputs": [
    {
     "name": "stdout",
     "output_type": "stream",
     "text": [
      "49. Insert a word at the nth position in a string.\n"
     ]
    }
   ],
   "source": [
    "print(\"49. Insert a word at the nth position in a string.\")"
   ]
  },
  {
   "cell_type": "code",
   "execution_count": 110,
   "id": "e02060f8-ff8c-43d8-b93a-41a1577b1b9f",
   "metadata": {},
   "outputs": [
    {
     "name": "stdout",
     "output_type": "stream",
     "text": [
      "The original string : studystudy\n",
      "The add string : in\n",
      "The string after performing addition : studyinstudy\n"
     ]
    }
   ],
   "source": [
    "# Add substring at specific index\n",
    "# using list slicing\n",
    " \n",
    "# initializing string\n",
    "test_string = 'studystudy'\n",
    " \n",
    "# initializing add_string\n",
    "add_string = \"in\"\n",
    " \n",
    "# printing original string\n",
    "print(\"The original string : \" + test_string)\n",
    " \n",
    "# printing add string\n",
    "print(\"The add string : \" + add_string)\n",
    " \n",
    "# initializing N\n",
    "N = 5\n",
    " \n",
    "# using list slicing\n",
    "# Add substring at specific index\n",
    "res = test_string[ : N] + add_string + test_string[N : ]\n",
    "     \n",
    "# print result\n",
    "print(\"The string after performing addition : \" + str(res))"
   ]
  },
  {
   "cell_type": "code",
   "execution_count": 111,
   "id": "9cae88f8-81d9-4a83-9706-0816eb297fc2",
   "metadata": {},
   "outputs": [
    {
     "name": "stdout",
     "output_type": "stream",
     "text": [
      "50. Convert a CSV string to a list of lists.\n"
     ]
    }
   ],
   "source": [
    "print(\"50. Convert a CSV string to a list of lists.\")"
   ]
  },
  {
   "cell_type": "code",
   "execution_count": 112,
   "id": "5ca09964-dbe0-4329-9235-5f4963e9cfcd",
   "metadata": {},
   "outputs": [
    {
     "name": "stdout",
     "output_type": "stream",
     "text": [
      "['Name', ' Age', ' Country']\n",
      "['Naitik', ' 25', ' India']\n",
      "['Tushar', ' 16', ' Canada']\n",
      "['paras', ' 15', ' UK']\n"
     ]
    }
   ],
   "source": [
    "def csv_string_to_list(csv_string):\n",
    "    # Split the CSV string into lines\n",
    "    lines = csv_string.split('\\n')\n",
    "\n",
    "    # Initialize an empty list to store the result\n",
    "    result = []\n",
    "\n",
    "    for line in lines:\n",
    "        # Split each line into fields using comma as the delimiter\n",
    "        fields = line.split(',')\n",
    "\n",
    "        # Append the fields to the result list as a row\n",
    "        result.append(fields)\n",
    "\n",
    "    return result\n",
    "\n",
    "# Example CSV string\n",
    "csv_data = \"Name, Age, Country\\nNaitik, 25, India\\nTushar, 16, Canada\\nparas, 15, UK\"\n",
    " \n",
    "# Convert CSV string to a list of lists\n",
    "list_of_lists = csv_string_to_list(csv_data)\n",
    "\n",
    "# Print the result\n",
    "for row in list_of_lists:\n",
    "    print(row)"
   ]
  },
  {
   "cell_type": "markdown",
   "id": "565850b7-8603-4966-80e2-214456f44c9c",
   "metadata": {},
   "source": [
    "List based problems\n"
   ]
  },
  {
   "cell_type": "code",
   "execution_count": 1,
   "id": "843e482e-a100-4e30-b566-8fa80059388a",
   "metadata": {},
   "outputs": [
    {
     "name": "stdout",
     "output_type": "stream",
     "text": [
      "1. Create a list with integers from 1 to 10.\n"
     ]
    }
   ],
   "source": [
    "print(\"1. Create a list with integers from 1 to 10.\")"
   ]
  },
  {
   "cell_type": "code",
   "execution_count": 2,
   "id": "f39ae367-0136-44d6-acc8-9dc991eb9737",
   "metadata": {},
   "outputs": [
    {
     "name": "stdout",
     "output_type": "stream",
     "text": [
      "[1, 2, 3, 4, 5, 6, 7, 8, 9, 10]\n"
     ]
    }
   ],
   "source": [
    "# Use a list comprehension to create a list of integers from 1 to 10\n",
    "integer_list = [i for i in range(1, 11)]\n",
    "\n",
    "# Print the list\n",
    "print(integer_list)"
   ]
  },
  {
   "cell_type": "code",
   "execution_count": 3,
   "id": "88aba55a-349e-4d44-be15-944d81341a5f",
   "metadata": {},
   "outputs": [
    {
     "name": "stdout",
     "output_type": "stream",
     "text": [
      "2. Find the length of a list without using the `len()` function.\n"
     ]
    }
   ],
   "source": [
    "print(\"2. Find the length of a list without using the `len()` function.\")"
   ]
  },
  {
   "cell_type": "code",
   "execution_count": 4,
   "id": "10a5a9ee-fcfa-4ae1-ab93-86c270f61e59",
   "metadata": {},
   "outputs": [
    {
     "name": "stdout",
     "output_type": "stream",
     "text": [
      "Length of the list: 5\n"
     ]
    }
   ],
   "source": [
    "def custom_len(input_list):\n",
    "    count = 0\n",
    "    for _ in input_list:\n",
    "        count += 1\n",
    "    return count\n",
    "\n",
    "# Example list\n",
    "my_list = [10, 20, 30, 40, 50]\n",
    "\n",
    "# Find the length of the list using the custom_len function\n",
    "length = custom_len(my_list)\n",
    "\n",
    "# Print the length of the list\n",
    "print(\"Length of the list:\", length)"
   ]
  },
  {
   "cell_type": "code",
   "execution_count": 5,
   "id": "c0bfeb21-53f5-4301-ac58-6bd217a15523",
   "metadata": {},
   "outputs": [
    {
     "name": "stdout",
     "output_type": "stream",
     "text": [
      "3. Append an element to the end of a list.\n"
     ]
    }
   ],
   "source": [
    "print(\"3. Append an element to the end of a list.\")"
   ]
  },
  {
   "cell_type": "code",
   "execution_count": 6,
   "id": "f19b24d4-d82c-4dcb-9683-56a3cdd086be",
   "metadata": {},
   "outputs": [
    {
     "name": "stdout",
     "output_type": "stream",
     "text": [
      "Updated list: [10, 20, 30, 40]\n"
     ]
    }
   ],
   "source": [
    "# Example list\n",
    "my_list = [10, 20, 30]\n",
    "\n",
    "# Element to append\n",
    "new_element = 40\n",
    "\n",
    "# Append the new element to the end of the list\n",
    "my_list.append(new_element)\n",
    "\n",
    "# Print the updated list\n",
    "print(\"Updated list:\", my_list)"
   ]
  },
  {
   "cell_type": "code",
   "execution_count": 7,
   "id": "7559e06c-0063-4a20-b1fa-5e5bb7752dfc",
   "metadata": {},
   "outputs": [
    {
     "name": "stdout",
     "output_type": "stream",
     "text": [
      "4. Insert an element at a specific index in a list.\n"
     ]
    }
   ],
   "source": [
    "print(\"4. Insert an element at a specific index in a list.\")"
   ]
  },
  {
   "cell_type": "code",
   "execution_count": 10,
   "id": "9bad0b55-1598-4557-bf89-7e1cacc1fda1",
   "metadata": {},
   "outputs": [
    {
     "name": "stdout",
     "output_type": "stream",
     "text": [
      "Updated list: [10, 20, 25, 30, 40, 50]\n"
     ]
    }
   ],
   "source": [
    "# Example list\n",
    "my_list = [10, 20, 30, 40, 50]\n",
    "\n",
    "# Element to insert\n",
    "new_element = 25\n",
    "\n",
    "# Index at which to insert the element\n",
    "index_to_insert = 2\n",
    "\n",
    "# Insert the new element at the specified index\n",
    "my_list.insert(index_to_insert, new_element)\n",
    "\n",
    "# Print the updated list\n",
    "print(\"Updated list:\", my_list)"
   ]
  },
  {
   "cell_type": "code",
   "execution_count": 11,
   "id": "959a9744-6b7b-4318-9f58-f16d59d4b28c",
   "metadata": {},
   "outputs": [
    {
     "name": "stdout",
     "output_type": "stream",
     "text": [
      "5. Remove an element from a list by its value.\n"
     ]
    }
   ],
   "source": [
    "print(\"5. Remove an element from a list by its value.\")"
   ]
  },
  {
   "cell_type": "code",
   "execution_count": 12,
   "id": "6287c846-53e9-41fe-947a-ce2a5ad81bde",
   "metadata": {},
   "outputs": [
    {
     "name": "stdout",
     "output_type": "stream",
     "text": [
      "Updated list: [10, 20, 40, 50]\n"
     ]
    }
   ],
   "source": [
    "my_list = [10, 20, 30, 40, 50]\n",
    "\n",
    "# Element to remove\n",
    "element_to_remove = 30\n",
    "\n",
    "# Remove the element by its value\n",
    "my_list.remove(element_to_remove)\n",
    "\n",
    "# Print the updated list\n",
    "print(\"Updated list:\", my_list)"
   ]
  },
  {
   "cell_type": "code",
   "execution_count": 13,
   "id": "ade64541-61b5-4bcd-9573-29ec65d6e378",
   "metadata": {},
   "outputs": [
    {
     "name": "stdout",
     "output_type": "stream",
     "text": [
      "6. Remove an element from a list by its index.\n"
     ]
    }
   ],
   "source": [
    "print(\"6. Remove an element from a list by its index.\")"
   ]
  },
  {
   "cell_type": "code",
   "execution_count": 14,
   "id": "55c6e10f-a0ad-4d33-8e08-f39ac942ecbc",
   "metadata": {},
   "outputs": [
    {
     "name": "stdout",
     "output_type": "stream",
     "text": [
      "Updated list: [10, 20, 40, 50]\n",
      "Removed element: 30\n"
     ]
    }
   ],
   "source": [
    "# Example list\n",
    "my_list = [10, 20, 30, 40, 50]\n",
    "\n",
    "# Index of the element to remove\n",
    "index_to_remove = 2\n",
    "\n",
    "# Remove the element at the specified index\n",
    "removed_element = my_list.pop(index_to_remove)\n",
    "\n",
    "# Print the updated list and the removed element\n",
    "print(\"Updated list:\", my_list)\n",
    "print(\"Removed element:\", removed_element)"
   ]
  },
  {
   "cell_type": "code",
   "execution_count": 15,
   "id": "4e4ad8b2-42f3-412e-8cb7-3f26ae773f94",
   "metadata": {},
   "outputs": [
    {
     "name": "stdout",
     "output_type": "stream",
     "text": [
      "7. Check if an element exists in a list.\n"
     ]
    }
   ],
   "source": [
    "print(\"7. Check if an element exists in a list.\")"
   ]
  },
  {
   "cell_type": "code",
   "execution_count": 16,
   "id": "1a88fcbe-cba4-4d35-99a5-de2014e403b2",
   "metadata": {},
   "outputs": [
    {
     "name": "stdout",
     "output_type": "stream",
     "text": [
      "30 exists in the list.\n"
     ]
    }
   ],
   "source": [
    "# Example list\n",
    "my_list = [10, 20, 30, 40, 50]\n",
    "\n",
    "# Element to check\n",
    "element_to_check = 30\n",
    "\n",
    "# Check if the element exists in the list\n",
    "if element_to_check in my_list:\n",
    "    print(f\"{element_to_check} exists in the list.\")\n",
    "else:\n",
    "    print(f\"{element_to_check} does not exist in the list.\")"
   ]
  },
  {
   "cell_type": "code",
   "execution_count": 17,
   "id": "df58b905-b15d-4031-8d3f-9fd40bb1b911",
   "metadata": {},
   "outputs": [
    {
     "name": "stdout",
     "output_type": "stream",
     "text": [
      "8. Find the index of the first occurrence of an element in a list\n"
     ]
    }
   ],
   "source": [
    "print(\"8. Find the index of the first occurrence of an element in a list\")"
   ]
  },
  {
   "cell_type": "code",
   "execution_count": 18,
   "id": "2fcbdc67-dba4-4171-a9e0-192a5f1b8d3b",
   "metadata": {},
   "outputs": [
    {
     "name": "stdout",
     "output_type": "stream",
     "text": [
      "The index of 30 is 2\n"
     ]
    }
   ],
   "source": [
    "# Example list\n",
    "my_list = [10, 20, 30, 40, 50, 30]\n",
    "\n",
    "# Element to find the index of\n",
    "element_to_find = 30\n",
    "\n",
    "# Find the index of the first occurrence of the element\n",
    "index = my_list.index(element_to_find)\n",
    "\n",
    "# Print the index\n",
    "print(f\"The index of {element_to_find} is {index}\")"
   ]
  },
  {
   "cell_type": "code",
   "execution_count": 19,
   "id": "3eea0a53-d024-4aa5-bac1-32a9e0633893",
   "metadata": {},
   "outputs": [
    {
     "name": "stdout",
     "output_type": "stream",
     "text": [
      "9. Count the occurrences of an element in a list.\n"
     ]
    }
   ],
   "source": [
    "print(\"9. Count the occurrences of an element in a list.\")"
   ]
  },
  {
   "cell_type": "code",
   "execution_count": 20,
   "id": "b473ca99-a0c6-45b6-8438-57cd4d0a105a",
   "metadata": {},
   "outputs": [
    {
     "name": "stdout",
     "output_type": "stream",
     "text": [
      "The element 30 occurs 3 times in the list.\n"
     ]
    }
   ],
   "source": [
    "#Example list\n",
    "my_list = [10, 20, 30, 40, 50, 30, 30]\n",
    "\n",
    "# Element to count occurrences of\n",
    "element_to_count = 30\n",
    "\n",
    "# Count the occurrences of the element\n",
    "count = my_list.count(element_to_count)\n",
    "\n",
    "# Print the count\n",
    "print(f\"The element {element_to_count} occurs {count} times in the list.\") "
   ]
  },
  {
   "cell_type": "code",
   "execution_count": 21,
   "id": "4e4e67b4-1f3f-47ea-86f8-c8a264292a05",
   "metadata": {},
   "outputs": [
    {
     "name": "stdout",
     "output_type": "stream",
     "text": [
      "10. Reverse the order of elements in a list.\n"
     ]
    }
   ],
   "source": [
    "print(\"10. Reverse the order of elements in a list.\")"
   ]
  },
  {
   "cell_type": "code",
   "execution_count": 22,
   "id": "7db3e130-247a-4469-bbaf-36e5a56968d8",
   "metadata": {},
   "outputs": [
    {
     "name": "stdout",
     "output_type": "stream",
     "text": [
      "Reversed list: [50, 40, 30, 20, 10]\n"
     ]
    }
   ],
   "source": [
    "#Example list\n",
    "my_list = [10, 20, 30, 40, 50]\n",
    "\n",
    "# Reverse the order of elements in the list\n",
    "my_list.reverse()\n",
    "\n",
    "# Print the reversed list\n",
    "print(\"Reversed list:\", my_list)"
   ]
  },
  {
   "cell_type": "code",
   "execution_count": 23,
   "id": "f1862fa5-03f5-401f-a996-d6ad8dffe67f",
   "metadata": {},
   "outputs": [
    {
     "name": "stdout",
     "output_type": "stream",
     "text": [
      "11. Sort a list in ascending order.\n"
     ]
    }
   ],
   "source": [
    "print(\"11. Sort a list in ascending order.\")"
   ]
  },
  {
   "cell_type": "code",
   "execution_count": 24,
   "id": "0444d78f-4cbe-41ef-b53b-6ef09ec0e321",
   "metadata": {},
   "outputs": [
    {
     "name": "stdout",
     "output_type": "stream",
     "text": [
      "Sorted list in ascending order: [10, 20, 30, 40, 50]\n"
     ]
    }
   ],
   "source": [
    "# Example list\n",
    "my_list = [50, 10, 30, 40, 20]\n",
    "\n",
    "# Sort the list in ascending order\n",
    "my_list.sort()\n",
    "\n",
    "# Print the sorted list\n",
    "print(\"Sorted list in ascending order:\",  my_list)"
   ]
  },
  {
   "cell_type": "code",
   "execution_count": 25,
   "id": "7c77ccc8-a0dd-4ac1-afc1-ed917cad1cb7",
   "metadata": {},
   "outputs": [
    {
     "name": "stdout",
     "output_type": "stream",
     "text": [
      "12. Sort a list in descending order.\n"
     ]
    }
   ],
   "source": [
    "print(\"12. Sort a list in descending order.\")"
   ]
  },
  {
   "cell_type": "code",
   "execution_count": 26,
   "id": "d1d8d1f8-8991-4ca7-a430-9d181f27535e",
   "metadata": {},
   "outputs": [
    {
     "name": "stdout",
     "output_type": "stream",
     "text": [
      "Sorted list in descending order: [50, 40, 30, 20, 10]\n"
     ]
    }
   ],
   "source": [
    "# Example list\n",
    "my_list = [50, 10, 30, 40, 20]\n",
    "\n",
    "# Sort the list in descending order\n",
    "my_list.sort(reverse=True)\n",
    "\n",
    "# Print the sorted list\n",
    "print(\"Sorted list in descending order:\", my_list)"
   ]
  },
  {
   "cell_type": "code",
   "execution_count": 28,
   "id": "3361c735-b053-4cd3-9c1b-57bd08dedb20",
   "metadata": {},
   "outputs": [
    {
     "name": "stdout",
     "output_type": "stream",
     "text": [
      "13. Create a list of even numbers from 1 to 20.\n"
     ]
    }
   ],
   "source": [
    "print(\"13. Create a list of even numbers from 1 to 20.\")"
   ]
  },
  {
   "cell_type": "code",
   "execution_count": 29,
   "id": "52c866ee-0271-4b8f-a74f-ed77f64ac85b",
   "metadata": {},
   "outputs": [
    {
     "name": "stdout",
     "output_type": "stream",
     "text": [
      "List of even numbers: [2, 4, 6, 8, 10, 12, 14, 16, 18, 20]\n"
     ]
    }
   ],
   "source": [
    "# Use a list comprehension to create a list of even numbers from 1 to 20\n",
    "even_numbers = [x for x in range(2, 21, 2)]\n",
    "\n",
    "# Print the list of even numbers\n",
    "print(\"List of even numbers:\", even_numbers)"
   ]
  },
  {
   "cell_type": "code",
   "execution_count": 30,
   "id": "864a5ca0-1541-4fe9-acb2-00f03d949901",
   "metadata": {},
   "outputs": [
    {
     "name": "stdout",
     "output_type": "stream",
     "text": [
      "14. Create a list of odd numbers from 1 to 20.\n"
     ]
    }
   ],
   "source": [
    "print(\"14. Create a list of odd numbers from 1 to 20.\")"
   ]
  },
  {
   "cell_type": "code",
   "execution_count": 31,
   "id": "b22548bc-f580-41e7-a6fa-d04468cd8d95",
   "metadata": {},
   "outputs": [
    {
     "name": "stdout",
     "output_type": "stream",
     "text": [
      "List of odd numbers:  [1, 3, 5, 7, 9, 11, 13, 15, 17, 19]\n"
     ]
    }
   ],
   "source": [
    "#use a list comprehension:\n",
    "odd_numbers = [x for x in range(1,20,2)]\n",
    "\n",
    "# print the list of odd numbers:\n",
    "print(\"List of odd numbers: \",odd_numbers)"
   ]
  },
  {
   "cell_type": "code",
   "execution_count": 32,
   "id": "95f9b4bf-3be5-4ca3-b999-05bbb6ac115f",
   "metadata": {},
   "outputs": [
    {
     "name": "stdout",
     "output_type": "stream",
     "text": [
      "15. Find the sum of all elements in a list.\n"
     ]
    }
   ],
   "source": [
    "print(\"15. Find the sum of all elements in a list.\")"
   ]
  },
  {
   "cell_type": "code",
   "execution_count": 2,
   "id": "196be512-f651-48cb-820d-df37dc330312",
   "metadata": {},
   "outputs": [
    {
     "name": "stdout",
     "output_type": "stream",
     "text": [
      "the sum of all elements of list is: 1378\n"
     ]
    }
   ],
   "source": [
    "#use a list comprehensio :\n",
    "list = [2,25,222,1129]\n",
    "#calculate the sum of all elements:\n",
    "total_sum = sum(list)\n",
    "#print the sum:\n",
    "print(\"the sum of all elements of list is:\",total_sum)"
   ]
  },
  {
   "cell_type": "code",
   "execution_count": 3,
   "id": "4cf586b6-13b9-4fe3-b280-d108e909f423",
   "metadata": {},
   "outputs": [
    {
     "name": "stdout",
     "output_type": "stream",
     "text": [
      "16. Find the maximum value in a list.\n"
     ]
    }
   ],
   "source": [
    "print(\"16. Find the maximum value in a list.\")"
   ]
  },
  {
   "cell_type": "code",
   "execution_count": 5,
   "id": "d5ab5c36-697a-4701-9ec3-d4b94935b809",
   "metadata": {},
   "outputs": [
    {
     "name": "stdout",
     "output_type": "stream",
     "text": [
      "the maximum value of the list is: 99\n"
     ]
    }
   ],
   "source": [
    "#example list,\n",
    "list = [24,63,72,99]\n",
    "#find the maximum value,\n",
    "max_value = max(list)\n",
    "#print the max value:\n",
    "print(\"the maximum value of the list is:\",max_value)"
   ]
  },
  {
   "cell_type": "code",
   "execution_count": 6,
   "id": "ef98cc6c-6e13-4d46-b903-42d018289dfc",
   "metadata": {},
   "outputs": [
    {
     "name": "stdout",
     "output_type": "stream",
     "text": [
      "17. Find the minimum value in a list.\n"
     ]
    }
   ],
   "source": [
    "print(\"17. Find the minimum value in a list.\")"
   ]
  },
  {
   "cell_type": "code",
   "execution_count": 8,
   "id": "1dc660cf-d79e-4152-8f42-9bc73d1d7b17",
   "metadata": {},
   "outputs": [
    {
     "name": "stdout",
     "output_type": "stream",
     "text": [
      "The minimum value of the list is: 1\n"
     ]
    }
   ],
   "source": [
    "#example list:\n",
    "list = [1,6,58,52,74,10]\n",
    "#find the min value:\n",
    "min_value = min(list)\n",
    "\n",
    "#print min value:\n",
    "print(\"The minimum value of the list is:\",min_value)"
   ]
  },
  {
   "cell_type": "code",
   "execution_count": 9,
   "id": "90f67f17-408f-40fe-bce8-dd72f81462a7",
   "metadata": {},
   "outputs": [
    {
     "name": "stdout",
     "output_type": "stream",
     "text": [
      "18. Create a list of squares of numbers from 1 to 10.\n"
     ]
    }
   ],
   "source": [
    "print(\"18. Create a list of squares of numbers from 1 to 10.\")"
   ]
  },
  {
   "cell_type": "code",
   "execution_count": 10,
   "id": "18133dd9-6ccb-409f-9812-0da588ea267c",
   "metadata": {},
   "outputs": [
    {
     "name": "stdout",
     "output_type": "stream",
     "text": [
      "list of squares [1, 4, 9, 16, 25, 36, 49, 64, 81, 100]\n"
     ]
    }
   ],
   "source": [
    "#use a list comprehension:\n",
    "squares = [x**2 for x in range(1,11)]\n",
    "#print sqares :\n",
    "print(\"list of squares\",squares)"
   ]
  },
  {
   "cell_type": "code",
   "execution_count": 11,
   "id": "4ba17c6b-fb98-4681-842e-c337db91d136",
   "metadata": {},
   "outputs": [
    {
     "name": "stdout",
     "output_type": "stream",
     "text": [
      "19. Create a list of random numbers.\n"
     ]
    }
   ],
   "source": [
    "print(\"19. Create a list of random numbers.\")"
   ]
  },
  {
   "cell_type": "code",
   "execution_count": 12,
   "id": "fb5e64a0-1931-4e7c-8188-45404cac7760",
   "metadata": {},
   "outputs": [
    {
     "name": "stdout",
     "output_type": "stream",
     "text": [
      "list of random integers: [14, 19, 58, 11, 56, 47, 66, 87, 48, 85]\n"
     ]
    }
   ],
   "source": [
    "import random\n",
    "#create a list of random integers:\n",
    "random_integers = [random.randint(1,100) for i in range(10)]\n",
    "#print list of random integers:\n",
    "print(\"list of random integers:\",random_integers)"
   ]
  },
  {
   "cell_type": "code",
   "execution_count": 13,
   "id": "9fbc904d-ee72-40d8-a929-4e241c4452f8",
   "metadata": {},
   "outputs": [
    {
     "name": "stdout",
     "output_type": "stream",
     "text": [
      "20. Remove duplicates from a list.\n"
     ]
    }
   ],
   "source": [
    "print(\"20. Remove duplicates from a list.\")"
   ]
  },
  {
   "cell_type": "code",
   "execution_count": 22,
   "id": "08e08ca7-51b2-40af-b49b-9fde769854ac",
   "metadata": {},
   "outputs": [
    {
     "name": "stdout",
     "output_type": "stream",
     "text": [
      "The original list is : [1, 3, 5, 6, 3, 5, 6, 1]\n",
      "The list after removing duplicates : [1, 3, 5, 6]\n"
     ]
    }
   ],
   "source": [
    "# initializing list\n",
    "test_list = [1, 3, 5, 6, 3, 5, 6, 1]\n",
    "print(\"The original list is : \"\n",
    "\t+ str(test_list))\n",
    "\n",
    "# using list comprehension to remove duplicated from list\n",
    "res = []\n",
    "[res.append(x) for x in test_list if x not in res]\n",
    "\n",
    "# printing list after removal\n",
    "print (\"The list after removing duplicates : \"\n",
    "\t+ str(res))\n"
   ]
  },
  {
   "cell_type": "code",
   "execution_count": 23,
   "id": "a2857d82-20f7-4eef-b400-eae23f6928f3",
   "metadata": {},
   "outputs": [
    {
     "name": "stdout",
     "output_type": "stream",
     "text": [
      "21. Find the common elements between two lists.\n"
     ]
    }
   ],
   "source": [
    "print(\"21. Find the common elements between two lists.\")"
   ]
  },
  {
   "cell_type": "code",
   "execution_count": 26,
   "id": "1f8c4de4-7d6d-44c9-a391-fa7c146e9751",
   "metadata": {},
   "outputs": [
    {
     "name": "stdout",
     "output_type": "stream",
     "text": [
      "{80, 20}\n"
     ]
    }
   ],
   "source": [
    "def find_common(list1, list2, list3):\n",
    "    common = set()\n",
    "    for elem in list1:\n",
    "        if elem in list2 and elem in list3:\n",
    "            common.add(elem)\n",
    "    return common\n",
    " \n",
    "list1 = [1, 5, 10, 20, 40, 80]\n",
    "list2 = [6, 7, 20, 80, 100]\n",
    "list3 = [3, 4, 15, 20, 30, 70, 80, 120]\n",
    " \n",
    "common = find_common(list1, list2, list3)\n",
    "print(common)"
   ]
  },
  {
   "cell_type": "code",
   "execution_count": 27,
   "id": "e447cd41-05b2-47dd-a2cc-90ccd63ef36f",
   "metadata": {},
   "outputs": [
    {
     "name": "stdout",
     "output_type": "stream",
     "text": [
      "22. Find the difference between two lists.\n"
     ]
    }
   ],
   "source": [
    "print(\"22. Find the difference between two lists.\")"
   ]
  },
  {
   "cell_type": "code",
   "execution_count": 30,
   "id": "20e64ee6-8af7-4e3a-bc2b-7b8e5fc7e229",
   "metadata": {},
   "outputs": [
    {
     "name": "stdout",
     "output_type": "stream",
     "text": [
      "[10, 15, 20, 30]\n"
     ]
    }
   ],
   "source": [
    "li1 = [10, 15, 20, 25, 30, 35, 40]\n",
    "li2 = [25, 40, 35]\n",
    " \n",
    "temp3 = []\n",
    "for element in li1:\n",
    "    if element not in li2:\n",
    "        temp3.append(element)\n",
    " \n",
    "print(temp3)"
   ]
  },
  {
   "cell_type": "code",
   "execution_count": 31,
   "id": "bab4e368-0855-4d1e-be11-e5705a3dbd4d",
   "metadata": {},
   "outputs": [
    {
     "name": "stdout",
     "output_type": "stream",
     "text": [
      "23. Merge two lists.\n"
     ]
    }
   ],
   "source": [
    "print(\"23. Merge two lists.\")"
   ]
  },
  {
   "cell_type": "code",
   "execution_count": 32,
   "id": "cba3595a-fd3c-4525-a645-50c5af013806",
   "metadata": {},
   "outputs": [
    {
     "name": "stdout",
     "output_type": "stream",
     "text": [
      "after merging: [23, 56, 89, 52, 63, 41]\n"
     ]
    }
   ],
   "source": [
    "#Example lists:\n",
    "list1 = [23,56,89]\n",
    "list2 = [52,63,41]\n",
    "#merging lists:\n",
    "merged_list = list1 + list2\n",
    "#print the merged lists:\n",
    "print(\"after merging:\",merged_list)"
   ]
  },
  {
   "cell_type": "code",
   "execution_count": 33,
   "id": "ecb9a350-7f0e-43ea-a1bb-c8a728839533",
   "metadata": {},
   "outputs": [
    {
     "name": "stdout",
     "output_type": "stream",
     "text": [
      "24. Multiply all elements in a list by 2.\n"
     ]
    }
   ],
   "source": [
    "print(\"24. Multiply all elements in a list by 2.\")"
   ]
  },
  {
   "cell_type": "code",
   "execution_count": 34,
   "id": "4180772b-2f2b-4cdf-a601-03797cf8df79",
   "metadata": {},
   "outputs": [
    {
     "name": "stdout",
     "output_type": "stream",
     "text": [
      "the multiplied list is: [42, 62, 82]\n"
     ]
    }
   ],
   "source": [
    "#example list:\n",
    "l = [21,31,41]\n",
    "# using list comprehension:\n",
    "multiplied_list = [x*2 for x in l]\n",
    "print(\"the multiplied list is:\",multiplied_list)"
   ]
  },
  {
   "cell_type": "code",
   "execution_count": 35,
   "id": "8c22f375-1242-4ebd-a2f6-a8dea89ee12f",
   "metadata": {},
   "outputs": [
    {
     "name": "stdout",
     "output_type": "stream",
     "text": [
      "25. Filter out all even numbers from a list.\n"
     ]
    }
   ],
   "source": [
    "print(\"25. Filter out all even numbers from a list.\")"
   ]
  },
  {
   "cell_type": "code",
   "execution_count": 36,
   "id": "ce403dee-164f-430d-be09-b84546b184ec",
   "metadata": {},
   "outputs": [
    {
     "name": "stdout",
     "output_type": "stream",
     "text": [
      "[2, 6, 8, 10]\n"
     ]
    }
   ],
   "source": [
    "def ev_num(number):\n",
    "    ev_list = []\n",
    "    for i in number:\n",
    "        if i%2 == 0:\n",
    "            ev_list.append(i)\n",
    "    return ev_list  \n",
    "number = [1,2,3,45,5,6,7,8,9,10]\n",
    "print(ev_num(number))"
   ]
  },
  {
   "cell_type": "code",
   "execution_count": 37,
   "id": "94ebce9e-d382-4941-9a9a-abe3e6ea7838",
   "metadata": {},
   "outputs": [
    {
     "name": "stdout",
     "output_type": "stream",
     "text": [
      "26. Convert a list of strings to a list of integers.\n"
     ]
    }
   ],
   "source": [
    "print(\"26. Convert a list of strings to a list of integers.\")"
   ]
  },
  {
   "cell_type": "code",
   "execution_count": 38,
   "id": "ac19a559-e5d7-4aba-a93e-722a19283181",
   "metadata": {},
   "outputs": [
    {
     "name": "stdout",
     "output_type": "stream",
     "text": [
      "List of integers: [10, 20, 30, 40, 50]\n"
     ]
    }
   ],
   "source": [
    "# Example list of strings\n",
    "string_list = [\"10\", \"20\", \"30\", \"40\", \"50\"]\n",
    "\n",
    "# Convert list of strings to list of integers using a list comprehension\n",
    "integer_list = [int(x) for x in string_list]\n",
    "\n",
    "# Print the list of integers\n",
    "print(\"List of integers:\", integer_list)"
   ]
  },
  {
   "cell_type": "code",
   "execution_count": 39,
   "id": "4554ba60-b807-4bd0-b6e3-ede820089ada",
   "metadata": {},
   "outputs": [
    {
     "name": "stdout",
     "output_type": "stream",
     "text": [
      "27. Convert a list of integers to a list of strings.\n"
     ]
    }
   ],
   "source": [
    "print(\"27. Convert a list of integers to a list of strings.\")"
   ]
  },
  {
   "cell_type": "code",
   "execution_count": 40,
   "id": "8c423df5-7fdf-4786-abb1-254085a8ce89",
   "metadata": {},
   "outputs": [
    {
     "name": "stdout",
     "output_type": "stream",
     "text": [
      "List of strings: ['10', '20', '30', '40', '50']\n"
     ]
    }
   ],
   "source": [
    "# Example list of integers\n",
    "integer_list = [10, 20, 30, 40, 50]\n",
    "\n",
    "# Convert list of integers to list of strings using a list comprehension\n",
    "string_list = [str(x) for x in integer_list]\n",
    "\n",
    "# Print the list of strings\n",
    "print(\"List of strings:\", string_list)"
   ]
  },
  {
   "cell_type": "code",
   "execution_count": 41,
   "id": "b1729db5-4ff0-4348-b1e4-26745473707d",
   "metadata": {},
   "outputs": [
    {
     "name": "stdout",
     "output_type": "stream",
     "text": [
      "28. Flatten a nested list.\n"
     ]
    }
   ],
   "source": [
    "print(\"28. Flatten a nested list.\")"
   ]
  },
  {
   "cell_type": "code",
   "execution_count": 45,
   "id": "e1b05344-da64-4e20-ab17-a3a7e9b4cfac",
   "metadata": {},
   "outputs": [
    {
     "name": "stdout",
     "output_type": "stream",
     "text": [
      "List [[11, 22, 33, 44], [55, 66, 77], [88, 99, 100]]\n",
      "Flat List [11, 22, 33, 44, 55, 66, 77, 88, 99, 100]\n"
     ]
    }
   ],
   "source": [
    "# Original list\n",
    "lis = [[11, 22, 33, 44], [55, 66, 77], [88, 99, 100]]\n",
    "\n",
    "# iterate through the sublist using List comprehension\n",
    "flatList = [element for innerList in lis for element in innerList]\n",
    "\n",
    "# printing original list\n",
    "print('List', lis)\n",
    "# printing flat list\n",
    "print('Flat List', flatList)\n"
   ]
  },
  {
   "cell_type": "code",
   "execution_count": 46,
   "id": "e2e3d501-84e8-4894-a535-101f76a613ec",
   "metadata": {},
   "outputs": [
    {
     "name": "stdout",
     "output_type": "stream",
     "text": [
      "29. Create a list of the first 10 Fibonacci numbers.\n"
     ]
    }
   ],
   "source": [
    "print(\"29. Create a list of the first 10 Fibonacci numbers.\")"
   ]
  },
  {
   "cell_type": "code",
   "execution_count": 47,
   "id": "c2450266-660f-434e-8921-7a6a7784ed6e",
   "metadata": {},
   "outputs": [
    {
     "name": "stdout",
     "output_type": "stream",
     "text": [
      "First 10 Fibonacci numbers: [0, 1]\n"
     ]
    }
   ],
   "source": [
    "#Function to generate the first n Fibonacci numbers\n",
    "def generate_fibonacci(n):\n",
    "    fibonacci_list = [0, 1]  # Initialize the list with the first two Fibonacci numbers\n",
    "\n",
    "    for i in range(2, n):\n",
    "        next_fibonacci = fibonacci_list[i - 1] + fibonacci_list[i - 2]\n",
    "        fibonacci_list.append(next_fibonacci)\n",
    "\n",
    "    return fibonacci_list\n",
    "\n",
    "# Generate the first 10 Fibonacci numbers\n",
    "fibonacci_numbers = generate_fibonacci(2)\n",
    "\n",
    "# Print the list of Fibonacci numbers\n",
    "print(\"First 10 Fibonacci numbers:\", fibonacci_numbers) "
   ]
  },
  {
   "cell_type": "code",
   "execution_count": 48,
   "id": "85f083eb-4e55-4706-b4d4-e45a7f356101",
   "metadata": {},
   "outputs": [
    {
     "name": "stdout",
     "output_type": "stream",
     "text": [
      "30. Check if a list is sorted.\n"
     ]
    }
   ],
   "source": [
    "print(\"30. Check if a list is sorted.\")"
   ]
  },
  {
   "cell_type": "code",
   "execution_count": 49,
   "id": "9ac5cf34-8fb3-4822-835a-daea84454a40",
   "metadata": {},
   "outputs": [
    {
     "name": "stdout",
     "output_type": "stream",
     "text": [
      "The list is sorted in ascending order.\n"
     ]
    }
   ],
   "source": [
    "#Function to check if a list is sorted in ascending order\n",
    "def is_sorted_ascending(lst):\n",
    "    for i in range(1, len(lst)):\n",
    "        if lst[i] < lst[i - 1]:\n",
    "            return False\n",
    "    return True\n",
    "\n",
    "# Example list\n",
    "ascending_list = [10, 20, 30, 40, 50]\n",
    "\n",
    "# Check if the list is sorted in ascending order\n",
    "if is_sorted_ascending(ascending_list):\n",
    "    print(\"The list is sorted in ascending order.\")\n",
    "else:\n",
    "    print(\"The list is not sorted in ascending order.\")"
   ]
  },
  {
   "cell_type": "code",
   "execution_count": 50,
   "id": "db99fa6d-1f46-478b-b91b-26290bceee94",
   "metadata": {},
   "outputs": [
    {
     "name": "stdout",
     "output_type": "stream",
     "text": [
      "31. Rotate a list to the left by `n` positions.\n"
     ]
    }
   ],
   "source": [
    "print(\"31. Rotate a list to the left by `n` positions.\")"
   ]
  },
  {
   "cell_type": "code",
   "execution_count": 51,
   "id": "a4b5f0c0-4402-4529-ab39-6d814b71aed4",
   "metadata": {},
   "outputs": [
    {
     "name": "stdout",
     "output_type": "stream",
     "text": [
      "Rotated list: [3, 4, 5, 6, 1, 2]\n"
     ]
    }
   ],
   "source": [
    "# Function to rotate a list to the left by n positions\n",
    "def rotate_left(lst, n):\n",
    "    n = n % len(lst)  # Normalize n to handle cases where n is larger than the list length\n",
    "    # print(n)\n",
    "    rotated = lst[n:] + lst[:n]\n",
    "    return rotated\n",
    "\n",
    "# Example list\n",
    "my_list = [1, 2, 3, 4, 5, 6]\n",
    "\n",
    "# Number of positions to rotate by\n",
    "n = 2\n",
    "\n",
    "# Rotate the list to the left by n positions\n",
    "rotated_list = rotate_left(my_list, n)\n",
    "\n",
    "# Print the rotated list\n",
    "print(\"Rotated list:\", rotated_list)"
   ]
  },
  {
   "cell_type": "code",
   "execution_count": 52,
   "id": "d086efe4-20c5-4dea-9456-a42d9677b8b1",
   "metadata": {},
   "outputs": [
    {
     "name": "stdout",
     "output_type": "stream",
     "text": [
      "32. Rotate a list to the right by `n` positions.\n"
     ]
    }
   ],
   "source": [
    "print(\"32. Rotate a list to the right by `n` positions.\")"
   ]
  },
  {
   "cell_type": "code",
   "execution_count": 53,
   "id": "de2e0c60-5137-43b9-b83c-5534a45abcd1",
   "metadata": {},
   "outputs": [
    {
     "name": "stdout",
     "output_type": "stream",
     "text": [
      "Rotated list: [5, 6, 1, 2, 3, 4]\n"
     ]
    }
   ],
   "source": [
    "#Function to rotate a list to the right by n positions\n",
    "def rotate_right(lst, n):\n",
    "    n = n % len(lst)  # Normalize n to handle cases where n is larger than the list length\n",
    "    # print(n)\n",
    "    rotated = lst[-n:] + lst[:-n]\n",
    "    return rotated\n",
    "\n",
    "# Example list\n",
    "my_list = [1, 2, 3, 4, 5, 6]\n",
    "\n",
    "# Number of positions to rotate by\n",
    "n = 2\n",
    "\n",
    "# Rotate the list to the right by n positions\n",
    "rotated_list = rotate_right(my_list, n)\n",
    "\n",
    "# Print the rotated list\n",
    "print(\"Rotated list:\", rotated_list)"
   ]
  },
  {
   "cell_type": "code",
   "execution_count": 54,
   "id": "98533a37-2598-4b64-82ed-777d193d6a1e",
   "metadata": {},
   "outputs": [
    {
     "name": "stdout",
     "output_type": "stream",
     "text": [
      "33. Create a list of prime numbers up to 50.\n"
     ]
    }
   ],
   "source": [
    "print(\"33. Create a list of prime numbers up to 50.\")"
   ]
  },
  {
   "cell_type": "code",
   "execution_count": 55,
   "id": "4548c06b-cffc-4928-9b24-f251f2845f01",
   "metadata": {},
   "outputs": [
    {
     "name": "stdout",
     "output_type": "stream",
     "text": [
      "5 25\n",
      "5 29\n",
      "List of prime numbers up to 50: [2, 3, 5, 7, 11, 13, 17, 19, 23, 29]\n"
     ]
    }
   ],
   "source": [
    "#Function to check if a number is prime\n",
    "def is_prime(num):\n",
    "    if num <= 1:\n",
    "        return False\n",
    "    if num <= 3:\n",
    "        return True\n",
    "    if num % 2 == 0 or num % 3 == 0:\n",
    "        return False\n",
    "    i = 5\n",
    "    while i * i <= num:\n",
    "      print(i,num)\n",
    "      if num % i == 0 or num % (i + 2) == 0:\n",
    "          return False\n",
    "      i += 6\n",
    "    return True\n",
    "\n",
    "# Create a list of prime numbers up to 50\n",
    "prime_numbers = [num for num in range(2,30) if is_prime(num)]\n",
    "\n",
    "# Print the list of prime numbers\n",
    "print(\"List of prime numbers up to 50:\", prime_numbers)"
   ]
  },
  {
   "cell_type": "code",
   "execution_count": 56,
   "id": "ca887d93-93fc-407e-b802-ac6c9e9c6a2e",
   "metadata": {},
   "outputs": [
    {
     "name": "stdout",
     "output_type": "stream",
     "text": [
      "34. Split a list into chunks of size `n`.\n"
     ]
    }
   ],
   "source": [
    "print(\"34. Split a list into chunks of size `n`.\")"
   ]
  },
  {
   "cell_type": "code",
   "execution_count": 57,
   "id": "0e1f13ce-c333-482b-9fe5-ee45f2aaa0d9",
   "metadata": {},
   "outputs": [
    {
     "name": "stdout",
     "output_type": "stream",
     "text": [
      "List of prime numbers up to 50: [2, 3, 5, 7, 11, 13, 17, 19, 23, 29, 31, 37, 41, 43, 47]\n"
     ]
    }
   ],
   "source": [
    "#Create a list of prime numbers up to 50 using Sieve of Eratosthenes algorithm\n",
    "def sieve_of_eratosthenes(limit):\n",
    "    primes = []\n",
    "    is_prime = [True] * (limit + 1)\n",
    "    is_prime[0] = is_prime[1] = False\n",
    "\n",
    "    for num in range(2, int(limit ** 0.5) + 1):\n",
    "        if is_prime[num]:\n",
    "            primes.append(num)\n",
    "            for multiple in range(num * num, limit + 1, num):\n",
    "                is_prime[multiple] = False\n",
    "\n",
    "    for num in range(int(limit ** 0.5) + 1, limit + 1):\n",
    "        if is_prime[num]:\n",
    "            primes.append(num)\n",
    "\n",
    "    return primes\n",
    "\n",
    "# Create a list of prime numbers up to 50\n",
    "prime_numbers = sieve_of_eratosthenes(50)\n",
    "\n",
    "# Print the list of prime numbers\n",
    "print(\"List of prime numbers up to 50:\", prime_numbers)"
   ]
  },
  {
   "cell_type": "code",
   "execution_count": 58,
   "id": "04eff278-0c04-465a-9e61-035a89a92560",
   "metadata": {},
   "outputs": [
    {
     "name": "stdout",
     "output_type": "stream",
     "text": [
      "35. Find the second largest number in a list.\n"
     ]
    }
   ],
   "source": [
    "print(\"35. Find the second largest number in a list.\")"
   ]
  },
  {
   "cell_type": "code",
   "execution_count": 59,
   "id": "ca9bda71-ff00-4f30-9449-fa5d93970a6f",
   "metadata": {},
   "outputs": [
    {
     "name": "stdout",
     "output_type": "stream",
     "text": [
      "Second largest number: 25\n"
     ]
    }
   ],
   "source": [
    "#Example list\n",
    "my_list = [10, 5, 20, 15, 30, 25]\n",
    "\n",
    "# Remove duplicates and sort the list in ascending order\n",
    "sorted_list = sorted(set(my_list))\n",
    "\n",
    "# Find the second largest number\n",
    "if len(sorted_list) >= 2:\n",
    "    second_largest = sorted_list[-2]\n",
    "    print(\"Second largest number:\", second_largest)\n",
    "else:\n",
    "    print(\"The list does not contain enough elements.\")"
   ]
  },
  {
   "cell_type": "code",
   "execution_count": 1,
   "id": "75146783-e943-4975-81ec-b9a57e3de729",
   "metadata": {},
   "outputs": [
    {
     "name": "stdout",
     "output_type": "stream",
     "text": [
      "36. Replace every element in a list with its square.\n"
     ]
    }
   ],
   "source": [
    "print(\"36. Replace every element in a list with its square.\")"
   ]
  },
  {
   "cell_type": "code",
   "execution_count": 2,
   "id": "e3d8693a-db81-4a99-8301-15eb121921d8",
   "metadata": {},
   "outputs": [
    {
     "name": "stdout",
     "output_type": "stream",
     "text": [
      "Squared list: [4, 16, 36, 64, 100]\n"
     ]
    }
   ],
   "source": [
    "#Example list\n",
    "my_list = [2, 4, 6, 8, 10]\n",
    "\n",
    "# Replace every element with its square using a list comprehension\n",
    "squared_list = [x ** 2 for x in my_list]\n",
    "\n",
    "# Print the squared list\n",
    "print(\"Squared list:\", squared_list) "
   ]
  },
  {
   "cell_type": "code",
   "execution_count": 5,
   "id": "ebf84702-f504-4f88-8345-d8d81474a2a6",
   "metadata": {},
   "outputs": [
    {
     "name": "stdout",
     "output_type": "stream",
     "text": [
      "37. Convert a list to a dictionary where list elements become keys and their indices become values.\n"
     ]
    }
   ],
   "source": [
    "print(\"37. Convert a list to a dictionary where list elements become keys and their indices become values.\")"
   ]
  },
  {
   "cell_type": "code",
   "execution_count": 8,
   "id": "e7e718b0-5ccc-44ad-a9bb-aab1c72dbf19",
   "metadata": {},
   "outputs": [
    {
     "name": "stdout",
     "output_type": "stream",
     "text": [
      "Converted dictionary: {'mango': 0, 'apple': 1, 'cherry': 2, 'date': 3, 'banana': 4}\n"
     ]
    }
   ],
   "source": [
    "#Example list\n",
    "my_list = ['mango', 'apple', 'cherry', 'date', 'banana']\n",
    "\n",
    "# Convert list to dictionary using dictionary comprehension\n",
    "my_dict = {element: index for index, element in enumerate(my_list)}\n",
    "\n",
    "# Print the resulting dictionary\n",
    "print(\"Converted dictionary:\", my_dict) "
   ]
  },
  {
   "cell_type": "code",
   "execution_count": 9,
   "id": "b473e3fd-f879-4680-b99f-9747120d1a6e",
   "metadata": {},
   "outputs": [
    {
     "name": "stdout",
     "output_type": "stream",
     "text": [
      "38. Shuffle the elements of a list randomly.\n"
     ]
    }
   ],
   "source": [
    "print(\"38. Shuffle the elements of a list randomly.\")"
   ]
  },
  {
   "cell_type": "code",
   "execution_count": 10,
   "id": "419333b1-7675-428c-b9af-2545e5fbfe5a",
   "metadata": {},
   "outputs": [
    {
     "name": "stdout",
     "output_type": "stream",
     "text": [
      "Shuffled list: [3, 1, 2, 5, 9, 6, 4, 10, 7, 8]\n"
     ]
    }
   ],
   "source": [
    "import random\n",
    "\n",
    "# Example list\n",
    "my_list = [1, 2, 3, 4, 5, 6, 7, 8, 9, 10]\n",
    "\n",
    "# Shuffle the list randomly\n",
    "random.shuffle(my_list)\n",
    "\n",
    "# Print the shuffled list\n",
    "print(\"Shuffled list:\", my_list)"
   ]
  },
  {
   "cell_type": "code",
   "execution_count": 11,
   "id": "2c7a49b3-6c80-43b8-a077-4ae5fe8d3362",
   "metadata": {},
   "outputs": [
    {
     "name": "stdout",
     "output_type": "stream",
     "text": [
      "39. Create a list of the first 10 factorial numbers.\n"
     ]
    }
   ],
   "source": [
    "print(\"39. Create a list of the first 10 factorial numbers.\")"
   ]
  },
  {
   "cell_type": "code",
   "execution_count": 12,
   "id": "66332693-ab13-43ca-a2f5-1aa035c5bca2",
   "metadata": {},
   "outputs": [
    {
     "name": "stdout",
     "output_type": "stream",
     "text": [
      "List of the first 10 factorial numbers: [1, 1, 2, 6, 24, 120, 720, 5040, 40320, 362880]\n"
     ]
    }
   ],
   "source": [
    "#Function to calculate factorial\n",
    "def factorial(n):\n",
    "    if n == 0 or n == 1:\n",
    "        return 1\n",
    "    else:\n",
    "        return n * factorial(n - 1)\n",
    "\n",
    "# Create a list of the first 10 factorial numbers\n",
    "factorial_numbers = [factorial(i) for i in range(10)]\n",
    "\n",
    "# Print the list of factorial numbers\n",
    "print(\"List of the first 10 factorial numbers:\", factorial_numbers)"
   ]
  },
  {
   "cell_type": "code",
   "execution_count": 13,
   "id": "ab1ab663-83ee-45d4-a6a1-3242c50a71a9",
   "metadata": {},
   "outputs": [
    {
     "name": "stdout",
     "output_type": "stream",
     "text": [
      "40. Check if two lists have at least one element in common.\n"
     ]
    }
   ],
   "source": [
    "print(\"40. Check if two lists have at least one element in common.\")"
   ]
  },
  {
   "cell_type": "code",
   "execution_count": 14,
   "id": "878ba21e-1e79-47b8-91fe-df59371e8fd3",
   "metadata": {},
   "outputs": [
    {
     "name": "stdout",
     "output_type": "stream",
     "text": [
      "The lists have at least one common element.\n"
     ]
    }
   ],
   "source": [
    "#Function to check if two lists have at least one element in common\n",
    "def has_common_element(list1, list2):\n",
    "    for item in list1:\n",
    "        if item in list2:\n",
    "            return True\n",
    "    return False\n",
    "\n",
    "# Example lists\n",
    "list1 = [1, 2, 3, 4, 5]\n",
    "list2 = [4, 5, 6, 7, 8]\n",
    "\n",
    "# Check if the two lists have at least one element in common\n",
    "if has_common_element(list1, list2):\n",
    "    print(\"The lists have at least one common element.\")\n",
    "else:\n",
    "    print(\"The lists do not have any common elements.\")"
   ]
  },
  {
   "cell_type": "code",
   "execution_count": 16,
   "id": "4d6d6813-b274-4513-bd89-08d8a33f895a",
   "metadata": {},
   "outputs": [
    {
     "name": "stdout",
     "output_type": "stream",
     "text": [
      "41. Remove all elements from a list.\n"
     ]
    }
   ],
   "source": [
    "print(\"41. Remove all elements from a list.\")"
   ]
  },
  {
   "cell_type": "code",
   "execution_count": 17,
   "id": "49409575-c4f7-425e-98b3-959cdbd5eeaf",
   "metadata": {},
   "outputs": [
    {
     "name": "stdout",
     "output_type": "stream",
     "text": [
      "Empty list: []\n"
     ]
    }
   ],
   "source": [
    "# Example list\n",
    "my_list = [1, 2, 3, 4, 5]\n",
    "\n",
    "# Clear all elements from the list\n",
    "my_list.clear()\n",
    "\n",
    "# Print the empty list\n",
    "print(\"Empty list:\", my_list)"
   ]
  },
  {
   "cell_type": "code",
   "execution_count": 18,
   "id": "ccb03fa6-ff7d-4e78-b071-957cca138b32",
   "metadata": {},
   "outputs": [
    {
     "name": "stdout",
     "output_type": "stream",
     "text": [
      "42. Replace negative numbers in a list with 0.\n"
     ]
    }
   ],
   "source": [
    "print(\"42. Replace negative numbers in a list with 0.\")"
   ]
  },
  {
   "cell_type": "code",
   "execution_count": 19,
   "id": "ac002f90-144d-4bb4-a6d5-54fa8fc49e31",
   "metadata": {},
   "outputs": [
    {
     "name": "stdout",
     "output_type": "stream",
     "text": [
      "List after replacing negative numbers with 0: [10, 0, 20, 0, 30, 0]\n"
     ]
    }
   ],
   "source": [
    "# Example list\n",
    "my_list = [10, -5, 20, -15, 30, -25]\n",
    "\n",
    "# Step 1: Iterate through the list and replace negative numbers with 0\n",
    "for i in range(len(my_list)):\n",
    "    if my_list[i] < 0:\n",
    "        my_list[i] = 0\n",
    "\n",
    "# Print the list after replacing negative numbers with 0\n",
    "print(\"List after replacing negative numbers with 0:\", my_list)"
   ]
  },
  {
   "cell_type": "code",
   "execution_count": 21,
   "id": "8f4e1644-15e2-42e6-90f2-bc2141815d46",
   "metadata": {},
   "outputs": [
    {
     "name": "stdout",
     "output_type": "stream",
     "text": [
      "43. Convert a string into a list of words.\n"
     ]
    }
   ],
   "source": [
    "print(\"43. Convert a string into a list of words.\")"
   ]
  },
  {
   "cell_type": "code",
   "execution_count": 23,
   "id": "fdd9482e-ffd2-4dbc-9321-d8dcefb9005b",
   "metadata": {},
   "outputs": [
    {
     "name": "stdout",
     "output_type": "stream",
     "text": [
      "List of words: ['Hello,', 'this', 'is', 'a', 'simple', 'sentence.']\n"
     ]
    }
   ],
   "source": [
    "# Example string\n",
    "my_string = \"Hello, this is a simple sentence.\"\n",
    "\n",
    "# Convert the string into a list of words\n",
    "word_list = my_string.split()\n",
    "\n",
    "# Print the list of words\n",
    "print(\"List of words:\", word_list)"
   ]
  },
  {
   "cell_type": "code",
   "execution_count": 24,
   "id": "56fea99f-66c3-41a8-8a8d-c150e24b8fec",
   "metadata": {},
   "outputs": [
    {
     "name": "stdout",
     "output_type": "stream",
     "text": [
      "44. Convert a list of words into a string.\n"
     ]
    }
   ],
   "source": [
    "print(\"44. Convert a list of words into a string.\")"
   ]
  },
  {
   "cell_type": "code",
   "execution_count": 26,
   "id": "d5945d90-736d-48b1-afb1-d5da2d909dce",
   "metadata": {},
   "outputs": [
    {
     "name": "stdout",
     "output_type": "stream",
     "text": [
      "Converted string: Hello, this is a simple sentence.\n"
     ]
    }
   ],
   "source": [
    "# Example list of words\n",
    "word_list = [\"Hello,\", \"this\", \"is\", \"a\", \"simple\", \"sentence.\"]\n",
    "\n",
    "# Convert the list of words into a string\n",
    "my_string = \" \".join(word_list)\n",
    "\n",
    "# Print the resulting string\n",
    "print(\"Converted string:\", my_string)"
   ]
  },
  {
   "cell_type": "code",
   "execution_count": 27,
   "id": "32b47e80-6bf9-4679-a195-42175e988547",
   "metadata": {},
   "outputs": [
    {
     "name": "stdout",
     "output_type": "stream",
     "text": [
      "45. Create a list of the first `n` powers of 2.\n"
     ]
    }
   ],
   "source": [
    "print(\"45. Create a list of the first `n` powers of 2.\")"
   ]
  },
  {
   "cell_type": "code",
   "execution_count": 28,
   "id": "00ad272c-99c0-44d1-920a-f3ca7364b881",
   "metadata": {},
   "outputs": [
    {
     "name": "stdout",
     "output_type": "stream",
     "text": [
      "List of the first 5 powers of 2: [1, 2, 4, 8, 16]\n"
     ]
    }
   ],
   "source": [
    "#Specify the value of n\n",
    "n = 5\n",
    "\n",
    "# Create a list of the first n powers of 2 using a loop\n",
    "power_list = [2 ** i for i in range(n)]\n",
    "\n",
    "# Print the list of powers of 2\n",
    "print(\"List of the first\", n, \"powers of 2:\", power_list) "
   ]
  },
  {
   "cell_type": "code",
   "execution_count": 29,
   "id": "949f85ac-90c6-49f2-901c-ac5085cb4c8a",
   "metadata": {},
   "outputs": [
    {
     "name": "stdout",
     "output_type": "stream",
     "text": [
      "46. Find the longest string in a list of strings.\n"
     ]
    }
   ],
   "source": [
    "print(\"46. Find the longest string in a list of strings.\")"
   ]
  },
  {
   "cell_type": "code",
   "execution_count": 30,
   "id": "6387e6a2-a295-44a2-8b3a-476700413473",
   "metadata": {},
   "outputs": [
    {
     "name": "stdout",
     "output_type": "stream",
     "text": [
      "awesome\n"
     ]
    }
   ],
   "source": [
    "# example length of strings:\n",
    "my_list = [\"else\",\"great\",\"is\",\"right\",\"awesome\"]\n",
    "#find the longest string:\n",
    "longest_string = \"\"\n",
    "for s in my_list:\n",
    "    if len(s)>len(longest_string):\n",
    "        longest_string = s\n",
    "    \n",
    "    #print the longest string:\n",
    "print(longest_string)"
   ]
  },
  {
   "cell_type": "code",
   "execution_count": 32,
   "id": "96b5ad93-aae0-452a-bf87-c698f4215380",
   "metadata": {},
   "outputs": [
    {
     "name": "stdout",
     "output_type": "stream",
     "text": [
      "47. Find the shortest string in a list of strings.\n"
     ]
    }
   ],
   "source": [
    "print(\"47. Find the shortest string in a list of strings.\")"
   ]
  },
  {
   "cell_type": "code",
   "execution_count": 33,
   "id": "60aed3a3-59f1-4045-abc8-b453395d9d1f",
   "metadata": {},
   "outputs": [
    {
     "name": "stdout",
     "output_type": "stream",
     "text": [
      "Shortest string: date\n"
     ]
    }
   ],
   "source": [
    "# Example list of strings\n",
    "string_list = [\"apple\", \"banana\", \"cherry\", \"date\", \"elderberry\"]\n",
    "\n",
    "# Find the shortest string in the list\n",
    "shortest_string = string_list[0]  # Initialize with the first string\n",
    "for s in string_list:\n",
    "    if len(s) < len(shortest_string):\n",
    "        shortest_string = s\n",
    "\n",
    "# Print the shortest string\n",
    "print(\"Shortest string:\", shortest_string)"
   ]
  },
  {
   "cell_type": "code",
   "execution_count": 1,
   "id": "287f3bff-c52d-4289-bd5e-4e76477e2d01",
   "metadata": {},
   "outputs": [
    {
     "name": "stdout",
     "output_type": "stream",
     "text": [
      "48. Create a list of the first `n` triangular numbers.\n"
     ]
    }
   ],
   "source": [
    "print(\"48. Create a list of the first `n` triangular numbers.\")"
   ]
  },
  {
   "cell_type": "code",
   "execution_count": 2,
   "id": "82a16d0e-d1a1-4683-a895-346ea93e73fc",
   "metadata": {},
   "outputs": [
    {
     "name": "stdout",
     "output_type": "stream",
     "text": [
      "List of the first 5 triangular numbers: [1, 3, 6, 10, 15]\n"
     ]
    }
   ],
   "source": [
    "# Function to calculate triangular numbers\n",
    "def triangular_numbers(n):\n",
    "    return [i * (i + 1) // 2 for i in range(1, n + 1)]\n",
    "\n",
    "# Specify the value of n\n",
    "n = 5\n",
    "\n",
    "# Create a list of the first n triangular numbers\n",
    "triangular_list = triangular_numbers(n)\n",
    "\n",
    "# Print the list of triangular numbers\n",
    "print(\"List of the first\", n, \"triangular numbers:\", triangular_list)"
   ]
  },
  {
   "cell_type": "code",
   "execution_count": 3,
   "id": "60838bc9-0dca-42e6-ae2f-63a23f865d82",
   "metadata": {},
   "outputs": [
    {
     "name": "stdout",
     "output_type": "stream",
     "text": [
      "49. Check if a list contains another list as a subsequence.\n"
     ]
    }
   ],
   "source": [
    "print(\"49. Check if a list contains another list as a subsequence.\")"
   ]
  },
  {
   "cell_type": "code",
   "execution_count": 4,
   "id": "cd170054-6b97-43e6-bfbf-a2c617417762",
   "metadata": {},
   "outputs": [
    {
     "name": "stdout",
     "output_type": "stream",
     "text": [
      "Main list contains the subsequence.\n"
     ]
    }
   ],
   "source": [
    "# Function to check if a list contains another list as a subsequence\n",
    "def is_subsequence(subsequence, main_list):\n",
    "    subseq_index = 0  # Index for the subsequence elements\n",
    "    for element in main_list:\n",
    "        if element == subsequence[subseq_index]:\n",
    "            subseq_index += 1\n",
    "            if subseq_index == len(subsequence):\n",
    "                return True\n",
    "    return False\n",
    "\n",
    "# Example main list and subsequence\n",
    "main_list = [1, 2, 3, 4, 5, 6, 7, 8, 9, 10]\n",
    "subsequence = [3, 5, 8]\n",
    "\n",
    "# Check if the main list contains the subsequence\n",
    "if is_subsequence(subsequence, main_list):\n",
    "    print(\"Main list contains the subsequence.\")\n",
    "else:\n",
    "    print(\"Main list does not contain the subsequence.\")"
   ]
  },
  {
   "cell_type": "code",
   "execution_count": 5,
   "id": "ac64d268-93f1-4299-a9af-2e7ca4a9cbc2",
   "metadata": {},
   "outputs": [
    {
     "name": "stdout",
     "output_type": "stream",
     "text": [
      "50. Swap two elements in a list by their indices.\n"
     ]
    }
   ],
   "source": [
    "print(\"50. Swap two elements in a list by their indices.\")"
   ]
  },
  {
   "cell_type": "code",
   "execution_count": 6,
   "id": "cd020028-ec80-439a-baa3-3521fcb38b2a",
   "metadata": {},
   "outputs": [
    {
     "name": "stdout",
     "output_type": "stream",
     "text": [
      "List after swapping elements: [1, 4, 3, 2, 5]\n"
     ]
    }
   ],
   "source": [
    "# Example list\n",
    "my_list = [1, 2, 3, 4, 5]\n",
    "\n",
    "# Indices of elements to swap\n",
    "index1 = 1\n",
    "index2 = 3\n",
    "\n",
    "# Swap the elements at the specified indices\n",
    "temp = my_list[index1]\n",
    "my_list[index1] = my_list[index2]\n",
    "my_list[index2] = temp\n",
    "\n",
    "# Print the list after swapping\n",
    "print(\"List after swapping elements:\", my_list)"
   ]
  },
  {
   "cell_type": "markdown",
   "id": "fa7fd803-30d6-46c8-b426-4ff98a1973e5",
   "metadata": {},
   "source": [
    " TUPLE BASED PRACTICE PROBLEMS:"
   ]
  },
  {
   "cell_type": "code",
   "execution_count": 7,
   "id": "05baedfd-f557-4a64-9a01-0237fcc49c6a",
   "metadata": {},
   "outputs": [
    {
     "name": "stdout",
     "output_type": "stream",
     "text": [
      "1. Create a tuple with integers from 1 to 5.\n"
     ]
    }
   ],
   "source": [
    "print(\"1. Create a tuple with integers from 1 to 5.\")"
   ]
  },
  {
   "cell_type": "code",
   "execution_count": 8,
   "id": "49e2c4fd-caab-4dbe-8a09-17168259f238",
   "metadata": {},
   "outputs": [
    {
     "name": "stdout",
     "output_type": "stream",
     "text": [
      "(1, 2, 3, 4, 5)\n"
     ]
    }
   ],
   "source": [
    "#create a list of integers from 1 to 5 using list comprehension:\n",
    "listt = [i for i in range (1,6)]\n",
    "#converting list to tuple,\n",
    "tuple_int = tuple(listt)\n",
    "#print the tuple:\n",
    "print(tuple_int)"
   ]
  },
  {
   "cell_type": "code",
   "execution_count": 9,
   "id": "e6d2f91d-b440-408f-a213-aff8e6e86fb7",
   "metadata": {},
   "outputs": [
    {
     "name": "stdout",
     "output_type": "stream",
     "text": [
      "2. Access the third element of a tuple.\n"
     ]
    }
   ],
   "source": [
    "print(\"2. Access the third element of a tuple.\")"
   ]
  },
  {
   "cell_type": "code",
   "execution_count": 10,
   "id": "1d1a74d0-ae13-4124-b8f7-524ad809a30f",
   "metadata": {},
   "outputs": [
    {
     "name": "stdout",
     "output_type": "stream",
     "text": [
      "The third element is: 6\n"
     ]
    }
   ],
   "source": [
    "#example tuple:\n",
    "my_tuple = (1,5,6,8,7)\n",
    "#acess the third element:\n",
    "third_el = my_tuple[2]\n",
    "#print the third element:\n",
    "print(\"The third element is:\",third_el)"
   ]
  },
  {
   "cell_type": "code",
   "execution_count": 12,
   "id": "edb8ffd9-6ec2-463e-b93b-83a1dc892756",
   "metadata": {},
   "outputs": [
    {
     "name": "stdout",
     "output_type": "stream",
     "text": [
      "3. Find the length of a tuple without using the `len()` function.\n"
     ]
    }
   ],
   "source": [
    "print(\"3. Find the length of a tuple without using the `len()` function.\")"
   ]
  },
  {
   "cell_type": "code",
   "execution_count": 13,
   "id": "8f1742e3-bb6a-42e6-b165-428a5d2db65b",
   "metadata": {},
   "outputs": [
    {
     "name": "stdout",
     "output_type": "stream",
     "text": [
      "5\n"
     ]
    }
   ],
   "source": [
    "#create a tuple:\n",
    "my_tuple = (50,60,52,62,41)\n",
    "#define count:\n",
    "count = 0\n",
    "#iterate through the loop:\n",
    "for i in my_tuple:\n",
    "    count += 1\n",
    "print(count) "
   ]
  },
  {
   "cell_type": "code",
   "execution_count": 14,
   "id": "a5970b39-56ef-442a-82aa-a9951a5315ec",
   "metadata": {},
   "outputs": [
    {
     "name": "stdout",
     "output_type": "stream",
     "text": [
      "4. Count the occurrences of an element in a tuple.\n"
     ]
    }
   ],
   "source": [
    "print(\"4. Count the occurrences of an element in a tuple.\")"
   ]
  },
  {
   "cell_type": "code",
   "execution_count": 15,
   "id": "3698fc09-7515-42e2-b154-db3287b71fb4",
   "metadata": {},
   "outputs": [
    {
     "name": "stdout",
     "output_type": "stream",
     "text": [
      "Occurence of 40 in my_tuple is 3 times.\n"
     ]
    }
   ],
   "source": [
    "#example tuple:\n",
    "my_tuple = (20,40,60,40,63,40)\n",
    "element_to_count = 40\n",
    "count = 0\n",
    "for i in my_tuple:\n",
    "    if i == element_to_count:\n",
    "        count += 1\n",
    "print(f\"Occurence of {element_to_count} in my_tuple is {count} times.\")"
   ]
  },
  {
   "cell_type": "code",
   "execution_count": 16,
   "id": "141d059d-85bf-4a23-ae58-ef1db088f5a6",
   "metadata": {},
   "outputs": [
    {
     "name": "stdout",
     "output_type": "stream",
     "text": [
      "5. Find the index of the first occurrence of an element in a tuple.\n"
     ]
    }
   ],
   "source": [
    "print(\"5. Find the index of the first occurrence of an element in a tuple.\")"
   ]
  },
  {
   "cell_type": "code",
   "execution_count": 17,
   "id": "bf6ea008-f842-4ab6-8dec-0faf0bcbc248",
   "metadata": {},
   "outputs": [
    {
     "name": "stdout",
     "output_type": "stream",
     "text": [
      "first occurence of 50 is at 2\n"
     ]
    }
   ],
   "source": [
    "my_tuple = (20,60,50,20,50,20)\n",
    "element_to_find = 50\n",
    "index = -1\n",
    "for i,item in enumerate(my_tuple):\n",
    "    if item == element_to_find:\n",
    "        index = i\n",
    "        break\n",
    "        \n",
    "if index != -1:\n",
    "    print(f\"first occurence of {element_to_find} is at {index}\")\n",
    "else:\n",
    "    print(\"the element not found in tuple\")"
   ]
  },
  {
   "cell_type": "code",
   "execution_count": 18,
   "id": "790f3e95-91de-4899-beec-cad4df1923ec",
   "metadata": {},
   "outputs": [
    {
     "name": "stdout",
     "output_type": "stream",
     "text": [
      "6. Check if an element exists in a tuple.\n"
     ]
    }
   ],
   "source": [
    "print(\"6. Check if an element exists in a tuple.\")"
   ]
  },
  {
   "cell_type": "code",
   "execution_count": 19,
   "id": "4a886888-cc3d-43c7-b0f2-31b22587157a",
   "metadata": {},
   "outputs": [
    {
     "name": "stdout",
     "output_type": "stream",
     "text": [
      "3 is present in t.\n"
     ]
    }
   ],
   "source": [
    "t = (1,2,3,4,5)\n",
    "element_to_check = 3\n",
    "if element_to_check in t:\n",
    "    print(f\"{element_to_check} is present in t.\")"
   ]
  },
  {
   "cell_type": "code",
   "execution_count": 20,
   "id": "3602ee7a-3c30-4a69-8f4a-666bd16c96fc",
   "metadata": {},
   "outputs": [
    {
     "name": "stdout",
     "output_type": "stream",
     "text": [
      "7. Convert a tuple to a list\n"
     ]
    }
   ],
   "source": [
    "print(\"7. Convert a tuple to a list\")"
   ]
  },
  {
   "cell_type": "code",
   "execution_count": 21,
   "id": "f96024f8-7a4d-4a24-bce6-6a7846f425fd",
   "metadata": {},
   "outputs": [
    {
     "name": "stdout",
     "output_type": "stream",
     "text": [
      "tuple: (52, 63, 74, 85, 96)\n",
      "list: [52, 63, 74, 85, 96]\n"
     ]
    }
   ],
   "source": [
    "my_tuple = (52,63,74,85,96)\n",
    "tuple_to_list = list(my_tuple)\n",
    "print(\"tuple:\",my_tuple)\n",
    "print(\"list:\",tuple_to_list)"
   ]
  },
  {
   "cell_type": "code",
   "execution_count": 22,
   "id": "a37f3b79-8ca4-4204-a2af-f8da376c9952",
   "metadata": {},
   "outputs": [
    {
     "name": "stdout",
     "output_type": "stream",
     "text": [
      "8. Convert a list to a tuple.\n"
     ]
    }
   ],
   "source": [
    "print(\"8. Convert a list to a tuple.\")"
   ]
  },
  {
   "cell_type": "code",
   "execution_count": 23,
   "id": "291f70db-1df5-402c-908f-4c08cee802c2",
   "metadata": {},
   "outputs": [
    {
     "name": "stdout",
     "output_type": "stream",
     "text": [
      "List: [10, 20, 30, 40, 50]\n",
      "Tuple: (10, 20, 30, 40, 50)\n"
     ]
    }
   ],
   "source": [
    "#Step 1: Create a list\n",
    "my_list = [10, 20, 30, 40, 50]\n",
    "\n",
    "# Step 2: Convert the list to a tuple\n",
    "my_tuple = tuple(my_list)\n",
    "\n",
    "# Step 3: Print the res ulting tuple\n",
    "print(\"List:\", my_list)\n",
    "print(\"Tuple:\", my_tuple)"
   ]
  },
  {
   "cell_type": "code",
   "execution_count": 24,
   "id": "6b9d6de2-d6d7-4a4d-850a-779b5470a201",
   "metadata": {},
   "outputs": [
    {
     "name": "stdout",
     "output_type": "stream",
     "text": [
      "9. Unpack the elements of a tuple into variables.\n"
     ]
    }
   ],
   "source": [
    "print(\"9. Unpack the elements of a tuple into variables.\")"
   ]
  },
  {
   "cell_type": "code",
   "execution_count": 25,
   "id": "0cf9dc68-3edc-4ee0-bf09-8eae049a83a8",
   "metadata": {},
   "outputs": [
    {
     "name": "stdout",
     "output_type": "stream",
     "text": [
      "var1: 10\n",
      "var2: 20\n",
      "var3: 30\n"
     ]
    }
   ],
   "source": [
    "# Step 1: Create a tuple\n",
    "my_tuple = (10, 20, 30)\n",
    "\n",
    "# Step 2: Unpack the elements of the tuple into variables\n",
    "var1, var2, var3 = my_tuple\n",
    "\n",
    "# Step 3: Print the variables\n",
    "print(\"var1:\", var1)\n",
    "print(\"var2:\", var2)\n",
    "print(\"var3:\", var3)"
   ]
  },
  {
   "cell_type": "code",
   "execution_count": 26,
   "id": "3a1a68a3-5c19-4ff4-ae3a-2734cd639fa1",
   "metadata": {},
   "outputs": [
    {
     "name": "stdout",
     "output_type": "stream",
     "text": [
      "10. Create a tuple of even numbers from 1 to 10.\n"
     ]
    }
   ],
   "source": [
    "print(\"10. Create a tuple of even numbers from 1 to 10.\")"
   ]
  },
  {
   "cell_type": "code",
   "execution_count": 27,
   "id": "647ad6a4-5f9e-4fa0-ac3e-15f0acdbd172",
   "metadata": {},
   "outputs": [
    {
     "name": "stdout",
     "output_type": "stream",
     "text": [
      "Tuple of even numbers is: (2, 4, 6, 8, 10)\n"
     ]
    }
   ],
   "source": [
    "list_even = [i for i in range(2,11,2)]\n",
    "tuple_even = tuple(list_even)\n",
    "print(\"Tuple of even numbers is:\",tuple_even)"
   ]
  },
  {
   "cell_type": "code",
   "execution_count": 28,
   "id": "5396785c-e8cb-4dba-afa5-be708b8bbee3",
   "metadata": {},
   "outputs": [
    {
     "name": "stdout",
     "output_type": "stream",
     "text": [
      "11. Create a tuple of odd numbers from 1 to 10.\n"
     ]
    }
   ],
   "source": [
    "print(\"11. Create a tuple of odd numbers from 1 to 10.\")"
   ]
  },
  {
   "cell_type": "code",
   "execution_count": 29,
   "id": "93fcba82-7257-4827-a0f5-8d431a5e6cb8",
   "metadata": {},
   "outputs": [
    {
     "name": "stdout",
     "output_type": "stream",
     "text": [
      "tuple of odd numbers is: (1, 3, 5, 7, 9)\n"
     ]
    }
   ],
   "source": [
    "list_odd = [i for i in range(1,10,2)]\n",
    "_tuple = tuple(list_odd)\n",
    "print(\"tuple of odd numbers is:\",_tuple)"
   ]
  },
  {
   "cell_type": "code",
   "execution_count": 30,
   "id": "6b72b664-8d33-4846-bc88-8c72674b1500",
   "metadata": {},
   "outputs": [
    {
     "name": "stdout",
     "output_type": "stream",
     "text": [
      "12. Concatenate two tuples.\n"
     ]
    }
   ],
   "source": [
    "print(\"12. Concatenate two tuples.\")"
   ]
  },
  {
   "cell_type": "code",
   "execution_count": 31,
   "id": "ed59a18e-9655-41a8-94a1-6b438d4306d0",
   "metadata": {},
   "outputs": [
    {
     "name": "stdout",
     "output_type": "stream",
     "text": [
      "Concatenated tuple: (1, 2, 3, 4, 5, 6)\n"
     ]
    }
   ],
   "source": [
    "# Step 1: Create two tuples\n",
    "tuple1 = (1, 2, 3)\n",
    "tuple2 = (4, 5, 6)\n",
    "\n",
    "# Step 2: Concatenate the two tuples\n",
    "concatenated_tuple = tuple1 + tuple2\n",
    "\n",
    "# Step 3: Print the concatenated tuple\n",
    "print(\"Concatenated tuple:\", concatenated_tuple)"
   ]
  },
  {
   "cell_type": "code",
   "execution_count": 32,
   "id": "7b6d1998-f637-4e21-996e-a151ba53d369",
   "metadata": {},
   "outputs": [
    {
     "name": "stdout",
     "output_type": "stream",
     "text": [
      "13. Repeat a tuple three times.\n"
     ]
    }
   ],
   "source": [
    "print(\"13. Repeat a tuple three times.\")"
   ]
  },
  {
   "cell_type": "code",
   "execution_count": 33,
   "id": "bb57b2e0-8705-48d4-99b2-6b4dba5cacd3",
   "metadata": {},
   "outputs": [
    {
     "name": "stdout",
     "output_type": "stream",
     "text": [
      "Repeated tuple: (1, 2, 3, 1, 2, 3, 1, 2, 3)\n"
     ]
    }
   ],
   "source": [
    "# Step 1: Create a tuple\n",
    "original_tuple = (1, 2, 3)\n",
    "\n",
    "# Step 2: Repeat the tuple three times\n",
    "repeated_tuple = original_tuple * 3\n",
    "\n",
    "# Step 3: Print the repeated tuple\n",
    "print(\"Repeated tuple:\", repeated_tuple)"
   ]
  },
  {
   "cell_type": "code",
   "execution_count": 35,
   "id": "e8135c53-b144-4820-9528-fe5e0c2690ad",
   "metadata": {},
   "outputs": [
    {
     "name": "stdout",
     "output_type": "stream",
     "text": [
      "14. Check if a tuple is empty.\n"
     ]
    }
   ],
   "source": [
    "print(\"14. Check if a tuple is empty.\")"
   ]
  },
  {
   "cell_type": "code",
   "execution_count": 36,
   "id": "17038be1-8fbc-456b-8f5e-7d491da41d02",
   "metadata": {},
   "outputs": [
    {
     "name": "stdout",
     "output_type": "stream",
     "text": [
      "The empty_tuple is empty.\n",
      "The non_empty_tuple is not empty.\n"
     ]
    }
   ],
   "source": [
    "#Step 1: Create an empty tuple and a non-empty tuple\n",
    "empty_tuple = ()\n",
    "non_empty_tuple = (1, 2, 3)\n",
    "\n",
    "# Step 2: Check if the tuples are empty\n",
    "if not empty_tuple:\n",
    "    print(\"The empty_tuple is empty.\")\n",
    "else:\n",
    "    print(\"The empty_tuple is not empty.\")\n",
    "\n",
    "if not non_empty_tuple:\n",
    "    print(\"The non_empty_tuple is empty.\")\n",
    "else:\n",
    "    print(\"The non_empty_tuple is not empty.\")"
   ]
  },
  {
   "cell_type": "code",
   "execution_count": 37,
   "id": "609746ac-f599-4ebf-9643-6f8e2340cad4",
   "metadata": {},
   "outputs": [
    {
     "name": "stdout",
     "output_type": "stream",
     "text": [
      "15. Create a nested tuple\n"
     ]
    }
   ],
   "source": [
    "print(\"15. Create a nested tuple\")"
   ]
  },
  {
   "cell_type": "code",
   "execution_count": 38,
   "id": "77d9fff6-902e-4c0e-bb6c-cb0d4518329f",
   "metadata": {},
   "outputs": [
    {
     "name": "stdout",
     "output_type": "stream",
     "text": [
      "Nested tuple: ((1, 2, 3), ('a', 'b', 'c'), (True, False))\n"
     ]
    }
   ],
   "source": [
    "# Step 1: Create a nested tuple\n",
    "nested_tuple = ((1, 2, 3), ('a', 'b', 'c'), (True, False))\n",
    "\n",
    "# Step 2: Print the nested tuple\n",
    "print(\"Nested tuple:\", nested_tuple)"
   ]
  },
  {
   "cell_type": "code",
   "execution_count": 39,
   "id": "b13bfde4-3514-49b0-aed6-e139b0d94218",
   "metadata": {},
   "outputs": [
    {
     "name": "stdout",
     "output_type": "stream",
     "text": [
      "16. Access the first element of a nested tuple.\n"
     ]
    }
   ],
   "source": [
    "print(\"16. Access the first element of a nested tuple.\")"
   ]
  },
  {
   "cell_type": "code",
   "execution_count": 40,
   "id": "f611d7c1-a8ff-44a4-81d4-313d29fb8917",
   "metadata": {},
   "outputs": [
    {
     "name": "stdout",
     "output_type": "stream",
     "text": [
      "First element of the nested tuple: (1, 2, 3)\n"
     ]
    }
   ],
   "source": [
    "#Step 1: Create a nested tuple\n",
    "nested_tuple = ((1, 2, 3), ('a', 'b', 'c'), (True, False))\n",
    "\n",
    "# Step 2: Access the first element of the nested tuple\n",
    "first_element = nested_tuple[0]\n",
    "\n",
    "# Step 3: Print the first element\n",
    "print(\"First element of the nested tuple:\", first_element)"
   ]
  },
  {
   "cell_type": "code",
   "execution_count": 41,
   "id": "259c17c3-bbb4-42fa-99d1-7c102ac42076",
   "metadata": {},
   "outputs": [
    {
     "name": "stdout",
     "output_type": "stream",
     "text": [
      "17. Create a tuple with a single element.\n"
     ]
    }
   ],
   "source": [
    "print(\"17. Create a tuple with a single element.\")"
   ]
  },
  {
   "cell_type": "code",
   "execution_count": 42,
   "id": "4016fb09-0817-459f-97a0-02552f946597",
   "metadata": {},
   "outputs": [
    {
     "name": "stdout",
     "output_type": "stream",
     "text": [
      "Single element tuple: (42,)\n"
     ]
    }
   ],
   "source": [
    "# Step 1: Create a tuple with a single element\n",
    "single_element_tuple = (42,)  # Note the trailing comma\n",
    "\n",
    "# Step 2: Print the single element tuple\n",
    "print(\"Single element tuple:\", single_element_tuple)"
   ]
  },
  {
   "cell_type": "code",
   "execution_count": 43,
   "id": "6ce174eb-d9a3-4513-bf89-f7df6a40e872",
   "metadata": {},
   "outputs": [
    {
     "name": "stdout",
     "output_type": "stream",
     "text": [
      "18. Compare two tuples.\n"
     ]
    }
   ],
   "source": [
    "print(\"18. Compare two tuples.\")"
   ]
  },
  {
   "cell_type": "code",
   "execution_count": 44,
   "id": "0eb6dd36-a294-4624-9a8f-f18d0217ad33",
   "metadata": {},
   "outputs": [
    {
     "name": "stdout",
     "output_type": "stream",
     "text": [
      "tuple1 == tuple2: False\n",
      "tuple1 != tuple2: True\n",
      "tuple1 < tuple2: True\n",
      "tuple1 <= tuple2: True\n",
      "tuple1 > tuple2: False\n",
      "tuple1 >= tuple2: False\n"
     ]
    }
   ],
   "source": [
    "# Step 1: Create two tuples\n",
    "tuple1 = (1, 2, 3)\n",
    "tuple2 = (1, 2, 4)\n",
    "\n",
    "# Step 2: Compare the two tuples using comparison operators\n",
    "print(\"tuple1 == tuple2:\", tuple1 == tuple2)  # Equality check\n",
    "print(\"tuple1 != tuple2:\", tuple1 != tuple2)  # Inequality check\n",
    "print(\"tuple1 < tuple2:\", tuple1 < tuple2)    # Less than check\n",
    "print(\"tuple1 <= tuple2:\", tuple1 <= tuple2)  # Less than or equal to check\n",
    "print(\"tuple1 > tuple2:\", tuple1 > tuple2)    # Greater than check\n",
    "print(\"tuple1 >= tuple2:\", tuple1 >= tuple2)  # Greater than or equal to check"
   ]
  },
  {
   "cell_type": "code",
   "execution_count": 45,
   "id": "cac73b0a-2f11-45ed-9787-1cc7b9928093",
   "metadata": {},
   "outputs": [
    {
     "name": "stdout",
     "output_type": "stream",
     "text": [
      "19. Delete a tuple.\n"
     ]
    }
   ],
   "source": [
    "print(\"19. Delete a tuple.\")"
   ]
  },
  {
   "cell_type": "code",
   "execution_count": 47,
   "id": "112c931e-0acd-4824-9b3a-35f9931dea1c",
   "metadata": {},
   "outputs": [
    {
     "name": "stdout",
     "output_type": "stream",
     "text": [
      "The original tuple: (1, 5, 3, 6, 8)\n",
      "The tuple after clearing values: ()\n"
     ]
    }
   ],
   "source": [
    "# Input\n",
    "tup = (1, 5, 3, 6, 8)\n",
    "\n",
    "# Delete the original tuple using the del keyword\n",
    "del tup\n",
    "\n",
    "# Output\n",
    "print(\"The original tuple:\", (1, 5, 3, 6, 8))\n",
    "print(\"The tuple after clearing values:\", ())\n"
   ]
  },
  {
   "cell_type": "code",
   "execution_count": 48,
   "id": "27acbdf9-1aba-4b57-9e36-c6a640f046a7",
   "metadata": {},
   "outputs": [
    {
     "name": "stdout",
     "output_type": "stream",
     "text": [
      "20. Slice a tuple.\n"
     ]
    }
   ],
   "source": [
    "print(\"20. Slice a tuple.\")"
   ]
  },
  {
   "cell_type": "code",
   "execution_count": 49,
   "id": "40cf2085-cde7-44d6-b561-919a02faa848",
   "metadata": {},
   "outputs": [
    {
     "name": "stdout",
     "output_type": "stream",
     "text": [
      "Sliced tuple: (3, 4, 5, 6)\n"
     ]
    }
   ],
   "source": [
    "#Step 1: Create a tuple\n",
    "my_tuple = (1, 2, 3, 4, 5, 6, 7, 8, 9, 10)\n",
    "\n",
    "# Step 2: Slice the tuple to get a portion of it\n",
    "sliced_tuple = my_tuple[2:6]  # Elements from index 2 to 5 (end index is exclusive)\n",
    "\n",
    "# Step 3: Print the sliced tuple\n",
    "print(\"Sliced tuple:\", sliced_tuple) "
   ]
  },
  {
   "cell_type": "code",
   "execution_count": 50,
   "id": "bb98f240-be92-4b3a-8cab-226e3b7c6504",
   "metadata": {},
   "outputs": [
    {
     "name": "stdout",
     "output_type": "stream",
     "text": [
      "21. Find the maximum value in a tuple.\n"
     ]
    }
   ],
   "source": [
    "print(\"21. Find the maximum value in a tuple.\")"
   ]
  },
  {
   "cell_type": "code",
   "execution_count": 51,
   "id": "a26d9ba8-fe15-4531-87cd-5b0a13e5bd7b",
   "metadata": {},
   "outputs": [
    {
     "name": "stdout",
     "output_type": "stream",
     "text": [
      "Maximum value: 45\n"
     ]
    }
   ],
   "source": [
    "# Step 1: Create a tuple\n",
    "my_tuple = (10, 20, 5, 45, 30)\n",
    "\n",
    "# Step 2: Find the maximum value in the tuple using the 'max()' function\n",
    "max_value = max(my_tuple)\n",
    "\n",
    "# Step 3: Print the maximum value\n",
    "print(\"Maximum value:\", max_value)"
   ]
  },
  {
   "cell_type": "code",
   "execution_count": 52,
   "id": "e4246371-19d8-40c5-965d-921aff0c7e47",
   "metadata": {},
   "outputs": [
    {
     "name": "stdout",
     "output_type": "stream",
     "text": [
      "22. Find the minimum value in a tuple.\n"
     ]
    }
   ],
   "source": [
    "print(\"22. Find the minimum value in a tuple.\")"
   ]
  },
  {
   "cell_type": "code",
   "execution_count": 53,
   "id": "3ee27271-df97-48da-afa1-18de9733be0a",
   "metadata": {},
   "outputs": [
    {
     "name": "stdout",
     "output_type": "stream",
     "text": [
      "Minimum value: 5\n"
     ]
    }
   ],
   "source": [
    "# Step 1: Create a tuple\n",
    "my_tuple = (10, 20, 5, 45, 30)\n",
    "\n",
    "# Step 2: Find the minimum value in the tuple using the 'min()' function\n",
    "min_value = min(my_tuple)\n",
    "\n",
    "# Step 3: Print the minimum value\n",
    "print(\"Minimum value:\", min_value)"
   ]
  },
  {
   "cell_type": "code",
   "execution_count": 54,
   "id": "434f2c09-9869-4780-8e80-8a5e45238f08",
   "metadata": {},
   "outputs": [
    {
     "name": "stdout",
     "output_type": "stream",
     "text": [
      "23. Convert a string to a tuple of characters.\n"
     ]
    }
   ],
   "source": [
    "print(\"23. Convert a string to a tuple of characters.\")"
   ]
  },
  {
   "cell_type": "code",
   "execution_count": 55,
   "id": "a6452a36-7f37-4214-9be2-1ee5ddbdf367",
   "metadata": {},
   "outputs": [
    {
     "name": "stdout",
     "output_type": "stream",
     "text": [
      "Tuple of characters: ('H', 'e', 'l', 'l', 'o', ',', ' ', 'W', 'o', 'r', 'l', 'd', '!')\n"
     ]
    }
   ],
   "source": [
    "# Step 1: Create a string\n",
    "my_string = \"Hello, World!\"\n",
    "\n",
    "# Step 2: Convert the string to a tuple of characters\n",
    "tuple_of_characters = tuple(my_string)\n",
    "\n",
    "# Step 3: Print the tuple of characters\n",
    "print(\"Tuple of characters:\", tuple_of_characters)"
   ]
  },
  {
   "cell_type": "code",
   "execution_count": 56,
   "id": "45e950ee-cc0b-4f6f-8de1-1e2b18d0fd53",
   "metadata": {},
   "outputs": [
    {
     "name": "stdout",
     "output_type": "stream",
     "text": [
      "24. Convert a tuple of characters to a string.\n"
     ]
    }
   ],
   "source": [
    "print(\"24. Convert a tuple of characters to a string.\")"
   ]
  },
  {
   "cell_type": "code",
   "execution_count": 57,
   "id": "0a278f3b-8c5d-4c18-bd21-7791d81a7811",
   "metadata": {},
   "outputs": [
    {
     "name": "stdout",
     "output_type": "stream",
     "text": [
      "String from tuple: Hello World!\n"
     ]
    }
   ],
   "source": [
    "#Step 1: Create a tuple of characters\n",
    "tuple_of_characters = ('H', 'e', 'l', 'l', 'o', ' ', 'W', 'o', 'r', 'l', 'd', '!')\n",
    "\n",
    "# Step 2: Convert the tuple of characters to a string using the 'join()' method\n",
    "string_from_tuple = ''.join(tuple_of_characters)\n",
    "\n",
    "# Step 3: Print the resulting string\n",
    "print(\"String from tuple:\", string_from_tuple)"
   ]
  },
  {
   "cell_type": "code",
   "execution_count": 58,
   "id": "6c21826d-2470-44d8-8c99-6ee5ba99e97e",
   "metadata": {},
   "outputs": [
    {
     "name": "stdout",
     "output_type": "stream",
     "text": [
      "25. Create a tuple from multiple data types.\n"
     ]
    }
   ],
   "source": [
    "print(\"25. Create a tuple from multiple data types.\")"
   ]
  },
  {
   "cell_type": "code",
   "execution_count": 59,
   "id": "34fed2da-59ce-4938-8be4-f8a213d3b170",
   "metadata": {},
   "outputs": [
    {
     "name": "stdout",
     "output_type": "stream",
     "text": [
      "(1, 'hello', 3.14, True)\n"
     ]
    }
   ],
   "source": [
    "# Creating a tuple with elements of different data types\n",
    "mixed_tuple = (1, \"hello\", 3.14, True)\n",
    "\n",
    "# Printing the tuple\n",
    "print(mixed_tuple)"
   ]
  },
  {
   "cell_type": "code",
   "execution_count": 60,
   "id": "7fde473e-3845-4763-b659-fff106676d03",
   "metadata": {},
   "outputs": [
    {
     "name": "stdout",
     "output_type": "stream",
     "text": [
      "26. Check if two tuples are identical.\n"
     ]
    }
   ],
   "source": [
    "print(\"26. Check if two tuples are identical.\")"
   ]
  },
  {
   "cell_type": "code",
   "execution_count": 1,
   "id": "cd5afb32-33cd-4756-91b7-5486c914eca6",
   "metadata": {},
   "outputs": [
    {
     "name": "stdout",
     "output_type": "stream",
     "text": [
      "tuple1 and tuple2 are identical: True\n",
      "tuple1 and tuple3 are identical: False\n"
     ]
    }
   ],
   "source": [
    "#Step 1: Create two tuples\n",
    "tuple1 = (1, 2, 3)\n",
    "tuple2 = (1, 2, 3)\n",
    "tuple3 = (4, 5, 6)\n",
    "\n",
    "# Step 2: Compare the tuples for identity using the equality operator\n",
    "are_identical1 = tuple1 == tuple2\n",
    "are_identical2 = tuple1 == tuple3\n",
    "\n",
    "# Step 3: Print the results\n",
    "print(\"tuple1 and tuple2 are identical:\", are_identical1)\n",
    "print(\"tuple1 and tuple3 are identical:\", are_identical2)"
   ]
  },
  {
   "cell_type": "code",
   "execution_count": 2,
   "id": "a6b65bab-fef3-4f0f-8f5f-78bde359f255",
   "metadata": {},
   "outputs": [
    {
     "name": "stdout",
     "output_type": "stream",
     "text": [
      "27. Sort the elements of a tuple.\n"
     ]
    }
   ],
   "source": [
    "print(\"27. Sort the elements of a tuple.\")"
   ]
  },
  {
   "cell_type": "code",
   "execution_count": 4,
   "id": "828f56cc-9082-4b4f-a44f-8b4a61ed4ecb",
   "metadata": {},
   "outputs": [
    {
     "name": "stdout",
     "output_type": "stream",
     "text": [
      "Sorted tuple: (1, 8, 21, 32, 51)\n"
     ]
    }
   ],
   "source": [
    "# Step 1: Create a tuple\n",
    "my_tuple = (51, 21, 8, 1, 32)\n",
    "\n",
    "# Step 2: Convert the tuple to a list, sort the list, and convert it back to a tuple\n",
    "sorted_tuple = tuple(sorted(my_tuple))\n",
    "\n",
    "# Step 3: Print the sorted tuple\n",
    "print(\"Sorted tuple:\", sorted_tuple)"
   ]
  },
  {
   "cell_type": "code",
   "execution_count": 5,
   "id": "1a7d73f6-83e7-41e1-97d7-909bbb4be9ae",
   "metadata": {},
   "outputs": [
    {
     "name": "stdout",
     "output_type": "stream",
     "text": [
      "28. Convert a tuple of integers to a tuple of strings.\n"
     ]
    }
   ],
   "source": [
    "print(\"28. Convert a tuple of integers to a tuple of strings.\")"
   ]
  },
  {
   "cell_type": "code",
   "execution_count": 8,
   "id": "64f8d6ad-b710-4015-92e5-f1b9f421db27",
   "metadata": {},
   "outputs": [
    {
     "name": "stdout",
     "output_type": "stream",
     "text": [
      "original tuple: (33, 52, 67, 42, 96)\n",
      "converted tuple: ('33', '52', '67', '42', '96')\n"
     ]
    }
   ],
   "source": [
    "int_tuple = (33,52,67,42,96)\n",
    "string_tuple = tuple(str(i) for i in int_tuple)\n",
    "print(\"original tuple:\",int_tuple)\n",
    "print(\"converted tuple:\",string_tuple)"
   ]
  },
  {
   "cell_type": "code",
   "execution_count": 7,
   "id": "25aa0244-8c34-4178-a437-01e600ab9fac",
   "metadata": {},
   "outputs": [
    {
     "name": "stdout",
     "output_type": "stream",
     "text": [
      "29. Convert a tuple of strings to a tuple of integers.\n"
     ]
    }
   ],
   "source": [
    "print(\"29. Convert a tuple of strings to a tuple of integers.\")"
   ]
  },
  {
   "cell_type": "code",
   "execution_count": 9,
   "id": "50a26ad3-ad87-49a4-949c-2ce64f359b96",
   "metadata": {},
   "outputs": [
    {
     "name": "stdout",
     "output_type": "stream",
     "text": [
      "Tuple of integers: (10, 20, 30, 40, 50)\n"
     ]
    }
   ],
   "source": [
    "# Step 1: Create a tuple of strings\n",
    "tuple_of_strings = ('10', '20', '30', '40', '50')\n",
    "\n",
    "# Step 2: Convert the tuple of strings to a tuple of integers using a list comprehension\n",
    "tuple_of_integers = tuple(int(item) for item in tuple_of_strings)\n",
    "\n",
    "# Step 3: Print the tuple of integers\n",
    "print(\"Tuple of integers:\", tuple_of_integers)"
   ]
  },
  {
   "cell_type": "code",
   "execution_count": 10,
   "id": "791a3a88-e508-4129-8564-d9ddaf48448a",
   "metadata": {},
   "outputs": [
    {
     "name": "stdout",
     "output_type": "stream",
     "text": [
      "30. Merge two tuples.\n"
     ]
    }
   ],
   "source": [
    "print(\"30. Merge two tuples.\")"
   ]
  },
  {
   "cell_type": "code",
   "execution_count": 11,
   "id": "30d7fe9b-4812-489c-a8c9-df5b2280bf1b",
   "metadata": {},
   "outputs": [
    {
     "name": "stdout",
     "output_type": "stream",
     "text": [
      "Merged tuple: (1, 2, 3, 4, 5, 6)\n"
     ]
    }
   ],
   "source": [
    "# Step 1: Create two tuples\n",
    "tuple1 = (1, 2, 3)\n",
    "tuple2 = (4, 5, 6)\n",
    "\n",
    "# Step 2: Merge the two tuples using the '+' operator\n",
    "merged_tuple = tuple1 + tuple2\n",
    "\n",
    "# Step 3: Print the merged tuple\n",
    "print(\"Merged tuple:\", merged_tuple)"
   ]
  },
  {
   "cell_type": "code",
   "execution_count": 12,
   "id": "1f3e0683-54b7-41d4-ba32-c636071292bd",
   "metadata": {},
   "outputs": [
    {
     "name": "stdout",
     "output_type": "stream",
     "text": [
      "31. Flatten a nested tuple.\n"
     ]
    }
   ],
   "source": [
    "print(\"31. Flatten a nested tuple.\")"
   ]
  },
  {
   "cell_type": "code",
   "execution_count": 14,
   "id": "d676ecc6-3d7f-4304-af01-a10be6aa60a0",
   "metadata": {},
   "outputs": [
    {
     "name": "stdout",
     "output_type": "stream",
     "text": [
      "Flattened tuple: (1, 2, 3, 4, 5, 6, 7, 8)\n"
     ]
    }
   ],
   "source": [
    "# Recursive function to flatten a nested tuple\n",
    "def flatten_tuple(nested_tuple):\n",
    "    flattened = []\n",
    "    for item in nested_tuple:\n",
    "        if isinstance(item, tuple):\n",
    "            flattened.extend(flatten_tuple(item))\n",
    "        else:\n",
    "            flattened.append(item)\n",
    "    return flattened\n",
    "\n",
    "# Step 1: Create a nested tuple\n",
    "nested_tuple = ((1, 2), (3, 4, 5), (6, (7, 8)))\n",
    "\n",
    "# Step 2: Flatten the nested tuple\n",
    "flattened_tuple = tuple(flatten_tuple(nested_tuple))\n",
    "\n",
    "# Step 3: Print the flattened tuple\n",
    "print(\"Flattened tuple:\", flattened_tuple)"
   ]
  },
  {
   "cell_type": "code",
   "execution_count": 15,
   "id": "0b12c2f5-bd59-42ea-bb56-8513db0f11dd",
   "metadata": {},
   "outputs": [
    {
     "name": "stdout",
     "output_type": "stream",
     "text": [
      "32. Create a tuple of the first 5 prime numbers.\n"
     ]
    }
   ],
   "source": [
    "print(\"32. Create a tuple of the first 5 prime numbers.\")"
   ]
  },
  {
   "cell_type": "code",
   "execution_count": 17,
   "id": "f79c2a6f-bfd0-4f1f-962b-2722e8c6e492",
   "metadata": {},
   "outputs": [
    {
     "name": "stdout",
     "output_type": "stream",
     "text": [
      "Tuple of the first 5 prime numbers: (2, 3, 5, 7, 11)\n"
     ]
    }
   ],
   "source": [
    "# Function to check if a number is prime\n",
    "def is_prime(num):\n",
    "    if num <= 1:\n",
    "        return False\n",
    "    for i in range(2, int(num ** 0.5) + 1):\n",
    "        if num % i == 0:\n",
    "            return False\n",
    "    return True\n",
    "\n",
    "# Generate the first 5 prime numbers\n",
    "prime_numbers_list = [num for num in range(2, 100) if is_prime(num)][:5]\n",
    "\n",
    "# Convert the list to a tuple\n",
    "prime_numbers_tuple = tuple(prime_numbers_list)\n",
    "\n",
    "# Print the tuple of prime numbers\n",
    "print(\"Tuple of the first 5 prime numbers:\", prime_numbers_tuple)"
   ]
  },
  {
   "cell_type": "code",
   "execution_count": 18,
   "id": "b1b90034-42df-4bf6-b0f5-0a4b0e8d3b06",
   "metadata": {},
   "outputs": [
    {
     "name": "stdout",
     "output_type": "stream",
     "text": [
      "33. Check if a tuple is a palindrome.\n"
     ]
    }
   ],
   "source": [
    "print(\"33. Check if a tuple is a palindrome.\")"
   ]
  },
  {
   "cell_type": "code",
   "execution_count": 19,
   "id": "6302482d-cee1-488f-b06b-819872fc659c",
   "metadata": {},
   "outputs": [
    {
     "name": "stdout",
     "output_type": "stream",
     "text": [
      "palindrome_tuple is a palindrome: True\n",
      "non_palindrome_tuple is a palindrome: False\n"
     ]
    }
   ],
   "source": [
    "# Function to check if a tuple is a palindrome\n",
    "def is_palindrome(tup):\n",
    "    return tup == tup[::-1]\n",
    "\n",
    "# Create tuples for testing\n",
    "palindrome_tuple = (1, 2, 3, 2, 1)\n",
    "non_palindrome_tuple = (1, 2, 3, 4, 5)\n",
    "\n",
    "# Check if the tuples are palindromes\n",
    "is_palindrome1 = is_palindrome(palindrome_tuple)\n",
    "is_palindrome2 = is_palindrome(non_palindrome_tuple)\n",
    "\n",
    "# Print the results\n",
    "print(\"palindrome_tuple is a palindrome:\", is_palindrome1)\n",
    "print(\"non_palindrome_tuple is a palindrome:\", is_palindrome2)"
   ]
  },
  {
   "cell_type": "code",
   "execution_count": 20,
   "id": "946300a7-a422-4a5a-98cd-5c8adc6d8b7e",
   "metadata": {},
   "outputs": [
    {
     "name": "stdout",
     "output_type": "stream",
     "text": [
      "34. Create a tuple of squares of numbers from 1 to 5.\n"
     ]
    }
   ],
   "source": [
    "print(\"34. Create a tuple of squares of numbers from 1 to 5.\")"
   ]
  },
  {
   "cell_type": "code",
   "execution_count": 21,
   "id": "359fc47d-bd9a-4bdd-8003-8764e15ca874",
   "metadata": {},
   "outputs": [
    {
     "name": "stdout",
     "output_type": "stream",
     "text": [
      "Tuple of squares: (1, 4, 9, 16, 25)\n"
     ]
    }
   ],
   "source": [
    "#Create a tuple of squares using a list comprehension\n",
    "squares_tuple = tuple(x ** 2 for x in range(1, 6))\n",
    "\n",
    "# Print the tuple of squares\n",
    "print(\"Tuple of squares:\", squares_tuple)"
   ]
  },
  {
   "cell_type": "code",
   "execution_count": 22,
   "id": "175e5c7f-5add-4b7e-89dd-718a296b1fe1",
   "metadata": {},
   "outputs": [
    {
     "name": "stdout",
     "output_type": "stream",
     "text": [
      "35. Filter out all even numbers from a tuple.\n"
     ]
    }
   ],
   "source": [
    "print(\"35. Filter out all even numbers from a tuple.\")"
   ]
  },
  {
   "cell_type": "code",
   "execution_count": 23,
   "id": "82cc6085-07d8-4baa-a778-9f35b22de643",
   "metadata": {},
   "outputs": [
    {
     "name": "stdout",
     "output_type": "stream",
     "text": [
      "Filtered tuple: (1, 3, 5, 7, 9)\n"
     ]
    }
   ],
   "source": [
    "# Create a tuple\n",
    "original_tuple = (1, 2, 3, 4, 5, 6, 7, 8, 9, 10)\n",
    "\n",
    "# Filter out even numbers using a list comprehension\n",
    "filtered_tuple = tuple(num for num in original_tuple if num % 2 != 0)\n",
    "\n",
    "# Print the filtered tuple\n",
    "print(\"Filtered tuple:\", filtered_tuple)"
   ]
  },
  {
   "cell_type": "code",
   "execution_count": 24,
   "id": "6f084381-444a-407e-9c03-1b8b4bd8da28",
   "metadata": {},
   "outputs": [
    {
     "name": "stdout",
     "output_type": "stream",
     "text": [
      "36. Multiply all elements in a tuple by 2.\n"
     ]
    }
   ],
   "source": [
    "print(\"36. Multiply all elements in a tuple by 2.\")"
   ]
  },
  {
   "cell_type": "code",
   "execution_count": 25,
   "id": "67167ccd-8d42-4370-bfad-7a9c282625cb",
   "metadata": {},
   "outputs": [
    {
     "name": "stdout",
     "output_type": "stream",
     "text": [
      "Doubled tuple: (2, 4, 6, 8, 10)\n"
     ]
    }
   ],
   "source": [
    "#Create a tuple\n",
    "original_tuple = (1, 2, 3, 4, 5)\n",
    "\n",
    "# Multiply all elements by 2 using a list comprehension and convert to a tuple\n",
    "doubled_tuple = tuple(num * 2 for num in original_tuple)\n",
    "\n",
    "# Print the doubled tuple\n",
    "print(\"Doubled tuple:\", doubled_tuple)"
   ]
  },
  {
   "cell_type": "code",
   "execution_count": 26,
   "id": "453cbc50-f63b-4587-b3b2-6a262845c661",
   "metadata": {},
   "outputs": [
    {
     "name": "stdout",
     "output_type": "stream",
     "text": [
      "37. Create a tuple of random numbers.\n"
     ]
    }
   ],
   "source": [
    "print(\"37. Create a tuple of random numbers.\")"
   ]
  },
  {
   "cell_type": "code",
   "execution_count": 27,
   "id": "82b345b6-ff76-4568-99c4-fa50a441bac0",
   "metadata": {},
   "outputs": [
    {
     "name": "stdout",
     "output_type": "stream",
     "text": [
      "Random tuple: (97, 50, 12, 25, 69, 72, 19, 73, 75, 90)\n"
     ]
    }
   ],
   "source": [
    "import random\n",
    "\n",
    "# Create a tuple of random numbers using a list comprehension\n",
    "random_tuple = tuple(random.randint(1, 100) for _ in range(10))  # Generating 10 random numbers between 1 and 100\n",
    "\n",
    "# Print the tuple of random numbers\n",
    "print(\"Random tuple:\", random_tuple)"
   ]
  },
  {
   "cell_type": "code",
   "execution_count": 28,
   "id": "9a88cf70-9245-462c-b42d-e256dd5d2aa0",
   "metadata": {},
   "outputs": [
    {
     "name": "stdout",
     "output_type": "stream",
     "text": [
      "38. Check if a tuple is sorted.\n"
     ]
    }
   ],
   "source": [
    "print(\"38. Check if a tuple is sorted.\")"
   ]
  },
  {
   "cell_type": "code",
   "execution_count": 29,
   "id": "61e9540e-41a1-449f-a3f7-97a86af38797",
   "metadata": {},
   "outputs": [
    {
     "name": "stdout",
     "output_type": "stream",
     "text": [
      "sorted_tuple is sorted: True\n",
      "unsorted_tuple is sorted: False\n"
     ]
    }
   ],
   "source": [
    "#Function to check if a tuple is sorted\n",
    "def is_sorted(tup):\n",
    "    for i in range(len(tup) - 1):\n",
    "        if tup[i] > tup[i + 1]:\n",
    "            return False\n",
    "    return True\n",
    "\n",
    "# Create tuples for testing\n",
    "sorted_tuple = (1, 2, 3, 4, 5)\n",
    "unsorted_tuple = (5, 3, 1, 4, 2)\n",
    "\n",
    "# Check if the tuples are sorted\n",
    "is_sorted1 = is_sorted(sorted_tuple)\n",
    "is_sorted2 = is_sorted(unsorted_tuple)\n",
    "\n",
    "# Print the results\n",
    "print(\"sorted_tuple is sorted:\", is_sorted1)\n",
    "print(\"unsorted_tuple is sorted:\", is_sorted2)"
   ]
  },
  {
   "cell_type": "code",
   "execution_count": 30,
   "id": "45715265-84f3-4d84-9935-c24da610587b",
   "metadata": {},
   "outputs": [
    {
     "name": "stdout",
     "output_type": "stream",
     "text": [
      "39. Rotate a tuple to the left by `n` positions.\n"
     ]
    }
   ],
   "source": [
    "print(\"39. Rotate a tuple to the left by `n` positions.\")"
   ]
  },
  {
   "cell_type": "code",
   "execution_count": 31,
   "id": "30efac0b-900b-4424-8418-1421c4ed2b7b",
   "metadata": {},
   "outputs": [
    {
     "name": "stdout",
     "output_type": "stream",
     "text": [
      "(3, 4, 5, 1, 2)\n"
     ]
    }
   ],
   "source": [
    "def rotate_tuple_left(tup, n):\n",
    "    n = n % len(tup)  # Ensure n is within the range of tuple length\n",
    "    rotated_tuple = tup[n:] + tup[:n]  # Rotate the tuple\n",
    "    return rotated_tuple\n",
    "\n",
    "# Example tuple\n",
    "my_tuple = (1, 2, 3, 4, 5)\n",
    "n_positions = 2\n",
    "result = rotate_tuple_left(my_tuple, n_positions)\n",
    "print(result)"
   ]
  },
  {
   "cell_type": "code",
   "execution_count": 32,
   "id": "a3de4c69-f49d-4d9f-8ddb-74960f124f91",
   "metadata": {},
   "outputs": [
    {
     "name": "stdout",
     "output_type": "stream",
     "text": [
      "40. Rotate a tuple to the right by `n` positions.\n"
     ]
    }
   ],
   "source": [
    "print(\"40. Rotate a tuple to the right by `n` positions.\")"
   ]
  },
  {
   "cell_type": "code",
   "execution_count": 33,
   "id": "d565ae14-0b57-4121-82b9-c7e001fcdb72",
   "metadata": {},
   "outputs": [
    {
     "name": "stdout",
     "output_type": "stream",
     "text": [
      "(4, 5, 1, 2, 3)\n"
     ]
    }
   ],
   "source": [
    "def rotate_tuple_right(tup, n):\n",
    "    n = n % len(tup)  # Ensure n is within the range of tuple length\n",
    "    rotated_tuple = tup[-n:] + tup[:-n]  # Rotate the tuple\n",
    "    return rotated_tuple\n",
    "\n",
    "# Example tuple\n",
    "my_tuple = (1, 2, 3, 4, 5)\n",
    "n_positions = 2\n",
    "result = rotate_tuple_right(my_tuple, n_positions)\n",
    "print(result)"
   ]
  },
  {
   "cell_type": "code",
   "execution_count": 34,
   "id": "2fa68aaf-5adf-40f0-95d9-1ff877f628f2",
   "metadata": {},
   "outputs": [
    {
     "name": "stdout",
     "output_type": "stream",
     "text": [
      "41. Create a tuple of the first 5 Fibonacci numbers.\n"
     ]
    }
   ],
   "source": [
    "print(\"41. Create a tuple of the first 5 Fibonacci numbers.\")"
   ]
  },
  {
   "cell_type": "code",
   "execution_count": 35,
   "id": "2d5e718f-cd07-43b9-b5a5-db6410c0e4e1",
   "metadata": {},
   "outputs": [
    {
     "name": "stdout",
     "output_type": "stream",
     "text": [
      "(0, 1, 1, 2, 3)\n"
     ]
    }
   ],
   "source": [
    "# Define a function to generate the first n Fibonacci numbers\n",
    "def generate_fibonacci(n):\n",
    "    fibonacci = [0, 1]  # Initialize the list with the first two Fibonacci numbers\n",
    "    while len(fibonacci) < n:  # Continue generating Fibonacci numbers until the list has n elements\n",
    "        next_number = fibonacci[-1] + fibonacci[-2]  # Calculate the next Fibonacci number\n",
    "        fibonacci.append(next_number)  # Add the next Fibonacci number to the list\n",
    "    return tuple(fibonacci)  # Convert the list to a tuple and return it\n",
    "\n",
    "# Call the generate_fibonacci function to create a tuple of the first 5 Fibonacci numbers\n",
    "fibonacci_tuple = generate_fibonacci(5)\n",
    "\n",
    "# Print the resulting tuple\n",
    "print(fibonacci_tuple)"
   ]
  },
  {
   "cell_type": "code",
   "execution_count": 36,
   "id": "49642c17-a931-4989-833a-b00b6d41cc82",
   "metadata": {},
   "outputs": [
    {
     "name": "stdout",
     "output_type": "stream",
     "text": [
      "42. Create a tuple from user input.\n"
     ]
    }
   ],
   "source": [
    "print(\"42. Create a tuple from user input.\")"
   ]
  },
  {
   "cell_type": "code",
   "execution_count": 41,
   "id": "adb3c90d-cf7e-4ac3-944d-7ae5bd125ed2",
   "metadata": {},
   "outputs": [
    {
     "name": "stdin",
     "output_type": "stream",
     "text": [
      "Enter elements separated by commas:  A,N,M,O,L\n"
     ]
    },
    {
     "name": "stdout",
     "output_type": "stream",
     "text": [
      "User input tuple: ('A', 'N', 'M', 'O', 'L')\n"
     ]
    }
   ],
   "source": [
    "# Taking user input for creating a tuple\n",
    "input_str = input(\"Enter elements separated by commas: \")\n",
    "\n",
    "# Splitting the input string into a list of strings\n",
    "input_list = input_str.split(',')\n",
    "\n",
    "# Converting the list of strings to a tuple\n",
    "user_tuple = tuple(input_list)\n",
    "\n",
    "# Printing the created tuple\n",
    "print(\"User input tuple:\", user_tuple)"
   ]
  },
  {
   "cell_type": "code",
   "execution_count": 42,
   "id": "d5214272-25f9-4177-9a3f-8d3778e13440",
   "metadata": {},
   "outputs": [
    {
     "name": "stdout",
     "output_type": "stream",
     "text": [
      "43. Swap two elements in a tuple.\n"
     ]
    }
   ],
   "source": [
    "print(\"43. Swap two elements in a tuple.\")"
   ]
  },
  {
   "cell_type": "code",
   "execution_count": 43,
   "id": "20c83022-49cc-4a94-b417-0cd136260e76",
   "metadata": {},
   "outputs": [
    {
     "name": "stdout",
     "output_type": "stream",
     "text": [
      "Swapped tuple: (1, 4, 3, 2, 5)\n"
     ]
    }
   ],
   "source": [
    "# Create a tuple\n",
    "my_tuple = (1, 2, 3, 4, 5)\n",
    "\n",
    "# Swap elements at indices 1 and 3\n",
    "index1 = 1\n",
    "index2 = 3\n",
    "swapped_tuple = tuple(\n",
    "    my_tuple[i] if i not in (index1, index2) else\n",
    "    my_tuple[index2] if i == index1 else\n",
    "    my_tuple[index1]\n",
    "    for i in range(len(my_tuple))\n",
    ")\n",
    "\n",
    "# Print the swapped tuple\n",
    "print(\"Swapped tuple:\", swapped_tuple)"
   ]
  },
  {
   "cell_type": "code",
   "execution_count": 44,
   "id": "da639479-076c-4410-bc57-309d6d1ca21c",
   "metadata": {},
   "outputs": [
    {
     "name": "stdout",
     "output_type": "stream",
     "text": [
      "44. Reverse the elements of a tuple.\n"
     ]
    }
   ],
   "source": [
    "print(\"44. Reverse the elements of a tuple.\")"
   ]
  },
  {
   "cell_type": "code",
   "execution_count": 45,
   "id": "1ffeefce-1b4c-4f9f-b5a1-d2b22f86fb86",
   "metadata": {},
   "outputs": [
    {
     "name": "stdout",
     "output_type": "stream",
     "text": [
      "Reversed tuple: (5, 4, 3, 2, 1)\n"
     ]
    }
   ],
   "source": [
    "# Create a tuple\n",
    "my_tuple = (1, 2, 3, 4, 5)\n",
    "\n",
    "# Reverse the elements using slicing\n",
    "reversed_tuple = my_tuple[::-1]\n",
    "\n",
    "# Print the reversed tuple\n",
    "print(\"Reversed tuple:\", reversed_tuple)"
   ]
  },
  {
   "cell_type": "code",
   "execution_count": 46,
   "id": "13b0b521-f3e4-4ea6-9acb-d3e465596dc4",
   "metadata": {},
   "outputs": [
    {
     "name": "stdout",
     "output_type": "stream",
     "text": [
      "45. Create a tuple of the first `n` powers of 2.\n"
     ]
    }
   ],
   "source": [
    "print(\"45. Create a tuple of the first `n` powers of 2.\")"
   ]
  },
  {
   "cell_type": "code",
   "execution_count": 47,
   "id": "e02e1e79-7fe4-458a-a1bc-26d9f78ada79",
   "metadata": {},
   "outputs": [
    {
     "name": "stdout",
     "output_type": "stream",
     "text": [
      "Tuple of the first 5 powers of 2: (1, 2, 4, 8, 16)\n"
     ]
    }
   ],
   "source": [
    "# Define the value of n\n",
    "n = 5\n",
    "\n",
    "# Create a tuple of the first n powers of 2 using a list comprehension\n",
    "powers_of_2_tuple = tuple(2 ** i for i in range(n))\n",
    "\n",
    "# Print the tuple of powers of 2\n",
    "print(\"Tuple of the first\", n, \"powers of 2:\", powers_of_2_tuple)"
   ]
  },
  {
   "cell_type": "code",
   "execution_count": 48,
   "id": "534645f7-80c2-45fb-bce1-e2b170652276",
   "metadata": {},
   "outputs": [
    {
     "name": "stdout",
     "output_type": "stream",
     "text": [
      "46. Find the longest string in a tuple of strings.\n"
     ]
    }
   ],
   "source": [
    "print(\"46. Find the longest string in a tuple of strings.\")"
   ]
  },
  {
   "cell_type": "code",
   "execution_count": 49,
   "id": "4056d362-17d5-4821-aa49-dbb29d04618b",
   "metadata": {},
   "outputs": [
    {
     "name": "stdout",
     "output_type": "stream",
     "text": [
      "Longest string: watermelon\n"
     ]
    }
   ],
   "source": [
    "# Create a tuple of strings\n",
    "string_tuple = (\"apple\", \"banana\", \"grape\", \"kiwi\", \"watermelon\")\n",
    "\n",
    "# Find the longest string in the tuple\n",
    "longest_string = max(string_tuple, key=len)\n",
    "\n",
    "# Print the longest string\n",
    "print(\"Longest string:\", longest_string)"
   ]
  },
  {
   "cell_type": "code",
   "execution_count": 50,
   "id": "bd5618f0-9e10-4be8-9880-30cb44c224d5",
   "metadata": {},
   "outputs": [
    {
     "name": "stdout",
     "output_type": "stream",
     "text": [
      "47. Find the shortest string in a tuple of strings.\n"
     ]
    }
   ],
   "source": [
    "print(\"47. Find the shortest string in a tuple of strings.\")"
   ]
  },
  {
   "cell_type": "code",
   "execution_count": 51,
   "id": "95383029-8871-4ce1-9a08-0a5c4eea91ed",
   "metadata": {},
   "outputs": [
    {
     "name": "stdout",
     "output_type": "stream",
     "text": [
      "shortest string: kiwi\n"
     ]
    }
   ],
   "source": [
    "string_tuple = (\"apple\", \"banana\", \"grape\", \"kiwi\", \"watermelon\")\n",
    "shortest_string = min(string_tuple,key=len)\n",
    "print(\"shortest string:\",shortest_string)"
   ]
  },
  {
   "cell_type": "code",
   "execution_count": 52,
   "id": "2b5e7554-3de1-4a26-bd51-866dc288d0c4",
   "metadata": {},
   "outputs": [
    {
     "name": "stdout",
     "output_type": "stream",
     "text": [
      "48. Create a tuple of the first `n` triangular numbers.\n"
     ]
    }
   ],
   "source": [
    "print(\"48. Create a tuple of the first `n` triangular numbers.\")"
   ]
  },
  {
   "cell_type": "code",
   "execution_count": 53,
   "id": "419e5666-5adc-4bb1-9a87-5770a5fe2816",
   "metadata": {},
   "outputs": [
    {
     "name": "stdout",
     "output_type": "stream",
     "text": [
      "Tuple of the first 5 triangular numbers: (1, 3, 6, 10, 15)\n"
     ]
    }
   ],
   "source": [
    "# Define the value of n\n",
    "n = 5\n",
    "\n",
    "# Create a tuple of the first n triangular numbers using a list comprehension\n",
    "triangular_numbers_tuple = tuple((i * (i + 1)) // 2 for i in range(1, n + 1))\n",
    "\n",
    "# Print the tuple of triangular numbers\n",
    "print(\"Tuple of the first\", n, \"triangular numbers:\", triangular_numbers_tuple)"
   ]
  },
  {
   "cell_type": "code",
   "execution_count": 54,
   "id": "d111f028-acfb-4ad7-863c-220a0066791a",
   "metadata": {},
   "outputs": [
    {
     "name": "stdout",
     "output_type": "stream",
     "text": [
      "49. Check if a tuple contains another tuple as a subsequence.\n"
     ]
    }
   ],
   "source": [
    "print(\"49. Check if a tuple contains another tuple as a subsequence.\")"
   ]
  },
  {
   "cell_type": "code",
   "execution_count": 55,
   "id": "e96d79e1-ae9b-4344-99df-c18d4fb2cf1c",
   "metadata": {},
   "outputs": [
    {
     "name": "stdout",
     "output_type": "stream",
     "text": [
      "Main tuple contains subsequence tuple: True\n"
     ]
    }
   ],
   "source": [
    "# Function to check if a tuple contains another tuple as a subsequence\n",
    "def contains_subsequence(main_tuple, sub_tuple):\n",
    "    sub_length = len(sub_tuple)\n",
    "    for i in range(len(main_tuple) - sub_length + 1):\n",
    "        if main_tuple[i:i+sub_length] == sub_tuple:\n",
    "            return True\n",
    "    return False\n",
    "\n",
    "# Main tuple\n",
    "main_tuple = (1, 2, 3, 4, 5, 6, 7, 8, 9)\n",
    "\n",
    "# Subsequence tuple\n",
    "sub_tuple = (3, 4, 5)\n",
    "\n",
    "# Check if the main tuple contains the subsequence tuple\n",
    "contains_subseq = contains_subsequence(main_tuple, sub_tuple)\n",
    "\n",
    "# Print the result\n",
    "print(\"Main tuple contains subsequence tuple:\", contains_subseq)"
   ]
  },
  {
   "cell_type": "code",
   "execution_count": 56,
   "id": "a93b28b8-5768-4dde-ac9c-2e52ec10c4e1",
   "metadata": {},
   "outputs": [
    {
     "name": "stdout",
     "output_type": "stream",
     "text": [
      "50. Create a tuple of alternating 1s and 0s of length `n`.\n"
     ]
    }
   ],
   "source": [
    "print(\"50. Create a tuple of alternating 1s and 0s of length `n`.\")"
   ]
  },
  {
   "cell_type": "code",
   "execution_count": 57,
   "id": "58b84bc6-d1d0-4a07-b940-d529710059b9",
   "metadata": {},
   "outputs": [
    {
     "name": "stdout",
     "output_type": "stream",
     "text": [
      "Tuple of alternating 1s and 0s: (0, 1, 0, 1, 0, 1, 0, 1, 0, 1)\n"
     ]
    }
   ],
   "source": [
    "# Define the value of n\n",
    "n = 10\n",
    "\n",
    "# Create a tuple of alternating 1s and 0s using a list comprehension\n",
    "alternating_tuple = tuple(i % 2 for i in range(n))\n",
    "\n",
    "# Print the tuple of alternating 1s and 0s\n",
    "print(\"Tuple of alternating 1s and 0s:\", alternating_tuple)"
   ]
  },
  {
   "cell_type": "markdown",
   "id": "c8132ac7-b87a-49ea-b1f6-dc35aa4e9c40",
   "metadata": {},
   "source": [
    "SET BASED PROBLEMS:"
   ]
  },
  {
   "cell_type": "markdown",
   "id": "ae65a0cd-d3f8-42b3-b0f0-f226e623f7a3",
   "metadata": {},
   "source": [
    "1. Create a set with integers from 1 to 5."
   ]
  },
  {
   "cell_type": "code",
   "execution_count": 58,
   "id": "69c80b74-284c-4109-a1a7-9ce6f1b7e839",
   "metadata": {},
   "outputs": [
    {
     "name": "stdout",
     "output_type": "stream",
     "text": [
      "The required set is: {1, 2, 3, 4, 5}\n"
     ]
    }
   ],
   "source": [
    "#create a set:\n",
    "my_set = set(i for i in range(1,6))\n",
    "#print the set:\n",
    "print(\"The required set is:\",my_set)"
   ]
  },
  {
   "cell_type": "markdown",
   "id": "7df9fad6-305f-4792-99e0-34f60a09ae87",
   "metadata": {},
   "source": [
    "2. Add an element to a set."
   ]
  },
  {
   "cell_type": "code",
   "execution_count": 59,
   "id": "e70e49b4-5a72-4d65-9c32-145499ce74ae",
   "metadata": {},
   "outputs": [
    {
     "name": "stdout",
     "output_type": "stream",
     "text": [
      "original set: {1, 2, 3, 4}\n",
      "Modified set: {1, 2, 3, 4, 6}\n"
     ]
    }
   ],
   "source": [
    "#example set:\n",
    "original_set = {1,2,3,4}\n",
    "#print the original:\n",
    "print(\"original set:\",original_set)\n",
    "#Add an element using add function:\n",
    "\n",
    "modified = original_set.add(6)\n",
    "#print the modified:\n",
    "print(\"Modified set:\",original_set)"
   ]
  },
  {
   "cell_type": "markdown",
   "id": "ede9abc0-1cc4-47c7-a24b-3f1091a3a3e5",
   "metadata": {},
   "source": [
    "3. Remove an element from a set."
   ]
  },
  {
   "cell_type": "code",
   "execution_count": 60,
   "id": "8808421f-955c-483a-b036-6d0fed9f93b0",
   "metadata": {},
   "outputs": [
    {
     "name": "stdout",
     "output_type": "stream",
     "text": [
      "original set: {1, 2, 3, 4, 5}\n",
      "Modified set: {1, 2, 3, 5}\n"
     ]
    }
   ],
   "source": [
    "#Example set:\n",
    "my_set = {1,2,3,4,5}\n",
    "print(\"original set:\",my_set)\n",
    "modified = my_set.remove(4)\n",
    "print(\"Modified set:\",my_set)"
   ]
  },
  {
   "cell_type": "markdown",
   "id": "86dad423-fb44-4672-b9bd-36c83d0ac44c",
   "metadata": {},
   "source": [
    "4. Check if an element exists in a set."
   ]
  },
  {
   "cell_type": "markdown",
   "id": "fa0f0d56-85b5-479c-aa3f-99095ed52d70",
   "metadata": {},
   "source": [
    "# Step 1: Create a set with some elements\n",
    "my_set = {1, 3, 5, 7, 9}\n",
    "\n",
    "# Step 2: Ask the user for the element they want to check\n",
    "element_to_check = int(input(\"Enter the element to check: \"))\n",
    "\n",
    "# Step 3: Use the \"in\" keyword to check if the element exists in the set\n",
    "if element_to_check in my_set:\n",
    "    # Step 4: If the element exists in the set, print a message\n",
    "    print(f\"{element_to_check} exists in the set.\")\n",
    "else:\n",
    "    # Step 5: If the element does not exist in the set, print a message\n",
    "    print(f\"{element_to_check} does not exist in the set.\")"
   ]
  },
  {
   "cell_type": "markdown",
   "id": "16ca7fc5-1da7-4836-ac32-186a81eb2081",
   "metadata": {},
   "source": [
    "5. Find the length of a set without using the `len()` function."
   ]
  },
  {
   "cell_type": "code",
   "execution_count": 63,
   "id": "d33203f8-4c92-49e0-a7d5-6120749adc38",
   "metadata": {},
   "outputs": [
    {
     "name": "stdout",
     "output_type": "stream",
     "text": [
      "Length of the set: 5\n"
     ]
    }
   ],
   "source": [
    "# Create a set with some elements\n",
    "my_set = {1, 2, 3, 4, 5}\n",
    "\n",
    "# Initialize a variable to count the elements in the set\n",
    "count = 0\n",
    "\n",
    "# Iterate through each element in the set\n",
    "for _ in my_set:\n",
    "    # Increase the count by 1 for each element\n",
    "    count += 1\n",
    "\n",
    "# Print the count, which is the length of the set\n",
    "print(\"Length of the set:\", count)"
   ]
  },
  {
   "cell_type": "markdown",
   "id": "69880503-599a-4386-a78e-35220fc00b62",
   "metadata": {},
   "source": [
    "6. Clear all elements from a set."
   ]
  },
  {
   "cell_type": "code",
   "execution_count": 64,
   "id": "cd0bcafb-7b7b-447f-a06e-d774ce9ce0ee",
   "metadata": {},
   "outputs": [
    {
     "name": "stdout",
     "output_type": "stream",
     "text": [
      "Original set: {1, 2, 3, 4, 5}\n",
      "Set after clearing: set()\n"
     ]
    }
   ],
   "source": [
    "# Step 1: Create a set with some elements\n",
    "my_set = {1, 2, 3, 4, 5}\n",
    "\n",
    "# Step 2: Display the original set\n",
    "print(\"Original set:\", my_set)\n",
    "\n",
    "# Step 3: Clear all elements from the set using the clear() method\n",
    "my_set.clear()\n",
    "\n",
    "# Step 4: Display the set after clearing\n",
    "print(\"Set after clearing:\", my_set)"
   ]
  },
  {
   "cell_type": "markdown",
   "id": "b665a923-7e22-4a48-8515-adc0291de9e9",
   "metadata": {},
   "source": [
    "7. Create a set of even numbers from 1 to 10."
   ]
  },
  {
   "cell_type": "code",
   "execution_count": 65,
   "id": "aa256054-846d-42d0-9c70-99fc045f5c73",
   "metadata": {},
   "outputs": [
    {
     "name": "stdout",
     "output_type": "stream",
     "text": [
      "{2, 4, 6, 8, 10}\n"
     ]
    }
   ],
   "source": [
    "# Step 1: Initialize an empty set\n",
    "even_numbers_set = set()\n",
    "\n",
    "# Step 2: Iterate through numbers from 1 to 10\n",
    "for num in range(1, 11):\n",
    "    # Step 3: Check if the number is even\n",
    "    if num % 2 == 0:\n",
    "        # Step 4: Add the even number to the set\n",
    "        even_numbers_set.add(num)\n",
    "\n",
    "# Step 5: Print the set of even numbers\n",
    "print(even_numbers_set)"
   ]
  },
  {
   "cell_type": "markdown",
   "id": "3837be11-4256-4b52-a79a-e0a812514690",
   "metadata": {},
   "source": [
    "8. Create a set of odd numbers from 1 to 10."
   ]
  },
  {
   "cell_type": "code",
   "execution_count": 66,
   "id": "e5b9bec0-00dd-451c-bdb5-9aad64043682",
   "metadata": {},
   "outputs": [
    {
     "name": "stdout",
     "output_type": "stream",
     "text": [
      "{1, 3, 5, 7, 9}\n"
     ]
    }
   ],
   "source": [
    "# Step 1: Initialize an empty set to store odd numbers.\n",
    "odd_numbers_set = set()\n",
    "\n",
    "# Step 2: Iterate through numbers from 1 to 10.\n",
    "for num in range(1, 11):\n",
    "    # Step 3: Check if the current number is odd.\n",
    "    if num % 2 != 0:\n",
    "        # Step 4: If the number is odd, add it to the set.\n",
    "        odd_numbers_set.add(num)\n",
    "\n",
    "# Step 5: Print the final set of odd numbers.\n",
    "print(odd_numbers_set)"
   ]
  },
  {
   "cell_type": "markdown",
   "id": "101713cb-4722-4101-a601-8613e42998c0",
   "metadata": {},
   "source": [
    "9. Find the union of two sets."
   ]
  },
  {
   "cell_type": "code",
   "execution_count": 67,
   "id": "7323d1a7-dab0-4e66-9733-6bc7ddf0d1bc",
   "metadata": {},
   "outputs": [
    {
     "name": "stdout",
     "output_type": "stream",
     "text": [
      "Set 1: {1, 2, 3, 4, 5}\n",
      "Set 2: {4, 5, 6, 7, 8}\n",
      "Union of Set 1 and Set 2: {1, 2, 3, 4, 5, 6, 7, 8}\n"
     ]
    }
   ],
   "source": [
    "# Define two sets\n",
    "set1 = {1, 2, 3, 4, 5}\n",
    "set2 = {4, 5, 6, 7, 8}\n",
    "\n",
    "# Find the union of the two sets using the `union()` method\n",
    "union_result = set1.union(set2)\n",
    "\n",
    "# Print the original sets and their union\n",
    "print(\"Set 1:\", set1)\n",
    "print(\"Set 2:\", set2)\n",
    "print(\"Union of Set 1 and Set 2:\", union_result)"
   ]
  },
  {
   "cell_type": "markdown",
   "id": "9689a3dd-bdd5-4789-8059-05c5ba77bf0e",
   "metadata": {},
   "source": [
    "10. Find the intersection of two sets."
   ]
  },
  {
   "cell_type": "code",
   "execution_count": 68,
   "id": "23eca2ef-4049-4ba4-960f-ce369196dc7b",
   "metadata": {},
   "outputs": [
    {
     "name": "stdout",
     "output_type": "stream",
     "text": [
      "Set 1: {1, 2, 3, 4, 5}\n",
      "Set 2: {3, 4, 5, 6, 7}\n",
      "Intersection: {3, 4, 5}\n"
     ]
    }
   ],
   "source": [
    "# Create two sets\n",
    "set1 = {1, 2, 3, 4, 5}\n",
    "set2 = {3, 4, 5, 6, 7}\n",
    "\n",
    "# Find the intersection using the intersection() method\n",
    "intersection_result = set1.intersection(set2)\n",
    "\n",
    "# Print the original sets and the intersection\n",
    "print(\"Set 1:\", set1)\n",
    "print(\"Set 2:\", set2)\n",
    "print(\"Intersection:\", intersection_result)"
   ]
  },
  {
   "cell_type": "markdown",
   "id": "67f9a62d-4a07-4e24-b826-57a658faa9f5",
   "metadata": {},
   "source": [
    "11. Find the difference between two sets."
   ]
  },
  {
   "cell_type": "code",
   "execution_count": 69,
   "id": "e5fe06a3-441d-473c-b100-804178d54491",
   "metadata": {},
   "outputs": [
    {
     "name": "stdout",
     "output_type": "stream",
     "text": [
      "Set 1: {1, 2, 3, 4, 5}\n",
      "Set 2: {3, 4, 5, 6, 7}\n",
      "Difference: {1, 2}\n"
     ]
    }
   ],
   "source": [
    "# Create two sets\n",
    "set1 = {1, 2, 3, 4, 5}\n",
    "set2 = {3, 4, 5, 6, 7}\n",
    "\n",
    "# Find the difference between the sets using the difference() method\n",
    "difference_set = set1.difference(set2)\n",
    "\n",
    "# Print the original sets and the difference set\n",
    "print(\"Set 1:\", set1)\n",
    "print(\"Set 2:\", set2)\n",
    "print(\"Difference:\", difference_set)"
   ]
  },
  {
   "cell_type": "markdown",
   "id": "62f1eac3-bbd4-43c1-9b48-96318fb016da",
   "metadata": {},
   "source": [
    "12. Check if a set is a subset of another set."
   ]
  },
  {
   "cell_type": "code",
   "execution_count": 70,
   "id": "098ffb0f-207f-440b-8873-50a2278fbf0f",
   "metadata": {},
   "outputs": [
    {
     "name": "stdout",
     "output_type": "stream",
     "text": [
      "Is set1 a subset of set2: True\n"
     ]
    }
   ],
   "source": [
    "# Define the two sets\n",
    "set1 = {1, 2, 3}\n",
    "set2 = {1, 2, 3, 4, 5}\n",
    "\n",
    "# Use the \"issubset()\" method to check if set1 is a subset of set2\n",
    "is_subset = set1.issubset(set2)\n",
    "\n",
    "# Print the result\n",
    "print(\"Is set1 a subset of set2:\", is_subset)"
   ]
  },
  {
   "cell_type": "markdown",
   "id": "c1380b23-ac97-4b6d-9243-d0b4e4df176f",
   "metadata": {},
   "source": [
    "13. Check if a set is a superset of another set."
   ]
  },
  {
   "cell_type": "code",
   "execution_count": 72,
   "id": "9c66c03f-d351-4a96-8e9c-b009e135228f",
   "metadata": {},
   "outputs": [
    {
     "name": "stdout",
     "output_type": "stream",
     "text": [
      "set1 is a superset of set2\n"
     ]
    }
   ],
   "source": [
    "# Create two sets\n",
    "set1 = {1, 2, 3, 4, 5, 6}\n",
    "set2 = {3, 4}\n",
    "\n",
    "# Check if set1 is a superset of set2\n",
    "is_superset = set1.issuperset(set2)\n",
    "\n",
    "# Print the result\n",
    "if is_superset:\n",
    "    print(\"set1 is a superset of set2\")\n",
    "else:\n",
    "    print(\"set1 is not a superset of set2\")"
   ]
  },
  {
   "cell_type": "markdown",
   "id": "997b8151-c5c3-4666-8000-acf1d9a75a85",
   "metadata": {},
   "source": [
    "14. Create a set from a list."
   ]
  },
  {
   "cell_type": "code",
   "execution_count": 74,
   "id": "12025d98-d352-4ae3-b070-c7411a6f394c",
   "metadata": {},
   "outputs": [
    {
     "name": "stdout",
     "output_type": "stream",
     "text": [
      "Original List: [2, 4, 1, 4, 3, 2, 5]\n",
      "Set from List: {1, 2, 3, 4, 5}\n"
     ]
    }
   ],
   "source": [
    "#Step 1: Create a list of elements\n",
    "my_list = [2, 4, 1, 4, 3, 2, 5]\n",
    "\n",
    "# Step 2: Use the set() constructor to convert the list into a set\n",
    "# This automatically removes duplicates and creates a set with unique elements\n",
    "my_set = set(my_list)\n",
    "\n",
    "# Step 3: Print the original list and the resulting set\n",
    "print(\"Original List:\", my_list)\n",
    "print(\"Set from List:\", my_set)"
   ]
  },
  {
   "cell_type": "markdown",
   "id": "d0739ba5-7ee3-45c7-9594-c8f33a27b0d6",
   "metadata": {},
   "source": [
    "15. Convert a set to a list."
   ]
  },
  {
   "cell_type": "code",
   "execution_count": 75,
   "id": "d0c2df61-ce6b-48b4-b458-9e4804e793ce",
   "metadata": {},
   "outputs": [
    {
     "name": "stdout",
     "output_type": "stream",
     "text": [
      "Original Set: {1, 2, 3, 4, 5, 6, 9}\n",
      "Converted List: [1, 2, 3, 4, 5, 6, 9]\n"
     ]
    }
   ],
   "source": [
    "# Step 1: Create a set with some elements\n",
    "my_set = {3, 1, 4, 1, 5, 9, 2, 6, 5}\n",
    "\n",
    "# Step 2: Convert the set to a list using the list() function\n",
    "my_list = list(my_set)\n",
    "\n",
    "# Now, my_list contains the elements from my_set in list format\n",
    "\n",
    "# Step 3: Print the original set and the converted list\n",
    "print(\"Original Set:\", my_set)\n",
    "print(\"Converted List:\", my_list)"
   ]
  },
  {
   "cell_type": "markdown",
   "id": "69dc7fda-ba91-4184-8823-acc9a86fbae1",
   "metadata": {},
   "source": [
    "16. Remove a random element from a set."
   ]
  },
  {
   "cell_type": "code",
   "execution_count": 76,
   "id": "e1a2fab7-dae2-4b2e-94f7-6497061a72ec",
   "metadata": {},
   "outputs": [
    {
     "name": "stdout",
     "output_type": "stream",
     "text": [
      "Original set: {1, 2, 3, 4, 5}\n",
      "Updated set after removing 2 : {1, 3, 4, 5}\n"
     ]
    }
   ],
   "source": [
    "import random  # Import the random module\n",
    "\n",
    "# Create a set with some elements\n",
    "my_set = {1, 2, 3, 4, 5}\n",
    "\n",
    "# Display the original set\n",
    "print(\"Original set:\", my_set)\n",
    "\n",
    "# Choose a random element from the set using the random.choice() function\n",
    "random_element = random.choice(list(my_set))\n",
    "\n",
    "# Remove the chosen random element from the set using the remove() method\n",
    "my_set.remove(random_element)\n",
    "\n",
    "# Display the updated set after removing the random element\n",
    "print(\"Updated set after removing\", random_element, \":\", my_set)"
   ]
  },
  {
   "cell_type": "markdown",
   "id": "9e2149da-caab-4990-ba29-adbb562e2494",
   "metadata": {},
   "source": [
    "17. Pop an element from a set."
   ]
  },
  {
   "cell_type": "code",
   "execution_count": 77,
   "id": "fd9b681f-ef0f-4f8c-9a48-3032acc9a2d3",
   "metadata": {},
   "outputs": [
    {
     "name": "stdout",
     "output_type": "stream",
     "text": [
      "Original set: {1, 2, 3, 4, 5}\n",
      "Popped element: 1\n",
      "Set after popping: {2, 3, 4, 5}\n"
     ]
    }
   ],
   "source": [
    "# Create a set with some elements\n",
    "my_set = {1, 2, 3, 4, 5}\n",
    "\n",
    "# Print the original set\n",
    "print(\"Original set:\", my_set)\n",
    "\n",
    "# Pop an element from the set using the pop() method\n",
    "popped_element = my_set.pop()\n",
    "\n",
    "# Print the element that was popped\n",
    "print(\"Popped element:\", popped_element)\n",
    "\n",
    "# Print the set after popping an element\n",
    "print(\"Set after popping:\", my_set)"
   ]
  },
  {
   "cell_type": "markdown",
   "id": "88764728-2770-43e0-9aca-4b274c682cdb",
   "metadata": {},
   "source": [
    "18. Check if two sets have no elements in common."
   ]
  },
  {
   "cell_type": "code",
   "execution_count": 78,
   "id": "e90c19a2-76e4-414f-b8c3-fc5d759f1928",
   "metadata": {},
   "outputs": [
    {
     "name": "stdout",
     "output_type": "stream",
     "text": [
      "The two sets have no elements in common.\n"
     ]
    }
   ],
   "source": [
    "# Step 1: Define two sets\n",
    "set1 = {1, 2, 3, 4}\n",
    "set2 = {5, 6, 7, 8}\n",
    "\n",
    "# Step 2: Check if the intersection of the two sets is empty\n",
    "# The intersection is the set of elements that are common to both sets\n",
    "common_elements = set1.intersection(set2)\n",
    "\n",
    "# Step 3: Check if the common_elements set is empty\n",
    "if not common_elements:\n",
    "    print(\"The two sets have no elements in common.\")\n",
    "else:\n",
    "    print(\"The two sets have common elements:\", common_elements)"
   ]
  },
  {
   "cell_type": "markdown",
   "id": "1edb45ba-d41e-430f-9cea-5640bcd93cf2",
   "metadata": {},
   "source": [
    "19. Find the symmetric difference between two sets."
   ]
  },
  {
   "cell_type": "code",
   "execution_count": 79,
   "id": "950bd003-6499-4e55-b5e9-dc4258e507eb",
   "metadata": {},
   "outputs": [
    {
     "name": "stdout",
     "output_type": "stream",
     "text": [
      "Symmetric Difference: {1, 2, 3, 6, 7, 8}\n"
     ]
    }
   ],
   "source": [
    "# Define two sets\n",
    "set1 = {1, 2, 3, 4, 5}\n",
    "set2 = {4, 5, 6, 7, 8}\n",
    "\n",
    "# Calculate the symmetric difference using the ^ operator\n",
    "symmetric_difference = set1 ^ set2\n",
    "\n",
    "# Print the symmetric difference\n",
    "print(\"Symmetric Difference:\", symmetric_difference)"
   ]
  },
  {
   "cell_type": "markdown",
   "id": "eb7fae52-1048-4f20-8b6e-05a17bd6137f",
   "metadata": {},
   "source": [
    "20. Update a set with elements from another set."
   ]
  },
  {
   "cell_type": "code",
   "execution_count": 80,
   "id": "c27aba18-5fe8-40ed-b3dd-2d0f45f31cf8",
   "metadata": {},
   "outputs": [
    {
     "name": "stdout",
     "output_type": "stream",
     "text": [
      "Set 1: {1, 2, 3}\n",
      "Set 2: {3, 4, 5}\n",
      "Updated Set 1: {1, 2, 3, 4, 5}\n"
     ]
    }
   ],
   "source": [
    "# Create the first set\n",
    "set1 = {1, 2, 3}\n",
    "print(\"Set 1:\", set1)\n",
    "\n",
    "# Create the second set\n",
    "set2 = {3, 4, 5}\n",
    "print(\"Set 2:\", set2)\n",
    "\n",
    "# Update set1 with elements from set2\n",
    "set1.update(set2)\n",
    "print(\"Updated Set 1:\", set1)"
   ]
  },
  {
   "cell_type": "markdown",
   "id": "842918d8-dcfe-43bf-a993-a3c06e0ae546",
   "metadata": {},
   "source": [
    "21. Create a set of the first 5 prime numbers."
   ]
  },
  {
   "cell_type": "code",
   "execution_count": 81,
   "id": "ed53382d-07c1-4aa2-bccc-d10733376736",
   "metadata": {},
   "outputs": [
    {
     "name": "stdout",
     "output_type": "stream",
     "text": [
      "Set of the first 5 prime numbers: {2, 3, 5, 7, 11}\n"
     ]
    }
   ],
   "source": [
    "# Function to check if a number is prime\n",
    "def is_prime(num):\n",
    "    if num <= 1:\n",
    "        return False\n",
    "    for i in range(2, int(num ** 0.5) + 1):\n",
    "        if num % i == 0:\n",
    "            return False\n",
    "    return True\n",
    "\n",
    "# Create an empty set to store the prime numbers\n",
    "prime_set = set()\n",
    "\n",
    "# Initialize the number to start checking for primes\n",
    "num = 2\n",
    "\n",
    "# Loop until we have found the first 5 prime numbers\n",
    "while len(prime_set) < 5:\n",
    "    # Check if the current number is prime using the is_prime function\n",
    "    if is_prime(num):\n",
    "        # If the number is prime, add it to the prime_set\n",
    "        prime_set.add(num)\n",
    "\n",
    "    # Move on to the next number for the next iteration\n",
    "    num += 1\n",
    "\n",
    "# Print the set of prime numbers\n",
    "print(\"Set of the first 5 prime numbers:\", prime_set)"
   ]
  },
  {
   "cell_type": "markdown",
   "id": "47c9085c-e0fc-4c1e-9759-ae3960b2e770",
   "metadata": {},
   "source": [
    "22. Check if two sets are identical."
   ]
  },
  {
   "cell_type": "code",
   "execution_count": 83,
   "id": "0b36e1da-0a68-4ac8-8d77-2f932474224a",
   "metadata": {},
   "outputs": [
    {
     "name": "stdout",
     "output_type": "stream",
     "text": [
      "The sets are identical.\n"
     ]
    }
   ],
   "source": [
    "# Step 1: Define two sets\n",
    "set1 = {1, 2, 3, 4, 5}\n",
    "set2 = {3, 1, 5, 2, 4}  # The order of elements doesn't matter in sets\n",
    "\n",
    "# Step 2: Check if the sets are identical using the `==` operator\n",
    "# Sets are unordered collections, so the order of elements doesn't matter.\n",
    "# The `==` operator compares the content of the sets.\n",
    "if set1 == set2:\n",
    "    print(\"The sets are identical.\")\n",
    "else:\n",
    "    print(\"The sets are not identical.\")"
   ]
  },
  {
   "cell_type": "markdown",
   "id": "e838432a-0452-40da-83f8-5b3cb06192d6",
   "metadata": {},
   "source": [
    "23. Create a frozen set."
   ]
  },
  {
   "cell_type": "code",
   "execution_count": 84,
   "id": "d671cd9b-39fb-44bb-8043-9a522eb1890d",
   "metadata": {},
   "outputs": [
    {
     "name": "stdout",
     "output_type": "stream",
     "text": [
      "Frozen Set: frozenset({1, 2, 3, 4, 5})\n"
     ]
    }
   ],
   "source": [
    "# Step 2: Define a list of elements that you want to include in the frozen set\n",
    "elements = [1, 2, 3, 4, 5]\n",
    "\n",
    "# Step 3: Create a frozen set using the 'frozenset' constructor and passing the list of elements\n",
    "my_frozen_set = frozenset(elements)\n",
    "\n",
    "# Step 4: Print the frozen set\n",
    "print(\"Frozen Set:\", my_frozen_set)"
   ]
  },
  {
   "cell_type": "markdown",
   "id": "8c077446-204b-4cda-9bae-1bbbf775995f",
   "metadata": {},
   "source": [
    "24. Check if a set is disjoint with another set."
   ]
  },
  {
   "cell_type": "code",
   "execution_count": 85,
   "id": "bba30c9e-fc23-4a41-956e-4f94c1e95a96",
   "metadata": {},
   "outputs": [
    {
     "name": "stdout",
     "output_type": "stream",
     "text": [
      "Are the sets disjoint? True\n"
     ]
    }
   ],
   "source": [
    "# Step 1: Define the two sets you want to check for disjointness\n",
    "set1 = {1, 2, 3, 4}\n",
    "set2 = {5, 6, 7, 8}\n",
    "\n",
    "# Step 2: Use the `isdisjoint()` method to check if the sets are disjoint\n",
    "# The `isdisjoint()` method returns True if the sets have no common elements,\n",
    "# and False if they have at least one common element.\n",
    "disjoint_status = set1.isdisjoint(set2)\n",
    "\n",
    "# Step 3: Print the result\n",
    "print(\"Are the sets disjoint?\", disjoint_status)"
   ]
  },
  {
   "cell_type": "markdown",
   "id": "90b67e0f-0f1c-44fb-9c57-0b54ee2e5607",
   "metadata": {},
   "source": [
    "25. Create a set of squares of numbers from 1 to 5."
   ]
  },
  {
   "cell_type": "code",
   "execution_count": 86,
   "id": "f8d67d83-a127-400e-a37b-4d303e3061d6",
   "metadata": {},
   "outputs": [
    {
     "name": "stdout",
     "output_type": "stream",
     "text": [
      "The set of squares is: {1, 4, 9, 16, 25}\n"
     ]
    }
   ],
   "source": [
    "#Use a set comprehension to describe a set:\n",
    "square_set = set(i**2 for i in range(1,6))\n",
    "\n",
    "#print the set of squares:\n",
    "print(\"The set of squares is:\",square_set)"
   ]
  },
  {
   "cell_type": "markdown",
   "id": "f75ea5a9-a791-4b88-8cec-412621434318",
   "metadata": {},
   "source": [
    "26. Filter out all even numbers from a set."
   ]
  },
  {
   "cell_type": "code",
   "execution_count": 87,
   "id": "23b81beb-3e5f-42a9-a62f-1e57f35803d7",
   "metadata": {},
   "outputs": [
    {
     "name": "stdout",
     "output_type": "stream",
     "text": [
      "Original Set: {1, 2, 3, 4, 5}\n",
      "Even Numbers Set: {2, 4}\n"
     ]
    }
   ],
   "source": [
    "# Step 1: Create a set with integers from 1 to 5\n",
    "original_set = {1, 2, 3, 4, 5}\n",
    "\n",
    "# Step 2: Initialize an empty set to store the filtered even numbers\n",
    "even_numbers_set = set()\n",
    "\n",
    "# Step 3: Iterate through each element in the original set\n",
    "for num in original_set:\n",
    "    # Step 4: Check if the current number is even (divisible by 2)\n",
    "    if num % 2 == 0:\n",
    "        # Step 5: If even, add it to the even_numbers_set\n",
    "        even_numbers_set.add(num)\n",
    "\n",
    "# Step 6: Print the original set and the set containing even numbers\n",
    "print(\"Original Set:\", original_set)\n",
    "print(\"Even Numbers Set:\", even_numbers_set)"
   ]
  },
  {
   "cell_type": "markdown",
   "id": "ec0139e7-92b7-4fb0-98f5-ef6d7f7fcc3c",
   "metadata": {},
   "source": [
    "27. Multiply all elements in a set by 2."
   ]
  },
  {
   "cell_type": "code",
   "execution_count": 89,
   "id": "2f3f6690-e858-4cf0-a656-1d57c9d27836",
   "metadata": {},
   "outputs": [
    {
     "name": "stdout",
     "output_type": "stream",
     "text": [
      "Original Set: {1, 2, 3, 4, 5}\n",
      "Multiplied Set: {2, 4, 6, 8, 10}\n"
     ]
    }
   ],
   "source": [
    "# Create a set with integers from 1 to 5\n",
    "original_set = {1, 2, 3, 4, 5}\n",
    "\n",
    "# Initialize an empty set to store the multiplied elements\n",
    "multiplied_set = set()\n",
    "\n",
    "# Loop through each element in the original set\n",
    "for num in original_set:\n",
    "    # Multiply the current element by 2\n",
    "    multiplied_num = num * 2\n",
    "\n",
    "    # Add the multiplied element to the multiplied_set\n",
    "    multiplied_set.add(multiplied_num)\n",
    "\n",
    "# The original_set remains unchanged\n",
    "print(\"Original Set:\", original_set)\n",
    "\n",
    "# Display the set with elements multiplied by 2\n",
    "print(\"Multiplied Set:\", multiplied_set)"
   ]
  },
  {
   "cell_type": "markdown",
   "id": "e36f6d45-2664-4076-aeb1-8327fdd59feb",
   "metadata": {},
   "source": [
    "28. Create a set of random numbers."
   ]
  },
  {
   "cell_type": "code",
   "execution_count": 90,
   "id": "f31c88b0-db3c-4494-b166-65909069142c",
   "metadata": {},
   "outputs": [
    {
     "name": "stdout",
     "output_type": "stream",
     "text": [
      "Generated set of random numbers: {65, 59, 94, 6}\n"
     ]
    }
   ],
   "source": [
    "#Step 1: Import the `random` module to generate random numbers\n",
    "import random\n",
    "\n",
    "# Step 2: Define the number of random numbers you want in the set\n",
    "num_random_numbers = 5\n",
    "\n",
    "# Step 3: Initialize an empty set to store the random numbers\n",
    "random_number_set = set()\n",
    "\n",
    "# Step 4: Use a loop to generate random numbers and add them to the set\n",
    "for _ in range(num_random_numbers):\n",
    "    # Generate a random integer using the `randint` function from the `random` module\n",
    "    random_num = random.randint(1, 100)  # Generate a random number between 1 and 100\n",
    "    # Add the random number to the set\n",
    "    random_number_set.add(random_num)\n",
    "\n",
    "# Step 5: Print the generated set of random numbers\n",
    "print(\"Generated set of random numbers:\", random_number_set)"
   ]
  },
  {
   "cell_type": "markdown",
   "id": "e1940fd6-5550-4fb4-89c6-59f60d124a8d",
   "metadata": {},
   "source": [
    "29. Check if a set is empty."
   ]
  },
  {
   "cell_type": "code",
   "execution_count": 91,
   "id": "c8688796-ca86-40e7-b5f3-67f73d15d7c5",
   "metadata": {},
   "outputs": [
    {
     "name": "stdout",
     "output_type": "stream",
     "text": [
      "The set is empty.\n"
     ]
    }
   ],
   "source": [
    "# Step 1: Create a set (you can replace this with your own set)\n",
    "my_set = set()\n",
    "\n",
    "# Step 2: Check if the set is empty using the 'if' statement\n",
    "if not my_set:\n",
    "    print(\"The set is empty.\")\n",
    "else:\n",
    "    print(\"The set is not empty.\")"
   ]
  },
  {
   "cell_type": "markdown",
   "id": "e4d0f43d-87f1-4656-a27b-03de93e116e7",
   "metadata": {},
   "source": [
    "30. Create a nested set (hint: use frozenset)."
   ]
  },
  {
   "cell_type": "code",
   "execution_count": 92,
   "id": "6dc7905c-ca16-418c-96ad-edf99e3625c7",
   "metadata": {},
   "outputs": [
    {
     "name": "stdout",
     "output_type": "stream",
     "text": [
      "Nested Set: {frozenset({1, 2, 3, 4, 5}), frozenset({6, 7, 8, 9, 10})}\n"
     ]
    }
   ],
   "source": [
    "# Step 1: Create the inner sets\n",
    "set1 = {1, 2, 3, 4, 5}\n",
    "set2 = {6, 7, 8, 9, 10}\n",
    "\n",
    "# Step 2: Create frozensets from the inner sets\n",
    "frozen_set1 = frozenset(set1)\n",
    "frozen_set2 = frozenset(set2)\n",
    "\n",
    "# Step 3: Create the nested set using the frozensets\n",
    "nested_set = {frozen_set1, frozen_set2}\n",
    "\n",
    "# Print the nested set\n",
    "print(\"Nested Set:\", nested_set)"
   ]
  },
  {
   "cell_type": "markdown",
   "id": "2c34ac30-9f6a-4729-9052-548f6fbec1da",
   "metadata": {},
   "source": [
    "31. Remove an element from a set using the discard method."
   ]
  },
  {
   "cell_type": "code",
   "execution_count": 93,
   "id": "cdbe6992-8a15-46b5-a73d-c9bce3376fec",
   "metadata": {},
   "outputs": [
    {
     "name": "stdout",
     "output_type": "stream",
     "text": [
      "Initial set: {1, 2, 3, 4, 5}\n",
      "Set after removing 3 : {1, 2, 4, 5}\n"
     ]
    }
   ],
   "source": [
    "# Create a set with some elements\n",
    "my_set = {1, 2, 3, 4, 5}\n",
    "\n",
    "# Display the initial set\n",
    "print(\"Initial set:\", my_set)\n",
    "\n",
    "# Define the element to be removed\n",
    "element_to_remove = 3\n",
    "\n",
    "# Use the discard() method to remove the element from the set\n",
    "# If the element is not present in the set, discard() won't raise an error\n",
    "my_set.discard(element_to_remove)\n",
    "\n",
    "# Display the set after removing the element\n",
    "print(\"Set after removing\", element_to_remove, \":\", my_set)"
   ]
  },
  {
   "cell_type": "markdown",
   "id": "6efc5656-566f-4c26-8717-c3d5523c0bdf",
   "metadata": {},
   "source": [
    "32. Compare two sets."
   ]
  },
  {
   "cell_type": "code",
   "execution_count": 94,
   "id": "81a3b224-9346-4c49-8077-5c51acfa42e2",
   "metadata": {},
   "outputs": [
    {
     "name": "stdout",
     "output_type": "stream",
     "text": [
      "Set 1: {1, 2, 3, 4, 5}\n",
      "Set 2: {4, 5, 6, 7, 8}\n",
      "Is set1 a subset of set2? False\n",
      "Is set2 a subset of set1? False\n",
      "Intersection: {4, 5}\n",
      "Union: {1, 2, 3, 4, 5, 6, 7, 8}\n",
      "Elements in set1 but not in set2: {1, 2, 3}\n",
      "Elements in set2 but not in set1: {8, 6, 7}\n"
     ]
    }
   ],
   "source": [
    "#Step 1: Define two sets\n",
    "set1 = {1, 2, 3, 4, 5}\n",
    "set2 = {4, 5, 6, 7, 8}\n",
    "\n",
    "# Step 2: Use set operations to compare the sets\n",
    "# Check if set1 is a subset of set2\n",
    "is_subset = set1.issubset(set2)\n",
    "\n",
    "# Check if set2 is a subset of set1\n",
    "is_superset = set1.issuperset(set2)\n",
    "\n",
    "# Find the intersection of the sets\n",
    "intersection = set1.intersection(set2)\n",
    "\n",
    "# Find the union of the sets\n",
    "union = set1.union(set2)\n",
    "\n",
    "# Find the elements that are in set1 but not in set2\n",
    "difference1 = set1.difference(set2)\n",
    "\n",
    "# Find the elements that are in set2 but not in set1\n",
    "difference2 = set2.difference(set1)\n",
    "\n",
    "# Step 3: Print the results\n",
    "print(\"Set 1:\", set1)\n",
    "print(\"Set 2:\", set2)\n",
    "print(\"Is set1 a subset of set2?\", is_subset)\n",
    "print(\"Is set2 a subset of set1?\", is_superset)\n",
    "print(\"Intersection:\", intersection)\n",
    "print(\"Union:\", union)\n",
    "print(\"Elements in set1 but not in set2:\", difference1)\n",
    "print(\"Elements in set2 but not in set1:\", difference2)"
   ]
  },
  {
   "cell_type": "markdown",
   "id": "8fb92a7a-8b7f-40f7-8e88-0e9fff6385b8",
   "metadata": {},
   "source": [
    "33. Create a set from a string."
   ]
  },
  {
   "cell_type": "code",
   "execution_count": 95,
   "id": "37ad1f12-fec8-4c9a-8962-5b7f3a27c918",
   "metadata": {},
   "outputs": [
    {
     "name": "stdout",
     "output_type": "stream",
     "text": [
      "{'l', 'o', 'e', 'h'}\n"
     ]
    }
   ],
   "source": [
    "# Step 1: Define the input string\n",
    "input_string = \"hello\"\n",
    "\n",
    "# Step 2: Use the set() constructor to create a set from the characters in the string\n",
    "char_set = set(input_string)\n",
    "\n",
    "# Step 3: Print the resulting set\n",
    "print(char_set)"
   ]
  },
  {
   "cell_type": "markdown",
   "id": "696a904e-dd82-4ed0-9b30-2e5fbc6b4a6e",
   "metadata": {},
   "source": [
    "34. Convert a set of strings to a set of integers."
   ]
  },
  {
   "cell_type": "code",
   "execution_count": 96,
   "id": "353129f7-678f-4a3a-a3a9-8f88c1103e18",
   "metadata": {},
   "outputs": [
    {
     "name": "stdout",
     "output_type": "stream",
     "text": [
      "Original String Set: {'789', '456', '123'}\n",
      "Converted Integer Set: {456, 123, 789}\n"
     ]
    }
   ],
   "source": [
    "# Step 1: Create a set of strings\n",
    "string_set = {\"123\", \"456\", \"789\"}\n",
    "\n",
    "# Step 2: Initialize an empty set to store integers\n",
    "integer_set = set()\n",
    "\n",
    "# Step 3: Iterate through each string in the string set\n",
    "for string in string_set:\n",
    "    # Step 4: Convert the string to an integer using the int() function\n",
    "    integer_value = int(string)\n",
    "\n",
    "    # Step 5: Add the integer to the integer set\n",
    "    integer_set.add(integer_value)\n",
    "\n",
    "# Step 6: Print the original string set and the converted integer set\n",
    "print(\"Original String Set:\", string_set)\n",
    "print(\"Converted Integer Set:\", integer_set)"
   ]
  },
  {
   "cell_type": "markdown",
   "id": "28b697a8-4886-4657-993c-e1b31010baf6",
   "metadata": {},
   "source": [
    "35. Convert a set of integers to a set of strings."
   ]
  },
  {
   "cell_type": "code",
   "execution_count": 97,
   "id": "45c41356-f137-4fc0-a81a-ec0dfb78f803",
   "metadata": {},
   "outputs": [
    {
     "name": "stdout",
     "output_type": "stream",
     "text": [
      "Original integers_set: {1, 2, 3, 4, 5}\n",
      "Converted strings_set: {'4', '5', '1', '3', '2'}\n"
     ]
    }
   ],
   "source": [
    "# Step 1: Create a set of integers\n",
    "integers_set = {1, 2, 3, 4, 5}\n",
    "\n",
    "# Step 2: Initialize an empty set to store the strings\n",
    "strings_set = set()\n",
    "\n",
    "# Step 3: Iterate through each integer in the integers_set\n",
    "for num in integers_set:\n",
    "    # Step 4: Convert the integer to a string using the str() function\n",
    "    num_str = str(num)\n",
    "\n",
    "    # Step 5: Add the string representation to the strings_set\n",
    "    strings_set.add(num_str)\n",
    "\n",
    "# Step 6: Print the original integers_set and the converted strings_set\n",
    "print(\"Original integers_set:\", integers_set)\n",
    "print(\"Converted strings_set:\", strings_set)"
   ]
  },
  {
   "cell_type": "markdown",
   "id": "6b162f4d-9c88-4cc3-8480-c69b0ac23805",
   "metadata": {},
   "source": [
    "36. Create a set from a tuple."
   ]
  },
  {
   "cell_type": "code",
   "execution_count": 98,
   "id": "fe28dc7f-46ad-4a9b-9a35-77c2e04c6da9",
   "metadata": {},
   "outputs": [
    {
     "name": "stdout",
     "output_type": "stream",
     "text": [
      "{1, 2, 3, 4, 5}\n"
     ]
    }
   ],
   "source": [
    "#Given tuple\n",
    "input_tuple = (1, 2, 3, 2, 4, 5, 1)\n",
    "\n",
    "# Step 1: Convert the tuple to a set\n",
    "output_set = set(input_tuple)\n",
    "# At this point, the set() function is used to convert the elements of the tuple into a set.\n",
    "# Since sets only contain unique elements, duplicate values are automatically removed.\n",
    "\n",
    "# Step 2: Print the resulting set\n",
    "print(output_set)\n",
    "# The set is now printed, and it will only contain the unique elements from the original tuple."
   ]
  },
  {
   "cell_type": "markdown",
   "id": "e735b543-717a-4774-999c-21414083b0bb",
   "metadata": {},
   "source": [
    "37. Convert a set to a tuple."
   ]
  },
  {
   "cell_type": "code",
   "execution_count": 99,
   "id": "10294fde-a2a2-4929-a6ca-594a6781e30c",
   "metadata": {},
   "outputs": [
    {
     "name": "stdout",
     "output_type": "stream",
     "text": [
      "Original set: {1, 2, 3, 4, 5}\n",
      "Converted tuple: (1, 2, 3, 4, 5)\n"
     ]
    }
   ],
   "source": [
    " # Step 1: Create a set\n",
    "input_set = {1, 2, 3, 4, 5}\n",
    "\n",
    "# Step 2: Convert the set to a tuple\n",
    "output_tuple = tuple(input_set)\n",
    "\n",
    "# Step 3: Print the original set and the converted tuple\n",
    "print(\"Original set:\", input_set)\n",
    "print(\"Converted tuple:\", output_tuple)"
   ]
  },
  {
   "cell_type": "markdown",
   "id": "3eec042f-85ba-45ea-a8b8-04037619858c",
   "metadata": {},
   "source": [
    "38. Find the maximum value in a set.\n"
   ]
  },
  {
   "cell_type": "code",
   "execution_count": 101,
   "id": "3b64c277-c843-4c59-929c-16c013bce847",
   "metadata": {},
   "outputs": [
    {
     "name": "stdout",
     "output_type": "stream",
     "text": [
      "Maximum value: 32\n"
     ]
    }
   ],
   "source": [
    "# Define a set with some values\n",
    "my_set = {15, 7, 32, 13, 8}\n",
    "\n",
    "# Initialize a variable to store the maximum value\n",
    "max_value = None\n",
    "\n",
    "# Iterate through each element in the set\n",
    "for num in my_set:\n",
    "    # Check if max_value is None (first iteration) or if the current number is greater than max_value\n",
    "    if max_value is None or num > max_value:\n",
    "        max_value = num  # Update max_value with the current number if it's greater\n",
    "\n",
    "# Print the maximum value\n",
    "print(\"Maximum value:\", max_value)"
   ]
  },
  {
   "cell_type": "markdown",
   "id": "173fc9a4-090a-4368-99ff-70a019a6bf8c",
   "metadata": {},
   "source": [
    "39. Find the minimum value in a set."
   ]
  },
  {
   "cell_type": "code",
   "execution_count": 103,
   "id": "93bd3c90-2509-439c-8370-3049239787aa",
   "metadata": {},
   "outputs": [
    {
     "name": "stdout",
     "output_type": "stream",
     "text": [
      "The minimum value in the set is: 4\n"
     ]
    }
   ],
   "source": [
    "# Create a sample set of numbers\n",
    "number_set = {15, 8, 23, 4, 42, 11}\n",
    "\n",
    "# Initialize a variable to store the minimum value\n",
    "min_value = None\n",
    "\n",
    "# Iterate through each element in the set\n",
    "for num in number_set:\n",
    "    # Check if min_value is None (first iteration) or if num is smaller than the current min_value\n",
    "    if min_value is None or num < min_value:\n",
    "        # Update min_value to the current num since it's smaller\n",
    "        min_value = num\n",
    "\n",
    "# Print the minimum value found in the set\n",
    "print(\"The minimum value in the set is:\", min_value)"
   ]
  },
  {
   "cell_type": "markdown",
   "id": "cec532f6-08c3-4396-842a-b2590bba4711",
   "metadata": {},
   "source": [
    "Q.40: Create a set from user input:"
   ]
  },
  {
   "cell_type": "code",
   "execution_count": null,
   "id": "3781e41d-99ed-45c1-93b0-30bb3bd7e4e8",
   "metadata": {},
   "outputs": [
    {
     "name": "stdout",
     "output_type": "stream",
     "text": [
      "Enter elements for the set (type 'done' to finish):\n"
     ]
    },
    {
     "name": "stdin",
     "output_type": "stream",
     "text": [
      ">  kiwi , banana\n"
     ]
    }
   ],
   "source": [
    "# Step 1: Initialize an empty set\n",
    "user_set = set()\n",
    "\n",
    "# Step 2: Get input from the user\n",
    "print(\"Enter elements for the set (type 'done' to finish):\")\n",
    "while True:\n",
    "    user_input = input(\"> \")  # Get input from the user\n",
    "\n",
    "    if user_input.lower() == 'done':\n",
    "        break  # Exit the loop if the user enters 'done'\n",
    "\n",
    "    # Step 3: Add the user input to the set\n",
    "    user_set.add(user_input)\n",
    "\n",
    "# Step 4: Display the final set created from user input\n",
    "print(\"Final set:\", user_set)"
   ]
  },
  {
   "cell_type": "markdown",
   "id": "93f54c59-eaeb-49c6-98e4-d7bad55db9c0",
   "metadata": {},
   "source": [
    "Q.41: Check if the intersection of two sets is empty:"
   ]
  },
  {
   "cell_type": "code",
   "execution_count": 1,
   "id": "c554c2dd-d361-4d96-902c-e6b2c9ca7a82",
   "metadata": {},
   "outputs": [
    {
     "name": "stdout",
     "output_type": "stream",
     "text": [
      "The intersection of the two sets is not empty.\n"
     ]
    }
   ],
   "source": [
    "# Step 1: Define two sets\n",
    "set1 = {1, 2, 3, 4, 5}\n",
    "set2 = {4, 5, 6, 7, 8}\n",
    "\n",
    "# Step 2: Find the intersection of the two sets using the `intersection()` method\n",
    "intersection_result = set1.intersection(set2)\n",
    "\n",
    "# Step 3: Check if the intersection result is empty\n",
    "if not intersection_result:\n",
    "    print(\"The intersection of the two sets is empty.\")\n",
    "else:\n",
    "    print(\"The intersection of the two sets is not empty.\")"
   ]
  },
  {
   "cell_type": "markdown",
   "id": "c35ff844-ed1f-445b-a5e6-9ff02e061946",
   "metadata": {},
   "source": [
    "Q.42: Create a set of first five fibonacci numbers:"
   ]
  },
  {
   "cell_type": "code",
   "execution_count": 2,
   "id": "7f9f6a1a-8274-4168-b088-1d653b04ef34",
   "metadata": {},
   "outputs": [
    {
     "name": "stdout",
     "output_type": "stream",
     "text": [
      "Set of the first 5 Fibonacci numbers: {0, 1, 2, 3, 5}\n"
     ]
    }
   ],
   "source": [
    "#Create a set to store the first 5 Fibonacci numbers\n",
    "fibonacci_set = set()\n",
    "\n",
    "# Initialize the first two Fibonacci numbers\n",
    "a, b = 0, 1\n",
    "\n",
    "# Loop to generate the first 5 Fibonacci numbers\n",
    "for _ in range(6):\n",
    "    # Add the current Fibonacci number to the set\n",
    "    fibonacci_set.add(a)\n",
    "\n",
    "    # Calculate the next Fibonacci number\n",
    "    a, b = b, a + b\n",
    "\n",
    "# Print the set of Fibonacci numbers\n",
    "print(\"Set of the first 5 Fibonacci numbers:\", fibonacci_set) "
   ]
  },
  {
   "cell_type": "markdown",
   "id": "1d93bede-2094-45ac-a1c7-3c0d02d98cbd",
   "metadata": {},
   "source": [
    "Q.43: Remove duplicates from a list using sets:"
   ]
  },
  {
   "cell_type": "code",
   "execution_count": 3,
   "id": "96a30f0f-fda6-4e3f-a45d-cd5ae0d21b7c",
   "metadata": {},
   "outputs": [
    {
     "name": "stdout",
     "output_type": "stream",
     "text": [
      "Original List: [2, 4, 6, 8, 4, 10, 6, 12, 14, 8]\n",
      "List with Duplicates Removed: [2, 4, 6, 8, 10, 12, 14]\n"
     ]
    }
   ],
   "source": [
    "# Step 1: Define a list with duplicates\n",
    "original_list = [2, 4, 6, 8, 4, 10, 6, 12, 14, 8]\n",
    "\n",
    "# Step 2: Convert the list to a set\n",
    "unique_set = set(original_list)\n",
    "# Now, 'unique_set' contains only unique elements from 'original_list'\n",
    "\n",
    "# Step 3: Convert the set back to a list\n",
    "unique_list = list(unique_set)\n",
    "# Now, 'unique_list' is a list containing only unique elements\n",
    "\n",
    "# Step 4: Print the original list and the list with duplicates removed\n",
    "print(\"Original List:\", original_list)\n",
    "print(\"List with Duplicates Removed:\", unique_list)"
   ]
  },
  {
   "cell_type": "markdown",
   "id": "69a27d6f-8f02-4172-9200-ccdbff3036bb",
   "metadata": {},
   "source": [
    "Q.44: Check if two sets have same elements regardless of their count:"
   ]
  },
  {
   "cell_type": "code",
   "execution_count": 4,
   "id": "4990bb2b-d18e-4ac2-b6e8-7eb551cc1698",
   "metadata": {},
   "outputs": [
    {
     "name": "stdout",
     "output_type": "stream",
     "text": [
      "The sets have the same elements.\n"
     ]
    }
   ],
   "source": [
    "def have_same_elements(set1, set2):\n",
    "    # Convert the sets to lists and sort them\n",
    "    sorted_list1 = sorted(list(set1))\n",
    "    sorted_list2 = sorted(list(set2))\n",
    "\n",
    "    # Compare the sorted lists to check if they are equal\n",
    "    return sorted_list1 == sorted_list2\n",
    "\n",
    "# Example sets\n",
    "set1 = {1, 2, 3, 2, 1}\n",
    "set2 = {3, 1, 2}\n",
    "\n",
    "# Check if the sets have the same elements\n",
    "result = have_same_elements(set1, set2)\n",
    "\n",
    "# Print the result\n",
    "if result:\n",
    "    print(\"The sets have the same elements.\")\n",
    "else:\n",
    "    print(\"The sets do not have the same elements.\")"
   ]
  },
  {
   "cell_type": "markdown",
   "id": "112943a6-56fc-47ef-9ff7-4305447c1150",
   "metadata": {},
   "source": [
    "Q.45:Create a set of first n powers of 2:"
   ]
  },
  {
   "cell_type": "code",
   "execution_count": 5,
   "id": "eb21957c-e97b-437d-b085-66109cdc738e",
   "metadata": {},
   "outputs": [
    {
     "name": "stdout",
     "output_type": "stream",
     "text": [
      "{1, 2, 4, 8, 16}\n"
     ]
    }
   ],
   "source": [
    "def generate_powers_of_2(n):\n",
    "    # Initialize an empty set to store the powers of 2\n",
    "    powers_of_2 = set()\n",
    "\n",
    "    # Loop from 0 to n-1\n",
    "    for i in range(n):\n",
    "        # Calculate the current power of 2 using the exponentiation operator **\n",
    "        power = 2 ** i\n",
    "\n",
    "        # Add the current power of 2 to the set\n",
    "        powers_of_2.add(power)\n",
    "\n",
    "    # Return the set of powers of 2\n",
    "    return powers_of_2\n",
    "\n",
    "# Define the value of n\n",
    "n = 5\n",
    "\n",
    "# Call the function to generate the set of powers of 2\n",
    "powers_set = generate_powers_of_2(n)\n",
    "\n",
    "# Print the resulting set\n",
    "print(powers_set)"
   ]
  },
  {
   "cell_type": "markdown",
   "id": "6c43c3a7-bda3-48d5-9ff8-72742109b23f",
   "metadata": {},
   "source": [
    "Q.46. Find the common elements between a set and a list:"
   ]
  },
  {
   "cell_type": "code",
   "execution_count": 6,
   "id": "fa5432bc-9b94-40ba-a9b9-4591abdb8b52",
   "metadata": {},
   "outputs": [
    {
     "name": "stdout",
     "output_type": "stream",
     "text": [
      "Common elements: [7, 9, 12]\n"
     ]
    }
   ],
   "source": [
    "# Step 1: Define a set and a list\n",
    "my_set = {3, 7, 9, 12, 15}\n",
    "my_list = [7, 12, 5, 9]\n",
    "\n",
    "# Step 2: Convert the list to a set for efficient comparison\n",
    "list_to_set = set(my_list)\n",
    "\n",
    "# Step 3: Initialize an empty list to store common elements\n",
    "common_elements = []\n",
    "\n",
    "# Step 4: Iterate through the elements in the set\n",
    "for element in my_set:\n",
    "    # Step 5: Check if the element is present in the converted set (list_to_set)\n",
    "    if element in list_to_set:\n",
    "        # Step 6: If the element is present in both the set and the list, add it to the common_elements list\n",
    "        common_elements.append(element)\n",
    "\n",
    "# Step 7: Print the common elements\n",
    "print(\"Common elements:\", common_elements)"
   ]
  },
  {
   "cell_type": "markdown",
   "id": "6485e4b2-a0a5-4016-8987-bbe4d46fdbac",
   "metadata": {},
   "source": [
    "Q.47: create a set of first n triangular numbers"
   ]
  },
  {
   "cell_type": "code",
   "execution_count": 8,
   "id": "15d816bf-cc6a-4b06-a6a9-7e2b689f90be",
   "metadata": {},
   "outputs": [
    {
     "name": "stdin",
     "output_type": "stream",
     "text": [
      "Enter the value of n:  5\n"
     ]
    },
    {
     "name": "stdout",
     "output_type": "stream",
     "text": [
      "The set of the first 5 triangular numbers is: {1, 3, 6, 10, 15}\n"
     ]
    }
   ],
   "source": [
    "def generate_triangular_numbers(n):\n",
    "    triangular_numbers = set()  # Create an empty set to store the triangular numbers\n",
    "    for i in range(1, n + 1):\n",
    "        triangular_number = i * (i + 1) // 2  # Calculate the ith triangular number using the formula\n",
    "        triangular_numbers.add(triangular_number)  # Add the calculated triangular number to the set\n",
    "    return triangular_numbers\n",
    "\n",
    "# Input the value of 'n'\n",
    "n = int(input(\"Enter the value of n: \"))\n",
    "\n",
    "# Call the function to generate the set of first 'n' triangular numbers\n",
    "triangular_set = generate_triangular_numbers(n)\n",
    "\n",
    "# Display the set of triangular numbers\n",
    "print(f\"The set of the first {n} triangular numbers is:\", triangular_set)"
   ]
  },
  {
   "cell_type": "markdown",
   "id": "352ec9ae-b7f3-4273-bab3-45d76bd4c193",
   "metadata": {},
   "source": [
    "Q.48:Check if a set contains anther set as subset:"
   ]
  },
  {
   "cell_type": "code",
   "execution_count": 9,
   "id": "aa7720a5-e36e-4ac6-be7a-a16a7fd44734",
   "metadata": {},
   "outputs": [
    {
     "name": "stdout",
     "output_type": "stream",
     "text": [
      "set2 is a subset of set1\n"
     ]
    }
   ],
   "source": [
    "#Define two sets\n",
    "set1 = {1, 2, 3, 4, 5}\n",
    "set2 = {3, 4}\n",
    "\n",
    "# Check if set2 is a subset of set1\n",
    "is_subset = set2.issubset(set1)\n",
    "\n",
    "# Print the result\n",
    "if is_subset:\n",
    "    print(\"set2 is a subset of set1\")\n",
    "else:\n",
    "    print(\"set2 is not a subset of set1 \")"
   ]
  },
  {
   "cell_type": "markdown",
   "id": "d76fa199-a8e2-43fd-841c-cd37502c0ae0",
   "metadata": {},
   "source": [
    "Q.49:Create a set of alternating 0s and 1s:"
   ]
  },
  {
   "cell_type": "code",
   "execution_count": 10,
   "id": "f0c5dc94-0cda-452a-acd3-3c664f7de6a5",
   "metadata": {},
   "outputs": [
    {
     "name": "stdout",
     "output_type": "stream",
     "text": [
      "{0, 1}\n"
     ]
    }
   ],
   "source": [
    "def create_alternating_set(n):\n",
    "    # Initialize an empty set to store the alternating sequence.\n",
    "    alternating_set = set()\n",
    "\n",
    "    # Loop to generate alternating 1s and 0s.\n",
    "    for i in range(n):\n",
    "        # Alternate between adding 1 and 0 to the set based on whether i is even or odd.\n",
    "        if i % 2 == 0:\n",
    "            alternating_set.add(1)  # Add 1 if i is even.\n",
    "        else:\n",
    "            alternating_set.add(0)  # Add 0 if i is odd.\n",
    "\n",
    "    return alternating_set\n",
    "\n",
    "# Define the desired length of the alternating set.\n",
    "length_n = 10\n",
    "\n",
    "# Call the function to create the alternating set of length 'length_n'.\n",
    "result = create_alternating_set(length_n)\n",
    "\n",
    "# Print the resulting set.\n",
    "print(result)"
   ]
  },
  {
   "cell_type": "markdown",
   "id": "ef4b6890-1258-4702-969b-fd5483b8b604",
   "metadata": {},
   "source": [
    "Q.50: Merge multiple sets into one:"
   ]
  },
  {
   "cell_type": "code",
   "execution_count": 11,
   "id": "f1f12f8d-d66d-4dc0-b7b8-f9f3487d0b63",
   "metadata": {},
   "outputs": [
    {
     "name": "stdout",
     "output_type": "stream",
     "text": [
      "Merged Set: {1, 2, 3, 4, 5, 6, 7}\n"
     ]
    }
   ],
   "source": [
    "# Step 1: Create multiple sets\n",
    "set1 = {1, 2, 3}\n",
    "set2 = {3, 4, 5}\n",
    "set3 = {5, 6, 7}\n",
    "\n",
    "# Step 2: Use the union() method to merge sets\n",
    "merged_set = set1.union(set2, set3)\n",
    "\n",
    "# Alternatively, you can use the | operator\n",
    "# merged_set = set1 | set2 | set3\n",
    "\n",
    "# Step 3: Print the merged set\n",
    "print(\"Merged Set:\", merged_set)"
   ]
  },
  {
   "cell_type": "code",
   "execution_count": null,
   "id": "fb8b8b8b-9310-473d-bb52-5fe1bb2e6870",
   "metadata": {},
   "outputs": [],
   "source": []
  }
 ],
 "metadata": {
  "kernelspec": {
   "display_name": "Python 3 (ipykernel)",
   "language": "python",
   "name": "python3"
  },
  "language_info": {
   "codemirror_mode": {
    "name": "ipython",
    "version": 3
   },
   "file_extension": ".py",
   "mimetype": "text/x-python",
   "name": "python",
   "nbconvert_exporter": "python",
   "pygments_lexer": "ipython3",
   "version": "3.10.8"
  }
 },
 "nbformat": 4,
 "nbformat_minor": 5
}
